{
  "nbformat": 4,
  "nbformat_minor": 0,
  "metadata": {
    "colab": {
      "name": "information_retrieval.ipynb",
      "provenance": [],
      "collapsed_sections": [],
      "toc_visible": true
    },
    "kernelspec": {
      "display_name": "Python 3",
      "language": "python",
      "name": "python3"
    },
    "language_info": {
      "codemirror_mode": {
        "name": "ipython",
        "version": 3
      },
      "file_extension": ".py",
      "mimetype": "text/x-python",
      "name": "python",
      "nbconvert_exporter": "python",
      "pygments_lexer": "ipython3",
      "version": "3.7.6"
    }
  },
  "cells": [
    {
      "cell_type": "markdown",
      "metadata": {
        "id": "Vd_ST0GfO97y"
      },
      "source": [
        "# Информационный поиск \n",
        "\n",
        "Скачиваем классический набор данных — набор текстов об аэронавтике **CRANFIELD**. В случае возникновения проблем с загрузкой — [альтернативная ссылка](https://drive.google.com/file/d/1HDhTQUDJ9ZMKqewikRYQvrFd1nMLll4V/view)."
      ]
    },
    {
      "cell_type": "code",
      "metadata": {
        "colab": {
          "base_uri": "https://localhost:8080/"
        },
        "id": "AHflLH2APAHK",
        "outputId": "a717522d-b4ee-46e8-ca54-c208c9a138af"
      },
      "source": [
        "! wget -q http://ir.dcs.gla.ac.uk/resources/test_collections/cran/cran.tar.gz\n",
        "! tar -xvf cran.tar.gz\n",
        "! rm cran.tar.gz*"
      ],
      "execution_count": 1,
      "outputs": [
        {
          "output_type": "stream",
          "text": [
            "cran.all.1400\n",
            "cran.qry\n",
            "cranqrel\n",
            "cranqrel.readme\n"
          ],
          "name": "stdout"
        }
      ]
    },
    {
      "cell_type": "markdown",
      "metadata": {
        "id": "zYuND83cPR5D"
      },
      "source": [
        "Исходный файл **cran.qry** содержит в себе помимо запросов, индексы, от которых нужно избавиться. Берём только запросы, и помещаем их в файл **just.qry**."
      ]
    },
    {
      "cell_type": "code",
      "metadata": {
        "colab": {
          "base_uri": "https://localhost:8080/"
        },
        "id": "6owW-L7zhJws",
        "outputId": "98bf1d57-04c9-4fd7-e22f-a66dcc3bdba3"
      },
      "source": [
        "! grep -v \"^\\.\" cran.qry > just.qry\n",
        "! head -9 just.qry"
      ],
      "execution_count": 4,
      "outputs": [
        {
          "output_type": "stream",
          "text": [
            "what similarity laws must be obeyed when constructing aeroelastic models\r\n",
            "of heated high speed aircraft .\r\n",
            "what are the structural and aeroelastic problems associated with flight\r\n",
            "of high speed aircraft .\r\n",
            "what problems of heat conduction in composite slabs have been solved so\r\n",
            "far .\r\n",
            "can a criterion be developed to show empirically the validity of flow\r\n",
            "solutions for chemically reacting gas mixtures based on the simplifying\r\n",
            "assumption of instantaneous local chemical equilibrium .\r\n"
          ],
          "name": "stdout"
        }
      ]
    },
    {
      "cell_type": "markdown",
      "metadata": {
        "id": "8ZbUb6FmQxr1"
      },
      "source": [
        "Объединяем многострочные запросы в один."
      ]
    },
    {
      "cell_type": "code",
      "metadata": {
        "colab": {
          "base_uri": "https://localhost:8080/"
        },
        "id": "SBaV3xeQiUam",
        "outputId": "216df86b-96e6-41e0-d29f-14d65033c733"
      },
      "source": [
        "raw_query_data = [line.strip() for line in open(\"just.qry\", \"r\").readlines()]\n",
        "query_data = [\"\"]\n",
        "\n",
        "for query_part in raw_query_data:\n",
        "  query_data[-1] += query_part + \" \"\n",
        "  if query_part.endswith(\".\"):\n",
        "    query_data.append(\"\")\n",
        "\n",
        "query_data[:4] "
      ],
      "execution_count": 6,
      "outputs": [
        {
          "output_type": "execute_result",
          "data": {
            "text/plain": [
              "['what similarity laws must be obeyed when constructing aeroelastic models of heated high speed aircraft . ',\n",
              " 'what are the structural and aeroelastic problems associated with flight of high speed aircraft . ',\n",
              " 'what problems of heat conduction in composite slabs have been solved so far . ',\n",
              " 'can a criterion be developed to show empirically the validity of flow solutions for chemically reacting gas mixtures based on the simplifying assumption of instantaneous local chemical equilibrium . ']"
            ]
          },
          "metadata": {
            "tags": []
          },
          "execution_count": 6
        }
      ]
    },
    {
      "cell_type": "markdown",
      "metadata": {
        "id": "nLFq_6lBki3S"
      },
      "source": [
        "Составим список интересующих нас запросов."
      ]
    },
    {
      "cell_type": "code",
      "metadata": {
        "id": "h3sgHjWkjjR1"
      },
      "source": [
        "QUERIES = ['flow behaviour', 'flutter mechanism']"
      ],
      "execution_count": 7,
      "outputs": []
    },
    {
      "cell_type": "markdown",
      "metadata": {
        "id": "hQMdH0HSkoJg"
      },
      "source": [
        "Преобразуем каждый документ в битовую маску (**bitmask**). Битовая маска представляет из себя вектор, в котором на каждой позиции **1**, если в документе есть соответсвующий терм, и **0**, если искомого терма нет."
      ]
    },
    {
      "cell_type": "markdown",
      "metadata": {
        "id": "bNRis6tbYUx7"
      },
      "source": [
        "Для этого понадобится **CountVectorizer()** из библиотеки **scikit-learn**. В рамках поставленной задачи, важно использовать конкретную версию библиотеки."
      ]
    },
    {
      "cell_type": "code",
      "metadata": {
        "id": "lhrI18rZSLLz"
      },
      "source": [
        "! pip install -q scikit-learn==0.22.2.post1"
      ],
      "execution_count": 8,
      "outputs": []
    },
    {
      "cell_type": "code",
      "metadata": {
        "colab": {
          "base_uri": "https://localhost:8080/"
        },
        "id": "DbTOdsHIknD0",
        "outputId": "513288be-22f3-447e-9a4d-d0059b892182"
      },
      "source": [
        "from  sklearn.feature_extraction.text import CountVectorizer\n",
        "\n",
        "encoder = CountVectorizer(binary=True)\n",
        "encoded_data = encoder.fit_transform(query_data)\n",
        "encoded_queries = encoder.transform(QUERIES)\n",
        "list(encoder.vocabulary_)[:8]"
      ],
      "execution_count": 23,
      "outputs": [
        {
          "output_type": "execute_result",
          "data": {
            "text/plain": [
              "['what', 'similarity', 'laws', 'must', 'be', 'obeyed', 'when', 'constructing']"
            ]
          },
          "metadata": {
            "tags": []
          },
          "execution_count": 23
        }
      ]
    },
    {
      "cell_type": "markdown",
      "metadata": {
        "id": "oUdwKDKSTjdD"
      },
      "source": [
        "Посмотрим на представление первого предложения."
      ]
    },
    {
      "cell_type": "code",
      "metadata": {
        "colab": {
          "base_uri": "https://localhost:8080/"
        },
        "id": "oXEmXErylJdX",
        "outputId": "8bd04d15-2127-4e89-f713-996a1b94581f"
      },
      "source": [
        "id2term = {idx: term for term, idx in encoder.vocabulary_.items()}\n",
        "non_zero_values_ids = encoded_data[0].nonzero()[1]\n",
        "\n",
        "terms = [id2term[idx] for idx in non_zero_values_ids]\n",
        "terms"
      ],
      "execution_count": 24,
      "outputs": [
        {
          "output_type": "execute_result",
          "data": {
            "text/plain": [
              "['what',\n",
              " 'similarity',\n",
              " 'laws',\n",
              " 'must',\n",
              " 'be',\n",
              " 'obeyed',\n",
              " 'when',\n",
              " 'constructing',\n",
              " 'aeroelastic',\n",
              " 'models',\n",
              " 'of',\n",
              " 'heated',\n",
              " 'high',\n",
              " 'speed',\n",
              " 'aircraft']"
            ]
          },
          "metadata": {
            "tags": []
          },
          "execution_count": 24
        }
      ]
    },
    {
      "cell_type": "markdown",
      "metadata": {
        "id": "l8wdS9XiVwb2"
      },
      "source": [
        "Для каждого из запросов в **QUERIES** требуется найти ближайший для него документ из **query_data** по сходству Жаккара (**Jaccard index**). "
      ]
    },
    {
      "cell_type": "markdown",
      "metadata": {
        "id": "r6gvZ6Wlc88c"
      },
      "source": [
        "Это можно сделать с помощью метода **jaccard_score()** из библиотеки **scikit-learn**."
      ]
    },
    {
      "cell_type": "code",
      "metadata": {
        "id": "u31WuBYAUWt2"
      },
      "source": [
        "import numpy as np \n",
        "from sklearn.metrics import jaccard_score\n",
        "\n",
        "def jaccard_sim(vector_a: np.array, vector_b: np.array) -> float:\n",
        "  return jaccard_score(vector_a, vector_b)\n",
        "  \n",
        "assert jaccard_sim(np.array([1, 0, 1, 0, 1]), np.array([0, 1, 1, 1, 1])) == 0.4"
      ],
      "execution_count": 26,
      "outputs": []
    },
    {
      "cell_type": "markdown",
      "metadata": {
        "id": "RyuGcjXkY4nJ"
      },
      "source": [
        "В тестовых векторах, поданных на **assert jaccard_sim()** документы представлены как строки в терм-документной матрице (**document-term matrix**). Каждая ячейка вектора отвечает за наличие/отсутствие конкретного элемента (например, слова-терма, когда у нас в словаре всего 5 слов). В первом случае их три ([**1**, 0, **1**, 0, **1**]), во втором — четыре ([0, **1**, **1**, **1**, **1**]). Объединение (**Union**) — все пять возможных элементов. Пересечение (**Intersection**) — два. Следовательно Сходство Жаккара = intersection(vector_a, vector_b)/union(vector_a, vector_b) = 2/5 = **0.4**."
      ]
    },
    {
      "cell_type": "markdown",
      "metadata": {
        "id": "dYfQksWrOR1G"
      },
      "source": [
        "Вычислим для каждого запроса **QUERIES** самые близкие документы **query_data**."
      ]
    },
    {
      "cell_type": "code",
      "metadata": {
        "colab": {
          "base_uri": "https://localhost:8080/"
        },
        "id": "4okpFpA6OAQs",
        "outputId": "47c8eadf-9bf6-4dd7-ff5b-09e87ddb93a9"
      },
      "source": [
        "for q_id, query in enumerate(encoded_queries):\n",
        "  query = query.todense().A1\n",
        "  docs = [doc.todense().A1 for doc in encoded_data]\n",
        "  id2doc2similarity = [(doc_id, doc, jaccard_sim(query, doc)) for doc_id, doc in enumerate(docs)]\n",
        "  closest = sorted(id2doc2similarity, key=lambda x: x[2], reverse=True)\n",
        "  \n",
        "  print(\"Q: %s\\nFOUND:\" % QUERIES[q_id])\n",
        "  for closest_id, _, sim in closest[:3]:\n",
        "    print(\"    %d\\t%.2f\\t%s\" %(closest_id, sim, query_data[closest_id]))\n",
        "\n"
      ],
      "execution_count": 27,
      "outputs": [
        {
          "output_type": "stream",
          "text": [
            "Q: flow behaviour\n",
            "FOUND:\n",
            "    5\t0.14\twhat theoretical and experimental guides do we have as to turbulent couette flow behaviour . \n",
            "    29\t0.12\tpapers on flow visualization on slender conical wings . \n",
            "    8\t0.11\tpapers on internal /slip flow/ heat transfer studies . \n",
            "Q: flutter mechanism\n",
            "FOUND:\n",
            "    185\t0.17\texperimental studies on panel flutter . \n",
            "    56\t0.15\twhat are the significant steady and non-steady flow characteristics which affect the flutter mechanism . \n",
            "    12\t0.10\twhat is the basic mechanism of the transonic aileron buzz . \n"
          ],
          "name": "stdout"
        }
      ]
    },
    {
      "cell_type": "markdown",
      "metadata": {
        "id": "A1Fh8RdvOrAD"
      },
      "source": [
        "А теперь сделаем всё то же самое, но уже с помощью **TF-IDF** и Косинусного Расстояния (**Cosine Distance**)."
      ]
    },
    {
      "cell_type": "code",
      "metadata": {
        "colab": {
          "base_uri": "https://localhost:8080/"
        },
        "id": "DmpKMI08E2iO",
        "outputId": "4976c8e4-ecee-4245-e01f-46d670fc057b"
      },
      "source": [
        "from  sklearn.feature_extraction.text import TfidfVectorizer\n",
        "\n",
        "tfidf_encoder = TfidfVectorizer()\n",
        "tfidf_encoded_data = tfidf_encoder.fit_transform(query_data)\n",
        "tfidf_encoded_queries = tfidf_encoder.transform(QUERIES)\n",
        "\n",
        "list(tfidf_encoder.vocabulary_)[:8]"
      ],
      "execution_count": 30,
      "outputs": [
        {
          "output_type": "execute_result",
          "data": {
            "text/plain": [
              "['what', 'similarity', 'laws', 'must', 'be', 'obeyed', 'when', 'constructing']"
            ]
          },
          "metadata": {
            "tags": []
          },
          "execution_count": 30
        }
      ]
    },
    {
      "cell_type": "markdown",
      "metadata": {
        "id": "hHTzIjfNRHj2"
      },
      "source": [
        "Найдём Косинусное Расстояние (**Cosine Distance**) между двумя векторами. Для этого воспользуемся методом **cosine()** библиотеки **scipy**."
      ]
    },
    {
      "cell_type": "code",
      "metadata": {
        "id": "UCfgR6xEPeDn"
      },
      "source": [
        "import numpy as np \n",
        "import scipy.spatial.distance as ds\n",
        "\n",
        "def cosine_distance(vector_a: np.array, vector_b: np.array) -> float:\n",
        "  return ds.cosine(vector_a, vector_b)\n",
        "\n",
        "assert cosine_distance(np.array([1, 0, 1, 1, 1]), np.array([0, 0, 1, 0, 0])) == 0.5"
      ],
      "execution_count": 31,
      "outputs": []
    },
    {
      "cell_type": "markdown",
      "metadata": {
        "id": "vJHsaHoORlEC"
      },
      "source": [
        "\n",
        "Теперь вычислим ближайшие по **Косинусному Расстоянию** между векторными представлениями документов и запросов"
      ]
    },
    {
      "cell_type": "code",
      "metadata": {
        "colab": {
          "base_uri": "https://localhost:8080/"
        },
        "id": "fIZJRBKQQR1G",
        "outputId": "7bd22cb4-c7ac-4a8d-dd6e-7144adc14339"
      },
      "source": [
        "for q_id, query in enumerate(tfidf_encoded_queries):\n",
        "  query = query.todense().A1\n",
        "  docs = [doc.todense().A1 for doc in tfidf_encoded_data]\n",
        "  id2doc2similarity = [(doc_id, doc, cosine_distance(query, doc)) for doc_id, doc in enumerate(docs)]\n",
        "  closest = sorted(id2doc2similarity, key=lambda x: x[2], reverse=False)\n",
        "  \n",
        "  print(\"Q: %s\\nFOUND:\" % QUERIES[q_id])\n",
        "  \n",
        "  for closest_id, _, sim in closest[:3]:\n",
        "    print(\"    %d\\t%.2f\\t%s\" %(closest_id, sim, query_data[closest_id]))"
      ],
      "execution_count": 32,
      "outputs": [
        {
          "output_type": "stream",
          "text": [
            "Q: flow behaviour\n",
            "FOUND:\n",
            "    5\t0.65\twhat theoretical and experimental guides do we have as to turbulent couette flow behaviour . \n",
            "    149\t0.75\thas anyone developed an analysis which accurately establishes the large deflection behaviour of conical shells . \n",
            "    146\t0.77\tdoes a membrane theory exist by which the behaviour of pressurized membrane cylinders in bending can be predicted . \n",
            "Q: flutter mechanism\n",
            "FOUND:\n",
            "    56\t0.63\twhat are the significant steady and non-steady flow characteristics which affect the flutter mechanism . \n",
            "    12\t0.68\twhat is the basic mechanism of the transonic aileron buzz . \n",
            "    185\t0.72\texperimental studies on panel flutter . \n"
          ],
          "name": "stdout"
        },
        {
          "output_type": "stream",
          "text": [
            "/usr/local/lib/python3.7/dist-packages/scipy/spatial/distance.py:720: RuntimeWarning: invalid value encountered in double_scalars\n",
            "  dist = 1.0 - uv / np.sqrt(uu * vv)\n",
            "/usr/local/lib/python3.7/dist-packages/scipy/spatial/distance.py:720: RuntimeWarning: invalid value encountered in double_scalars\n",
            "  dist = 1.0 - uv / np.sqrt(uu * vv)\n"
          ],
          "name": "stderr"
        }
      ]
    }
  ]
}