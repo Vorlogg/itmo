{
  "nbformat": 4,
  "nbformat_minor": 0,
  "metadata": {
    "colab": {
      "name": "Task_5_P_Students.ipynb",
      "provenance": [],
      "collapsed_sections": [],
      "toc_visible": true
    },
    "kernelspec": {
      "display_name": "Python 3",
      "language": "python",
      "name": "python3"
    },
    "language_info": {
      "codemirror_mode": {
        "name": "ipython",
        "version": 3
      },
      "file_extension": ".py",
      "mimetype": "text/x-python",
      "name": "python",
      "nbconvert_exporter": "python",
      "pygments_lexer": "ipython3",
      "version": "3.7.6"
    }
  },
  "cells": [
    {
      "cell_type": "markdown",
      "metadata": {
        "id": "885nCnaEi6Zq"
      },
      "source": [
        "В этом задании мы рассмотрим работу UDpipe с двумя моделями:\n",
        "\n",
        "* предварительно обученной на SynTagRus [link](https://universaldependencies.org/treebanks/ru_syntagrus/index.html)\n",
        "* обученной на Taiga [link](https://universaldependencies.org/treebanks/ru_taiga/index.html)"
      ]
    },
    {
      "cell_type": "markdown",
      "metadata": {
        "id": "Xi3sqi2ni6Zw"
      },
      "source": [
        "## Подключение необходимых модулей"
      ]
    },
    {
      "cell_type": "code",
      "metadata": {
        "colab": {
          "base_uri": "https://localhost:8080/"
        },
        "id": "pFELL0b6i6Zz",
        "outputId": "cf60bb37-62ed-4503-c86c-b4152f0c0a82"
      },
      "source": [
        "! pip install -q conllu\n",
        "! pip install -q graphviz\n",
        "! pip install -q ufal.udpipe"
      ],
      "execution_count": 1,
      "outputs": [
        {
          "output_type": "stream",
          "text": [
            "\u001b[?25l\r\u001b[K     |█                               | 10kB 11.8MB/s eta 0:00:01\r\u001b[K     |██▏                             | 20kB 15.9MB/s eta 0:00:01\r\u001b[K     |███▎                            | 30kB 19.7MB/s eta 0:00:01\r\u001b[K     |████▎                           | 40kB 22.1MB/s eta 0:00:01\r\u001b[K     |█████▍                          | 51kB 9.3MB/s eta 0:00:01\r\u001b[K     |██████▌                         | 61kB 7.8MB/s eta 0:00:01\r\u001b[K     |███████▌                        | 71kB 8.1MB/s eta 0:00:01\r\u001b[K     |████████▋                       | 81kB 8.7MB/s eta 0:00:01\r\u001b[K     |█████████▊                      | 92kB 9.4MB/s eta 0:00:01\r\u001b[K     |██████████▊                     | 102kB 8.5MB/s eta 0:00:01\r\u001b[K     |███████████▉                    | 112kB 8.5MB/s eta 0:00:01\r\u001b[K     |█████████████                   | 122kB 8.5MB/s eta 0:00:01\r\u001b[K     |██████████████                  | 133kB 8.5MB/s eta 0:00:01\r\u001b[K     |███████████████                 | 143kB 8.5MB/s eta 0:00:01\r\u001b[K     |████████████████▏               | 153kB 8.5MB/s eta 0:00:01\r\u001b[K     |█████████████████▎              | 163kB 8.5MB/s eta 0:00:01\r\u001b[K     |██████████████████▎             | 174kB 8.5MB/s eta 0:00:01\r\u001b[K     |███████████████████▍            | 184kB 8.5MB/s eta 0:00:01\r\u001b[K     |████████████████████▌           | 194kB 8.5MB/s eta 0:00:01\r\u001b[K     |█████████████████████▌          | 204kB 8.5MB/s eta 0:00:01\r\u001b[K     |██████████████████████▋         | 215kB 8.5MB/s eta 0:00:01\r\u001b[K     |███████████████████████▊        | 225kB 8.5MB/s eta 0:00:01\r\u001b[K     |████████████████████████▉       | 235kB 8.5MB/s eta 0:00:01\r\u001b[K     |█████████████████████████▉      | 245kB 8.5MB/s eta 0:00:01\r\u001b[K     |███████████████████████████     | 256kB 8.5MB/s eta 0:00:01\r\u001b[K     |████████████████████████████    | 266kB 8.5MB/s eta 0:00:01\r\u001b[K     |█████████████████████████████   | 276kB 8.5MB/s eta 0:00:01\r\u001b[K     |██████████████████████████████▏ | 286kB 8.5MB/s eta 0:00:01\r\u001b[K     |███████████████████████████████▎| 296kB 8.5MB/s eta 0:00:01\r\u001b[K     |████████████████████████████████| 307kB 8.5MB/s \n",
            "\u001b[?25h  Building wheel for ufal.udpipe (setup.py) ... \u001b[?25l\u001b[?25hdone\n"
          ],
          "name": "stdout"
        }
      ]
    },
    {
      "cell_type": "markdown",
      "metadata": {
        "id": "-w82dt3Ki6aJ"
      },
      "source": [
        "## Загрузка моделей"
      ]
    },
    {
      "cell_type": "code",
      "metadata": {
        "id": "kDboaNgQi6aK"
      },
      "source": [
        "!wget -q 'https://lindat.mff.cuni.cz/repository/xmlui/bitstream/handle/11234/1-3131/russian-syntagrus-ud-2.5-191206.udpipe'\n",
        "!wget -q 'https://lindat.mff.cuni.cz/repository/xmlui/bitstream/handle/11234/1-3131/russian-taiga-ud-2.5-191206.udpipe'"
      ],
      "execution_count": 2,
      "outputs": []
    },
    {
      "cell_type": "markdown",
      "metadata": {
        "id": "05htpbLZi6as"
      },
      "source": [
        "На этом подготовка материалов завершена, переходим к написанию кода для синтаксического анализа"
      ]
    },
    {
      "cell_type": "markdown",
      "metadata": {
        "id": "4RfK9-zii6aw"
      },
      "source": [
        "## Подключение библиотек"
      ]
    },
    {
      "cell_type": "code",
      "metadata": {
        "id": "dmf7LI_0i6ax"
      },
      "source": [
        "import sys\n",
        "\n",
        "from conllu import parse\n",
        "from graphviz import Digraph\n",
        "from ufal.udpipe import Model, Pipeline, ProcessingError"
      ],
      "execution_count": 3,
      "outputs": []
    },
    {
      "cell_type": "markdown",
      "metadata": {
        "id": "ufl9Rvugi6a3"
      },
      "source": [
        "## Настройка работы с моделями"
      ]
    },
    {
      "cell_type": "code",
      "metadata": {
        "colab": {
          "base_uri": "https://localhost:8080/"
        },
        "id": "Rj7bbVu4i6a4",
        "outputId": "45083ac1-0ab9-4125-e9b1-6558c323e0aa"
      },
      "source": [
        "INPUT_FORMAT = \"tokenize\"\n",
        "OUTPUT_FORMAT = \"conllu\"\n",
        "SYNTAGRUS_MODEL_FILE = \"russian-syntagrus-ud-2.5-191206.udpipe\"\n",
        "TAIGA_MODEL_FILE = \"russian-taiga-ud-2.5-191206.udpipe\"\n",
        "\n",
        "print(\"Loading model:\" + SYNTAGRUS_MODEL_FILE)\n",
        "syntagrus_model = Model.load(SYNTAGRUS_MODEL_FILE)\n",
        "print(\"Loading done\")\n",
        "\n",
        "print(\"Loading model:\" + TAIGA_MODEL_FILE)\n",
        "taiga_model = Model.load(TAIGA_MODEL_FILE)\n",
        "print(\"Loading done\")"
      ],
      "execution_count": 4,
      "outputs": [
        {
          "output_type": "stream",
          "text": [
            "Loading model:russian-syntagrus-ud-2.5-191206.udpipe\n",
            "Loading done\n",
            "Loading model:russian-taiga-ud-2.5-191206.udpipe\n",
            "Loading done\n"
          ],
          "name": "stdout"
        }
      ]
    },
    {
      "cell_type": "markdown",
      "metadata": {
        "id": "eFV0w_Xmi6bA"
      },
      "source": [
        "## Построение цепочки обработки"
      ]
    },
    {
      "cell_type": "markdown",
      "metadata": {
        "id": "201ztaiki6bB"
      },
      "source": [
        "Строим цепочку обработки  -- от сырого текста до синтаксического дерева"
      ]
    },
    {
      "cell_type": "code",
      "metadata": {
        "id": "NQxfMF_3i6bC"
      },
      "source": [
        "syntagrus_pipeline = Pipeline(syntagrus_model, INPUT_FORMAT, \n",
        "                              Pipeline.DEFAULT, Pipeline.DEFAULT, OUTPUT_FORMAT)\n",
        "taiga_pipeline = Pipeline(taiga_model, INPUT_FORMAT, \n",
        "                          Pipeline.DEFAULT, Pipeline.DEFAULT, OUTPUT_FORMAT)\n",
        "\n",
        "error = ProcessingError()"
      ],
      "execution_count": 5,
      "outputs": []
    },
    {
      "cell_type": "markdown",
      "metadata": {
        "id": "4rmXlR1ei6bI"
      },
      "source": [
        "Применение собственно цепочки обработки к сырому тексту; вывод в формате CoNLL-U."
      ]
    },
    {
      "cell_type": "code",
      "metadata": {
        "id": "MJedzauNi6bJ"
      },
      "source": [
        "def parse_syntax(raw_text, pipeline):\n",
        "    \"\"\" Applying UDPipe \"\"\"\n",
        "    text = raw_text.strip()\n",
        "\n",
        "    # Process data\n",
        "    processed = pipeline.process(text, error)\n",
        "\n",
        "    if error.occurred():\n",
        "        sys.stderr.write(\"An error occurred when running run_udpipe: \")\n",
        "        sys.stderr.write(error.message)\n",
        "        sys.stderr.write(\"\\n\")\n",
        "\n",
        "    return processed"
      ],
      "execution_count": 6,
      "outputs": []
    },
    {
      "cell_type": "markdown",
      "metadata": {
        "id": "CHD7DOp3i6bP"
      },
      "source": [
        "Создадим два разбора, которые и будем сравнивать."
      ]
    },
    {
      "cell_type": "code",
      "metadata": {
        "id": "svFDIXCli6bS"
      },
      "source": [
        "syntag = parse_syntax(\"Сегодня даже численность населения этого государства является относительной величиной .\", syntagrus_pipeline)\n",
        "taiga = parse_syntax(\"Сегодня даже численность населения этого государства является относительной величиной .\", taiga_pipeline)"
      ],
      "execution_count": 37,
      "outputs": []
    },
    {
      "cell_type": "markdown",
      "metadata": {
        "id": "9JqN3OWvqbuV"
      },
      "source": [
        "Разбор предложения в текстовом виде будет выглядеть следующим образом:"
      ]
    },
    {
      "cell_type": "code",
      "metadata": {
        "colab": {
          "base_uri": "https://localhost:8080/"
        },
        "id": "IciMoyh0qbuW",
        "outputId": "cd8d2452-fde3-4904-c1dc-5e4a8f1b05a7"
      },
      "source": [
        "print(taiga)"
      ],
      "execution_count": 38,
      "outputs": [
        {
          "output_type": "stream",
          "text": [
            "# newdoc\n",
            "# newpar\n",
            "# sent_id = 1\n",
            "# text = Сегодня даже численность населения этого государства является относительной величиной .\n",
            "1\tСегодня\tсегодня\tADV\t_\tDegree=Pos\t7\tadvmod\t_\t_\n",
            "2\tдаже\tдаже\tPART\t_\t_\t3\tadvmod\t_\t_\n",
            "3\tчисленность\tчисленность\tNOUN\t_\tAnimacy=Inan|Case=Nom|Gender=Fem|Number=Sing\t7\tnsubj\t_\t_\n",
            "4\tнаселения\tнаселение\tNOUN\t_\tAnimacy=Inan|Case=Gen|Gender=Neut|Number=Sing\t3\tnmod\t_\t_\n",
            "5\tэтого\tэтот\tDET\t_\tAnimacy=Inan|Case=Gen|Gender=Neut|Number=Sing\t6\tdet\t_\t_\n",
            "6\tгосударства\tгосударство\tNOUN\tNOUN\tAnimacy=Inan|Case=Gen|Gender=Neut|Number=Sing\t4\tnmod\t_\t_\n",
            "7\tявляется\tявляться\tVERB\t_\tAspect=Imp|Mood=Ind|Number=Sing|Person=3|Tense=Pres|VerbForm=Fin|Voice=Mid\t0\troot\t_\t_\n",
            "8\tотносительной\tотносительный\tADJ\tADJ\tCase=Ins|Degree=Pos|Gender=Fem|Number=Sing\t9\tamod\t_\t_\n",
            "9\tвеличиной\tвеличина\tNOUN\tNOUN\tAnimacy=Inan|Case=Ins|Gender=Fem|Number=Sing\t7\tiobj\t_\t_\n",
            "10\t.\t.\tPUNCT\t_\t_\t7\tpunct\t_\tSpacesAfter=\\n\n",
            "\n",
            "\n"
          ],
          "name": "stdout"
        }
      ]
    },
    {
      "cell_type": "markdown",
      "metadata": {
        "id": "jYKnnwqVqbuZ"
      },
      "source": [
        "Понятно, что в таком виде производить расчеты не очень удобно. Для вычисления LAS и UAS сначала представим деревья разбора в виде графов."
      ]
    },
    {
      "cell_type": "markdown",
      "metadata": {
        "id": "LGkqQEi1qbua"
      },
      "source": [
        "## Графововое представление дерева разбора\n",
        "\n",
        "Методами библиотеки `conllu` превращаем выданный нам udpipe разбор в формате CoNLL-U в дерево, с которым удобно работать.\n",
        "\n",
        "С помощью стандартного обхода в ширину наполняем рёбрами объект Digraph для последующей визуализации дерева с помощью `graphviz`."
      ]
    },
    {
      "cell_type": "code",
      "metadata": {
        "id": "jQ6zzoRni6bo"
      },
      "source": [
        "from conllu import parse\n",
        "from graphviz import Digraph\n",
        "\n",
        "def parse_output(conll):\n",
        "    \"\"\"\n",
        "        Preparing the dependency tree for further processing\n",
        "    \"\"\"\n",
        "    sentences = parse(conll)\n",
        "    return [s.to_tree() for s  in sentences]\n",
        "\n",
        "\n",
        "class Root(object):\n",
        "  def __init__(self, child):\n",
        "    self.token = {\"form\": \"\", \"id\": 0, \"deprel\": \"root\"}\n",
        "    self.children = [child]\n",
        "\n",
        "def draw_tree(tree):\n",
        "    \"\"\" Drawing a dependency tree for debugging stuff \"\"\"\n",
        "\n",
        "    g = Digraph(format='png')\n",
        "\n",
        "    # a queue for tree traversal\n",
        "    queue = [Root(tree)]\n",
        "\n",
        "    while len(queue) > 0:\n",
        "      \n",
        "        head = queue.pop()\n",
        "        head_label = head.token[\"form\"] + \" (%d)\" % head.token[\"id\"]\n",
        "        queue.extend(head.children)\n",
        "\n",
        "        for c in head.children:\n",
        "            c_label = c.token[\"form\"] + \" (%d)\" %  c.token[\"id\"]\n",
        "            g.edge(head_label, c_label, label=c.token[\"deprel\"])\n",
        "\n",
        "    return g"
      ],
      "execution_count": 39,
      "outputs": []
    },
    {
      "cell_type": "markdown",
      "metadata": {
        "id": "PGp5oQbUi6cQ"
      },
      "source": [
        "Построим оба дерева"
      ]
    },
    {
      "cell_type": "code",
      "metadata": {
        "id": "woGZyXqCqbuf"
      },
      "source": [
        "str_tree = parse_output(syntag.strip())[0]\n",
        "taiga_tree = parse_output(taiga.strip())[0]"
      ],
      "execution_count": 40,
      "outputs": []
    },
    {
      "cell_type": "code",
      "metadata": {
        "colab": {
          "base_uri": "https://localhost:8080/",
          "height": 660
        },
        "id": "ICivSE4eqbuh",
        "outputId": "d9a0d90a-ec61-4074-cc5a-46892b090186"
      },
      "source": [
        "draw_tree(str_tree)"
      ],
      "execution_count": 41,
      "outputs": [
        {
          "output_type": "execute_result",
          "data": {
            "text/plain": [
              "<graphviz.dot.Digraph at 0x7f2ef14d0f50>"
            ],
            "image/svg+xml": "<?xml version=\"1.0\" encoding=\"UTF-8\" standalone=\"no\"?>\n<!DOCTYPE svg PUBLIC \"-//W3C//DTD SVG 1.1//EN\"\n \"http://www.w3.org/Graphics/SVG/1.1/DTD/svg11.dtd\">\n<!-- Generated by graphviz version 2.40.1 (20161225.0304)\n -->\n<!-- Title: %3 Pages: 1 -->\n<svg width=\"514pt\" height=\"479pt\"\n viewBox=\"0.00 0.00 513.74 479.00\" xmlns=\"http://www.w3.org/2000/svg\" xmlns:xlink=\"http://www.w3.org/1999/xlink\">\n<g id=\"graph0\" class=\"graph\" transform=\"scale(1 1) rotate(0) translate(4 475)\">\n<title>%3</title>\n<polygon fill=\"#ffffff\" stroke=\"transparent\" points=\"-4,4 -4,-475 509.7422,-475 509.7422,4 -4,4\"/>\n<!--  (0) -->\n<g id=\"node1\" class=\"node\">\n<title> (0)</title>\n<ellipse fill=\"none\" stroke=\"#000000\" cx=\"300.545\" cy=\"-453\" rx=\"27\" ry=\"18\"/>\n<text text-anchor=\"middle\" x=\"300.545\" y=\"-449.3\" font-family=\"Times,serif\" font-size=\"14.00\" fill=\"#000000\"> (0)</text>\n</g>\n<!-- является (7) -->\n<g id=\"node2\" class=\"node\">\n<title>является (7)</title>\n<ellipse fill=\"none\" stroke=\"#000000\" cx=\"300.545\" cy=\"-366\" rx=\"57.6901\" ry=\"18\"/>\n<text text-anchor=\"middle\" x=\"300.545\" y=\"-362.3\" font-family=\"Times,serif\" font-size=\"14.00\" fill=\"#000000\">является (7)</text>\n</g>\n<!--  (0)&#45;&gt;является (7) -->\n<g id=\"edge1\" class=\"edge\">\n<title> (0)&#45;&gt;является (7)</title>\n<path fill=\"none\" stroke=\"#000000\" d=\"M300.545,-434.9735C300.545,-423.1918 300.545,-407.5607 300.545,-394.1581\"/>\n<polygon fill=\"#000000\" stroke=\"#000000\" points=\"304.0451,-394.0033 300.545,-384.0034 297.0451,-394.0034 304.0451,-394.0033\"/>\n<text text-anchor=\"middle\" x=\"312.545\" y=\"-405.8\" font-family=\"Times,serif\" font-size=\"14.00\" fill=\"#000000\">root</text>\n</g>\n<!-- Сегодня (1) -->\n<g id=\"node3\" class=\"node\">\n<title>Сегодня (1)</title>\n<ellipse fill=\"none\" stroke=\"#000000\" cx=\"56.545\" cy=\"-279\" rx=\"56.59\" ry=\"18\"/>\n<text text-anchor=\"middle\" x=\"56.545\" y=\"-275.3\" font-family=\"Times,serif\" font-size=\"14.00\" fill=\"#000000\">Сегодня (1)</text>\n</g>\n<!-- является (7)&#45;&gt;Сегодня (1) -->\n<g id=\"edge2\" class=\"edge\">\n<title>является (7)&#45;&gt;Сегодня (1)</title>\n<path fill=\"none\" stroke=\"#000000\" d=\"M260.9438,-352.8288C240.986,-346.1203 216.435,-337.7605 194.545,-330 163.7773,-319.0922 129.3356,-306.3644 102.5567,-296.3525\"/>\n<polygon fill=\"#000000\" stroke=\"#000000\" points=\"103.6508,-293.0249 93.0585,-292.7952 101.1957,-299.5802 103.6508,-293.0249\"/>\n<text text-anchor=\"middle\" x=\"218.545\" y=\"-318.8\" font-family=\"Times,serif\" font-size=\"14.00\" fill=\"#000000\">advmod</text>\n</g>\n<!-- численность (3) -->\n<g id=\"node4\" class=\"node\">\n<title>численность (3)</title>\n<ellipse fill=\"none\" stroke=\"#000000\" cx=\"203.545\" cy=\"-279\" rx=\"72.5877\" ry=\"18\"/>\n<text text-anchor=\"middle\" x=\"203.545\" y=\"-275.3\" font-family=\"Times,serif\" font-size=\"14.00\" fill=\"#000000\">численность (3)</text>\n</g>\n<!-- является (7)&#45;&gt;численность (3) -->\n<g id=\"edge3\" class=\"edge\">\n<title>является (7)&#45;&gt;численность (3)</title>\n<path fill=\"none\" stroke=\"#000000\" d=\"M281.3809,-348.8116C266.8618,-335.7893 246.7242,-317.7277 230.5696,-303.2386\"/>\n<polygon fill=\"#000000\" stroke=\"#000000\" points=\"232.7826,-300.5219 223.0013,-296.4505 228.1087,-305.733 232.7826,-300.5219\"/>\n<text text-anchor=\"middle\" x=\"274.545\" y=\"-318.8\" font-family=\"Times,serif\" font-size=\"14.00\" fill=\"#000000\">nsubj</text>\n</g>\n<!-- величиной (9) -->\n<g id=\"node5\" class=\"node\">\n<title>величиной (9)</title>\n<ellipse fill=\"none\" stroke=\"#000000\" cx=\"359.545\" cy=\"-279\" rx=\"65.7887\" ry=\"18\"/>\n<text text-anchor=\"middle\" x=\"359.545\" y=\"-275.3\" font-family=\"Times,serif\" font-size=\"14.00\" fill=\"#000000\">величиной (9)</text>\n</g>\n<!-- является (7)&#45;&gt;величиной (9) -->\n<g id=\"edge4\" class=\"edge\">\n<title>является (7)&#45;&gt;величиной (9)</title>\n<path fill=\"none\" stroke=\"#000000\" d=\"M312.7698,-347.9735C321.1316,-335.6435 332.3524,-319.0975 341.7079,-305.3021\"/>\n<polygon fill=\"#000000\" stroke=\"#000000\" points=\"344.8217,-306.9465 347.5377,-296.7057 339.0282,-303.0176 344.8217,-306.9465\"/>\n<text text-anchor=\"middle\" x=\"344.045\" y=\"-318.8\" font-family=\"Times,serif\" font-size=\"14.00\" fill=\"#000000\">obl</text>\n</g>\n<!-- . (10) -->\n<g id=\"node6\" class=\"node\">\n<title>. (10)</title>\n<ellipse fill=\"none\" stroke=\"#000000\" cx=\"474.545\" cy=\"-279\" rx=\"31.3957\" ry=\"18\"/>\n<text text-anchor=\"middle\" x=\"474.545\" y=\"-275.3\" font-family=\"Times,serif\" font-size=\"14.00\" fill=\"#000000\">. (10)</text>\n</g>\n<!-- является (7)&#45;&gt;. (10) -->\n<g id=\"edge5\" class=\"edge\">\n<title>является (7)&#45;&gt;. (10)</title>\n<path fill=\"none\" stroke=\"#000000\" d=\"M331.2522,-350.6464C362.1977,-335.1736 409.7955,-311.3747 441.5366,-295.5042\"/>\n<polygon fill=\"#000000\" stroke=\"#000000\" points=\"443.4632,-298.4541 450.8422,-290.8514 440.3327,-292.1931 443.4632,-298.4541\"/>\n<text text-anchor=\"middle\" x=\"415.045\" y=\"-318.8\" font-family=\"Times,serif\" font-size=\"14.00\" fill=\"#000000\">punct</text>\n</g>\n<!-- даже (2) -->\n<g id=\"node8\" class=\"node\">\n<title>даже (2)</title>\n<ellipse fill=\"none\" stroke=\"#000000\" cx=\"79.545\" cy=\"-192\" rx=\"42.7926\" ry=\"18\"/>\n<text text-anchor=\"middle\" x=\"79.545\" y=\"-188.3\" font-family=\"Times,serif\" font-size=\"14.00\" fill=\"#000000\">даже (2)</text>\n</g>\n<!-- численность (3)&#45;&gt;даже (2) -->\n<g id=\"edge7\" class=\"edge\">\n<title>численность (3)&#45;&gt;даже (2)</title>\n<path fill=\"none\" stroke=\"#000000\" d=\"M178.9071,-262.0232C170.2431,-256.032 160.4491,-249.2355 151.545,-243 137.884,-233.4333 122.8199,-222.7794 110.0171,-213.6933\"/>\n<polygon fill=\"#000000\" stroke=\"#000000\" points=\"111.7394,-210.6236 101.5599,-207.6861 107.6857,-216.3304 111.7394,-210.6236\"/>\n<text text-anchor=\"middle\" x=\"175.545\" y=\"-231.8\" font-family=\"Times,serif\" font-size=\"14.00\" fill=\"#000000\">advmod</text>\n</g>\n<!-- населения (4) -->\n<g id=\"node9\" class=\"node\">\n<title>населения (4)</title>\n<ellipse fill=\"none\" stroke=\"#000000\" cx=\"203.545\" cy=\"-192\" rx=\"63.0888\" ry=\"18\"/>\n<text text-anchor=\"middle\" x=\"203.545\" y=\"-188.3\" font-family=\"Times,serif\" font-size=\"14.00\" fill=\"#000000\">населения (4)</text>\n</g>\n<!-- численность (3)&#45;&gt;населения (4) -->\n<g id=\"edge8\" class=\"edge\">\n<title>численность (3)&#45;&gt;населения (4)</title>\n<path fill=\"none\" stroke=\"#000000\" d=\"M203.545,-260.9735C203.545,-249.1918 203.545,-233.5607 203.545,-220.1581\"/>\n<polygon fill=\"#000000\" stroke=\"#000000\" points=\"207.0451,-220.0033 203.545,-210.0034 200.0451,-220.0034 207.0451,-220.0033\"/>\n<text text-anchor=\"middle\" x=\"220.545\" y=\"-231.8\" font-family=\"Times,serif\" font-size=\"14.00\" fill=\"#000000\">nmod</text>\n</g>\n<!-- относительной (8) -->\n<g id=\"node7\" class=\"node\">\n<title>относительной (8)</title>\n<ellipse fill=\"none\" stroke=\"#000000\" cx=\"367.545\" cy=\"-192\" rx=\"82.5854\" ry=\"18\"/>\n<text text-anchor=\"middle\" x=\"367.545\" y=\"-188.3\" font-family=\"Times,serif\" font-size=\"14.00\" fill=\"#000000\">относительной (8)</text>\n</g>\n<!-- величиной (9)&#45;&gt;относительной (8) -->\n<g id=\"edge6\" class=\"edge\">\n<title>величиной (9)&#45;&gt;относительной (8)</title>\n<path fill=\"none\" stroke=\"#000000\" d=\"M361.2026,-260.9735C362.286,-249.1918 363.7233,-233.5607 364.9557,-220.1581\"/>\n<polygon fill=\"#000000\" stroke=\"#000000\" points=\"368.459,-220.2819 365.8895,-210.0034 361.4884,-219.6408 368.459,-220.2819\"/>\n<text text-anchor=\"middle\" x=\"381.045\" y=\"-231.8\" font-family=\"Times,serif\" font-size=\"14.00\" fill=\"#000000\">amod</text>\n</g>\n<!-- государства (6) -->\n<g id=\"node10\" class=\"node\">\n<title>государства (6)</title>\n<ellipse fill=\"none\" stroke=\"#000000\" cx=\"203.545\" cy=\"-105\" rx=\"70.6878\" ry=\"18\"/>\n<text text-anchor=\"middle\" x=\"203.545\" y=\"-101.3\" font-family=\"Times,serif\" font-size=\"14.00\" fill=\"#000000\">государства (6)</text>\n</g>\n<!-- населения (4)&#45;&gt;государства (6) -->\n<g id=\"edge9\" class=\"edge\">\n<title>населения (4)&#45;&gt;государства (6)</title>\n<path fill=\"none\" stroke=\"#000000\" d=\"M203.545,-173.9735C203.545,-162.1918 203.545,-146.5607 203.545,-133.1581\"/>\n<polygon fill=\"#000000\" stroke=\"#000000\" points=\"207.0451,-133.0033 203.545,-123.0034 200.0451,-133.0034 207.0451,-133.0033\"/>\n<text text-anchor=\"middle\" x=\"220.545\" y=\"-144.8\" font-family=\"Times,serif\" font-size=\"14.00\" fill=\"#000000\">nmod</text>\n</g>\n<!-- этого (5) -->\n<g id=\"node11\" class=\"node\">\n<title>этого (5)</title>\n<ellipse fill=\"none\" stroke=\"#000000\" cx=\"203.545\" cy=\"-18\" rx=\"45.4919\" ry=\"18\"/>\n<text text-anchor=\"middle\" x=\"203.545\" y=\"-14.3\" font-family=\"Times,serif\" font-size=\"14.00\" fill=\"#000000\">этого (5)</text>\n</g>\n<!-- государства (6)&#45;&gt;этого (5) -->\n<g id=\"edge10\" class=\"edge\">\n<title>государства (6)&#45;&gt;этого (5)</title>\n<path fill=\"none\" stroke=\"#000000\" d=\"M203.545,-86.9735C203.545,-75.1918 203.545,-59.5607 203.545,-46.1581\"/>\n<polygon fill=\"#000000\" stroke=\"#000000\" points=\"207.0451,-46.0033 203.545,-36.0034 200.0451,-46.0034 207.0451,-46.0033\"/>\n<text text-anchor=\"middle\" x=\"212.545\" y=\"-57.8\" font-family=\"Times,serif\" font-size=\"14.00\" fill=\"#000000\">det</text>\n</g>\n</g>\n</svg>\n"
          },
          "metadata": {
            "tags": []
          },
          "execution_count": 41
        }
      ]
    },
    {
      "cell_type": "code",
      "metadata": {
        "colab": {
          "base_uri": "https://localhost:8080/",
          "height": 660
        },
        "id": "a_8Oxw6Bqbuj",
        "outputId": "dcf5874b-eccf-41f8-f798-5f040fbd9a1a"
      },
      "source": [
        "draw_tree(taiga_tree)"
      ],
      "execution_count": 42,
      "outputs": [
        {
          "output_type": "execute_result",
          "data": {
            "text/plain": [
              "<graphviz.dot.Digraph at 0x7f2ef1907610>"
            ],
            "image/svg+xml": "<?xml version=\"1.0\" encoding=\"UTF-8\" standalone=\"no\"?>\n<!DOCTYPE svg PUBLIC \"-//W3C//DTD SVG 1.1//EN\"\n \"http://www.w3.org/Graphics/SVG/1.1/DTD/svg11.dtd\">\n<!-- Generated by graphviz version 2.40.1 (20161225.0304)\n -->\n<!-- Title: %3 Pages: 1 -->\n<svg width=\"514pt\" height=\"479pt\"\n viewBox=\"0.00 0.00 513.74 479.00\" xmlns=\"http://www.w3.org/2000/svg\" xmlns:xlink=\"http://www.w3.org/1999/xlink\">\n<g id=\"graph0\" class=\"graph\" transform=\"scale(1 1) rotate(0) translate(4 475)\">\n<title>%3</title>\n<polygon fill=\"#ffffff\" stroke=\"transparent\" points=\"-4,4 -4,-475 509.7422,-475 509.7422,4 -4,4\"/>\n<!--  (0) -->\n<g id=\"node1\" class=\"node\">\n<title> (0)</title>\n<ellipse fill=\"none\" stroke=\"#000000\" cx=\"300.545\" cy=\"-453\" rx=\"27\" ry=\"18\"/>\n<text text-anchor=\"middle\" x=\"300.545\" y=\"-449.3\" font-family=\"Times,serif\" font-size=\"14.00\" fill=\"#000000\"> (0)</text>\n</g>\n<!-- является (7) -->\n<g id=\"node2\" class=\"node\">\n<title>является (7)</title>\n<ellipse fill=\"none\" stroke=\"#000000\" cx=\"300.545\" cy=\"-366\" rx=\"57.6901\" ry=\"18\"/>\n<text text-anchor=\"middle\" x=\"300.545\" y=\"-362.3\" font-family=\"Times,serif\" font-size=\"14.00\" fill=\"#000000\">является (7)</text>\n</g>\n<!--  (0)&#45;&gt;является (7) -->\n<g id=\"edge1\" class=\"edge\">\n<title> (0)&#45;&gt;является (7)</title>\n<path fill=\"none\" stroke=\"#000000\" d=\"M300.545,-434.9735C300.545,-423.1918 300.545,-407.5607 300.545,-394.1581\"/>\n<polygon fill=\"#000000\" stroke=\"#000000\" points=\"304.0451,-394.0033 300.545,-384.0034 297.0451,-394.0034 304.0451,-394.0033\"/>\n<text text-anchor=\"middle\" x=\"312.545\" y=\"-405.8\" font-family=\"Times,serif\" font-size=\"14.00\" fill=\"#000000\">root</text>\n</g>\n<!-- Сегодня (1) -->\n<g id=\"node3\" class=\"node\">\n<title>Сегодня (1)</title>\n<ellipse fill=\"none\" stroke=\"#000000\" cx=\"56.545\" cy=\"-279\" rx=\"56.59\" ry=\"18\"/>\n<text text-anchor=\"middle\" x=\"56.545\" y=\"-275.3\" font-family=\"Times,serif\" font-size=\"14.00\" fill=\"#000000\">Сегодня (1)</text>\n</g>\n<!-- является (7)&#45;&gt;Сегодня (1) -->\n<g id=\"edge2\" class=\"edge\">\n<title>является (7)&#45;&gt;Сегодня (1)</title>\n<path fill=\"none\" stroke=\"#000000\" d=\"M260.9438,-352.8288C240.986,-346.1203 216.435,-337.7605 194.545,-330 163.7773,-319.0922 129.3356,-306.3644 102.5567,-296.3525\"/>\n<polygon fill=\"#000000\" stroke=\"#000000\" points=\"103.6508,-293.0249 93.0585,-292.7952 101.1957,-299.5802 103.6508,-293.0249\"/>\n<text text-anchor=\"middle\" x=\"218.545\" y=\"-318.8\" font-family=\"Times,serif\" font-size=\"14.00\" fill=\"#000000\">advmod</text>\n</g>\n<!-- численность (3) -->\n<g id=\"node4\" class=\"node\">\n<title>численность (3)</title>\n<ellipse fill=\"none\" stroke=\"#000000\" cx=\"203.545\" cy=\"-279\" rx=\"72.5877\" ry=\"18\"/>\n<text text-anchor=\"middle\" x=\"203.545\" y=\"-275.3\" font-family=\"Times,serif\" font-size=\"14.00\" fill=\"#000000\">численность (3)</text>\n</g>\n<!-- является (7)&#45;&gt;численность (3) -->\n<g id=\"edge3\" class=\"edge\">\n<title>является (7)&#45;&gt;численность (3)</title>\n<path fill=\"none\" stroke=\"#000000\" d=\"M281.3809,-348.8116C266.8618,-335.7893 246.7242,-317.7277 230.5696,-303.2386\"/>\n<polygon fill=\"#000000\" stroke=\"#000000\" points=\"232.7826,-300.5219 223.0013,-296.4505 228.1087,-305.733 232.7826,-300.5219\"/>\n<text text-anchor=\"middle\" x=\"274.545\" y=\"-318.8\" font-family=\"Times,serif\" font-size=\"14.00\" fill=\"#000000\">nsubj</text>\n</g>\n<!-- величиной (9) -->\n<g id=\"node5\" class=\"node\">\n<title>величиной (9)</title>\n<ellipse fill=\"none\" stroke=\"#000000\" cx=\"359.545\" cy=\"-279\" rx=\"65.7887\" ry=\"18\"/>\n<text text-anchor=\"middle\" x=\"359.545\" y=\"-275.3\" font-family=\"Times,serif\" font-size=\"14.00\" fill=\"#000000\">величиной (9)</text>\n</g>\n<!-- является (7)&#45;&gt;величиной (9) -->\n<g id=\"edge4\" class=\"edge\">\n<title>является (7)&#45;&gt;величиной (9)</title>\n<path fill=\"none\" stroke=\"#000000\" d=\"M312.7698,-347.9735C321.1316,-335.6435 332.3524,-319.0975 341.7079,-305.3021\"/>\n<polygon fill=\"#000000\" stroke=\"#000000\" points=\"344.8217,-306.9465 347.5377,-296.7057 339.0282,-303.0176 344.8217,-306.9465\"/>\n<text text-anchor=\"middle\" x=\"346.045\" y=\"-318.8\" font-family=\"Times,serif\" font-size=\"14.00\" fill=\"#000000\">iobj</text>\n</g>\n<!-- . (10) -->\n<g id=\"node6\" class=\"node\">\n<title>. (10)</title>\n<ellipse fill=\"none\" stroke=\"#000000\" cx=\"474.545\" cy=\"-279\" rx=\"31.3957\" ry=\"18\"/>\n<text text-anchor=\"middle\" x=\"474.545\" y=\"-275.3\" font-family=\"Times,serif\" font-size=\"14.00\" fill=\"#000000\">. (10)</text>\n</g>\n<!-- является (7)&#45;&gt;. (10) -->\n<g id=\"edge5\" class=\"edge\">\n<title>является (7)&#45;&gt;. (10)</title>\n<path fill=\"none\" stroke=\"#000000\" d=\"M331.2522,-350.6464C362.1977,-335.1736 409.7955,-311.3747 441.5366,-295.5042\"/>\n<polygon fill=\"#000000\" stroke=\"#000000\" points=\"443.4632,-298.4541 450.8422,-290.8514 440.3327,-292.1931 443.4632,-298.4541\"/>\n<text text-anchor=\"middle\" x=\"415.045\" y=\"-318.8\" font-family=\"Times,serif\" font-size=\"14.00\" fill=\"#000000\">punct</text>\n</g>\n<!-- даже (2) -->\n<g id=\"node8\" class=\"node\">\n<title>даже (2)</title>\n<ellipse fill=\"none\" stroke=\"#000000\" cx=\"79.545\" cy=\"-192\" rx=\"42.7926\" ry=\"18\"/>\n<text text-anchor=\"middle\" x=\"79.545\" y=\"-188.3\" font-family=\"Times,serif\" font-size=\"14.00\" fill=\"#000000\">даже (2)</text>\n</g>\n<!-- численность (3)&#45;&gt;даже (2) -->\n<g id=\"edge7\" class=\"edge\">\n<title>численность (3)&#45;&gt;даже (2)</title>\n<path fill=\"none\" stroke=\"#000000\" d=\"M178.9071,-262.0232C170.2431,-256.032 160.4491,-249.2355 151.545,-243 137.884,-233.4333 122.8199,-222.7794 110.0171,-213.6933\"/>\n<polygon fill=\"#000000\" stroke=\"#000000\" points=\"111.7394,-210.6236 101.5599,-207.6861 107.6857,-216.3304 111.7394,-210.6236\"/>\n<text text-anchor=\"middle\" x=\"175.545\" y=\"-231.8\" font-family=\"Times,serif\" font-size=\"14.00\" fill=\"#000000\">advmod</text>\n</g>\n<!-- населения (4) -->\n<g id=\"node9\" class=\"node\">\n<title>населения (4)</title>\n<ellipse fill=\"none\" stroke=\"#000000\" cx=\"203.545\" cy=\"-192\" rx=\"63.0888\" ry=\"18\"/>\n<text text-anchor=\"middle\" x=\"203.545\" y=\"-188.3\" font-family=\"Times,serif\" font-size=\"14.00\" fill=\"#000000\">населения (4)</text>\n</g>\n<!-- численность (3)&#45;&gt;населения (4) -->\n<g id=\"edge8\" class=\"edge\">\n<title>численность (3)&#45;&gt;населения (4)</title>\n<path fill=\"none\" stroke=\"#000000\" d=\"M203.545,-260.9735C203.545,-249.1918 203.545,-233.5607 203.545,-220.1581\"/>\n<polygon fill=\"#000000\" stroke=\"#000000\" points=\"207.0451,-220.0033 203.545,-210.0034 200.0451,-220.0034 207.0451,-220.0033\"/>\n<text text-anchor=\"middle\" x=\"220.545\" y=\"-231.8\" font-family=\"Times,serif\" font-size=\"14.00\" fill=\"#000000\">nmod</text>\n</g>\n<!-- относительной (8) -->\n<g id=\"node7\" class=\"node\">\n<title>относительной (8)</title>\n<ellipse fill=\"none\" stroke=\"#000000\" cx=\"367.545\" cy=\"-192\" rx=\"82.5854\" ry=\"18\"/>\n<text text-anchor=\"middle\" x=\"367.545\" y=\"-188.3\" font-family=\"Times,serif\" font-size=\"14.00\" fill=\"#000000\">относительной (8)</text>\n</g>\n<!-- величиной (9)&#45;&gt;относительной (8) -->\n<g id=\"edge6\" class=\"edge\">\n<title>величиной (9)&#45;&gt;относительной (8)</title>\n<path fill=\"none\" stroke=\"#000000\" d=\"M361.2026,-260.9735C362.286,-249.1918 363.7233,-233.5607 364.9557,-220.1581\"/>\n<polygon fill=\"#000000\" stroke=\"#000000\" points=\"368.459,-220.2819 365.8895,-210.0034 361.4884,-219.6408 368.459,-220.2819\"/>\n<text text-anchor=\"middle\" x=\"381.045\" y=\"-231.8\" font-family=\"Times,serif\" font-size=\"14.00\" fill=\"#000000\">amod</text>\n</g>\n<!-- государства (6) -->\n<g id=\"node10\" class=\"node\">\n<title>государства (6)</title>\n<ellipse fill=\"none\" stroke=\"#000000\" cx=\"203.545\" cy=\"-105\" rx=\"70.6878\" ry=\"18\"/>\n<text text-anchor=\"middle\" x=\"203.545\" y=\"-101.3\" font-family=\"Times,serif\" font-size=\"14.00\" fill=\"#000000\">государства (6)</text>\n</g>\n<!-- населения (4)&#45;&gt;государства (6) -->\n<g id=\"edge9\" class=\"edge\">\n<title>населения (4)&#45;&gt;государства (6)</title>\n<path fill=\"none\" stroke=\"#000000\" d=\"M203.545,-173.9735C203.545,-162.1918 203.545,-146.5607 203.545,-133.1581\"/>\n<polygon fill=\"#000000\" stroke=\"#000000\" points=\"207.0451,-133.0033 203.545,-123.0034 200.0451,-133.0034 207.0451,-133.0033\"/>\n<text text-anchor=\"middle\" x=\"220.545\" y=\"-144.8\" font-family=\"Times,serif\" font-size=\"14.00\" fill=\"#000000\">nmod</text>\n</g>\n<!-- этого (5) -->\n<g id=\"node11\" class=\"node\">\n<title>этого (5)</title>\n<ellipse fill=\"none\" stroke=\"#000000\" cx=\"203.545\" cy=\"-18\" rx=\"45.4919\" ry=\"18\"/>\n<text text-anchor=\"middle\" x=\"203.545\" y=\"-14.3\" font-family=\"Times,serif\" font-size=\"14.00\" fill=\"#000000\">этого (5)</text>\n</g>\n<!-- государства (6)&#45;&gt;этого (5) -->\n<g id=\"edge10\" class=\"edge\">\n<title>государства (6)&#45;&gt;этого (5)</title>\n<path fill=\"none\" stroke=\"#000000\" d=\"M203.545,-86.9735C203.545,-75.1918 203.545,-59.5607 203.545,-46.1581\"/>\n<polygon fill=\"#000000\" stroke=\"#000000\" points=\"207.0451,-46.0033 203.545,-36.0034 200.0451,-46.0034 207.0451,-46.0033\"/>\n<text text-anchor=\"middle\" x=\"212.545\" y=\"-57.8\" font-family=\"Times,serif\" font-size=\"14.00\" fill=\"#000000\">det</text>\n</g>\n</g>\n</svg>\n"
          },
          "metadata": {
            "tags": []
          },
          "execution_count": 42
        }
      ]
    },
    {
      "cell_type": "markdown",
      "metadata": {
        "id": "jU8n4urmqbul"
      },
      "source": [
        "Теперь можно переходить к расчету метрик"
      ]
    },
    {
      "cell_type": "markdown",
      "metadata": {
        "id": "VI1qm9bGqbuo"
      },
      "source": [
        "## Вычисление LAS и UAS\n",
        "\n",
        "Для этого набираем множества всех рёбер с метками и без и смотрим на размеры пересечений."
      ]
    },
    {
      "cell_type": "code",
      "metadata": {
        "id": "fEetAmXx6wAM"
      },
      "source": [
        "def edges_sets(tree):\n",
        "  \"\"\" Reading edges encoded as strings \"\"\"\n",
        "\n",
        "  edges_labeled = []\n",
        "  edges_unlabeled = []\n",
        "  queue = [Root(tree)]\n",
        "  \n",
        "  while len(queue) > 0:\n",
        "    head = queue.pop()\n",
        "    head_label = head.token[\"form\"] + \" (%d)\" % head.token[\"id\"]\n",
        "    queue.extend(head.children)\n",
        "    \n",
        "    for c in head.children:\n",
        "      c_label = c.token[\"form\"] + \" (%d)\" %  c.token[\"id\"]\n",
        "      edges_unlabeled.append((head_label, c_label))\n",
        "      edges_labeled.append((head_label, c_label, c.token[\"deprel\"]))\n",
        "  \n",
        "  return set(edges_labeled), set(edges_unlabeled)"
      ],
      "execution_count": 43,
      "outputs": []
    },
    {
      "cell_type": "code",
      "metadata": {
        "colab": {
          "base_uri": "https://localhost:8080/",
          "height": 35
        },
        "id": "SCT4HgK_i6cU",
        "outputId": "c411f2de-e2f5-4d8c-acb7-ce0302f3cf8c"
      },
      "source": [
        "def accuracy(gold, pred):\n",
        "  gold_labeled, gold_unlabeled = edges_sets(gold)\n",
        "  pred_labeled, pred_unlabeled = edges_sets(pred)\n",
        "\n",
        "  return len(gold_labeled.intersection(pred_labeled)) / len(gold_labeled), \\\n",
        "          len(gold_unlabeled.intersection(pred_unlabeled)) / len(gold_unlabeled)\n",
        "\n",
        "LAS, UAS = accuracy(str_tree, taiga_tree)\n",
        "\"LAS: %.4f UAS: %.4f\" % (LAS, UAS)"
      ],
      "execution_count": 44,
      "outputs": [
        {
          "output_type": "execute_result",
          "data": {
            "application/vnd.google.colaboratory.intrinsic+json": {
              "type": "string"
            },
            "text/plain": [
              "'LAS: 0.9000 UAS: 1.0000'"
            ]
          },
          "metadata": {
            "tags": []
          },
          "execution_count": 44
        }
      ]
    },
    {
      "cell_type": "markdown",
      "metadata": {
        "id": "XPsQ9gBtrKVL"
      },
      "source": [
        "Можно заметить, что в первом случае слово <code>башмачки</code> зависит от слова <code>порвались</code>, а во втором -- от слова <code>скалы</code>.\n",
        "Отдельно хотим напомнить, что таким образом корректно сравнивать парсеры только в том случае, когда токензация полностью совпадает."
      ]
    },
    {
      "cell_type": "markdown",
      "metadata": {
        "id": "n08jVsZwu_5R"
      },
      "source": [
        "## Вычисление глубины дерева"
      ]
    },
    {
      "cell_type": "markdown",
      "metadata": {
        "id": "B9LoRI_Hu_5R"
      },
      "source": [
        "Вычислим глубину дерева, например, для разбора модели taiga (ребро root не учитывается).\n",
        "\n",
        "Для этого также можно использовать, например, обход в ширину."
      ]
    },
    {
      "cell_type": "code",
      "metadata": {
        "colab": {
          "base_uri": "https://localhost:8080/"
        },
        "id": "_WKDvvPxi6cX",
        "outputId": "00f8e392-4a83-401c-afde-4fb0c4bd9156"
      },
      "source": [
        "depth = 0\n",
        "queue = [(taiga_tree, depth)]\n",
        "\n",
        "while len(queue) > 0:\n",
        "    head, depth = queue.pop(0)\n",
        "    queue.extend([(c, depth + 1) for c in head.children])\n",
        "    #print(\"checking\", head.token[\"form\"])\n",
        "    \n",
        "print(\"Глубина дерева: \", depth)"
      ],
      "execution_count": 45,
      "outputs": [
        {
          "output_type": "stream",
          "text": [
            "Глубина дерева:  4\n"
          ],
          "name": "stdout"
        }
      ]
    },
    {
      "cell_type": "code",
      "metadata": {
        "id": "45zc-ojN5uph"
      },
      "source": [
        ""
      ],
      "execution_count": null,
      "outputs": []
    },
    {
      "cell_type": "code",
      "metadata": {
        "colab": {
          "base_uri": "https://localhost:8080/"
        },
        "id": "cT56qIx6o3yL",
        "outputId": "9849d0bf-708a-4552-bdcb-9823e21385e6"
      },
      "source": [
        "depth = 0\n",
        "queue = [(str_tree, depth)]\n",
        "\n",
        "while len(queue) > 0:\n",
        "    head, depth = queue.pop(0)\n",
        "    queue.extend([(c, depth + 1) for c in head.children])\n",
        "    #print(\"checking\", head.token[\"form\"])\n",
        "    \n",
        "print(\"Глубина дерева: \", depth)"
      ],
      "execution_count": 46,
      "outputs": [
        {
          "output_type": "stream",
          "text": [
            "Глубина дерева:  4\n"
          ],
          "name": "stdout"
        }
      ]
    }
  ]
}