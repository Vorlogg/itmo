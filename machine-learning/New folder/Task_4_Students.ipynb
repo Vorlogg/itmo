{
  "nbformat": 4,
  "nbformat_minor": 0,
  "metadata": {
    "colab": {
      "name": "Task_4_Students.ipynb",
      "provenance": [],
      "collapsed_sections": [],
      "toc_visible": true
    },
    "kernelspec": {
      "display_name": "Python 3",
      "language": "python",
      "name": "python3"
    },
    "language_info": {
      "codemirror_mode": {
        "name": "ipython",
        "version": 3
      },
      "file_extension": ".py",
      "mimetype": "text/x-python",
      "name": "python",
      "nbconvert_exporter": "python",
      "pygments_lexer": "ipython3",
      "version": "3.7.6"
    }
  },
  "cells": [
    {
      "cell_type": "markdown",
      "metadata": {
        "id": "yLYpSPDlW9LC"
      },
      "source": [
        "## Скачиваем необходимое\n",
        "\n",
        "Сначала нужно средствами NLTK загрузить WordNet.\n",
        "\n"
      ]
    },
    {
      "cell_type": "code",
      "metadata": {
        "colab": {
          "base_uri": "https://localhost:8080/"
        },
        "id": "YhTQ6EFXZ5R9",
        "outputId": "bc873d38-7174-4811-e517-f6a22ed98c53"
      },
      "source": [
        "import nltk\n",
        "from nltk.corpus import wordnet as wn\n",
        "nltk.download('wordnet')"
      ],
      "execution_count": 1,
      "outputs": [
        {
          "output_type": "stream",
          "text": [
            "[nltk_data] Downloading package wordnet to /root/nltk_data...\n",
            "[nltk_data]   Unzipping corpora/wordnet.zip.\n"
          ],
          "name": "stdout"
        },
        {
          "output_type": "execute_result",
          "data": {
            "text/plain": [
              "True"
            ]
          },
          "metadata": {
            "tags": []
          },
          "execution_count": 1
        }
      ]
    },
    {
      "cell_type": "markdown",
      "metadata": {
        "id": "EIQ4rEytvwLZ"
      },
      "source": [
        "## Готовим данные к работе\n",
        "\n",
        "Затем импортируем данные из подготовленного текстового файла. Файл содержит набор пар слов (только имён существительных), для которых известны экспертные оценки сходства.\n",
        "\n",
        "Строим ассоциативный массив \"пара слов -- оценка близости\"."
      ]
    },
    {
      "cell_type": "markdown",
      "metadata": {
        "id": "LL3NX9Pzg961"
      },
      "source": [
        "Предварительно преобразуем исходные данные из .csv в .tsv при помощи csv.writer(open('output.txt', 'w+'), delimiter='\\t').writerows(csv.reader(open(\"Task_4_sample_7.csv\"))).\n",
        "В notepad++ убираем пустые строки из файла и загружаем сюда."
      ]
    },
    {
      "cell_type": "code",
      "metadata": {
        "colab": {
          "base_uri": "https://localhost:8080/"
        },
        "id": "_sTFACx3dAk8",
        "outputId": "d9f2e6e6-80b6-4bec-a2f4-f96122e3871d"
      },
      "source": [
        "with open(\"output.txt\", encoding=\"utf-8\") as rf:\n",
        "  triples = [line.strip().split(\"\\t\") for line in rf.readlines()]\n",
        "  score_map = {tuple(triple[:2]): float(triple[2]) for triple in triples}\n",
        "  print(triples)\n",
        "  print(score_map)"
      ],
      "execution_count": 16,
      "outputs": [
        {
          "output_type": "stream",
          "text": [
            "[['direction', 'combination', '2.25'], ['start', 'match', '4.47'], ['hospital', 'infrastructure', '4.63'], ['century', 'year', '7.59'], ['gem', 'jewel', '8.96'], ['life', 'term', '4.5'], ['development', 'issue', '3.97'], ['opera', 'performance', '6.88'], ['student', 'professor', '6.81'], ['stock', 'life', '0.92'], ['cup', 'article', '2.4'], ['investigation', 'effort', '4.59'], ['Arafat', 'Jackson', '2.5'], ['Mars', 'water', '2.94'], ['computer', 'news', '4.47'], ['street', 'block', '6.88'], ['murder', 'manslaughter', '8.53'], ['cup', 'entity', '2.15'], ['peace', 'atmosphere', '3.69'], ['phone', 'equipment', '7.13'], ['planet', 'sun', '8.02'], ['stock', 'egg', '1.81'], ['money', 'currency', '9.04'], ['dollar', 'yen', '7.78'], ['announcement', 'effort', '2.75'], ['calculation', 'computation', '8.44'], ['sign', 'recess', '2.38'], ['ministry', 'culture', '4.69'], ['media', 'gain', '2.88'], ['opera', 'industry', '2.63'], ['listing', 'proximity', '2.56'], ['psychology', 'science', '6.71'], ['cup', 'substance', '1.92'], ['tiger', 'animal', '7.0'], ['tiger', 'feline', '8.0'], ['bird', 'cock', '7.1'], ['king', 'queen', '8.58'], ['profit', 'loss', '7.63'], ['school', 'center', '3.44'], ['journey', 'voyage', '9.29'], ['shower', 'thunderstorm', '6.31'], ['cell', 'phone', '7.81'], ['dividend', 'payment', '7.63'], ['physics', 'chemistry', '7.35'], ['street', 'children', '4.94'], ['train', 'car', '6.31'], ['announcement', 'production', '3.38'], ['volunteer', 'motto', '2.56'], ['drink', 'mother', '2.65'], ['morality', 'marriage', '3.69'], ['reason', 'hypertension', '2.31'], ['problem', 'airport', '2.38'], ['king', 'cabbage', '0.23'], ['smart', 'stupid', '5.81'], ['viewer', 'serial', '2.97'], ['consumer', 'confidence', '4.13'], ['magician', 'wizard', '9.02'], ['mile', 'kilometer', '8.66'], ['bird', 'crane', '7.38'], ['precedent', 'information', '3.85'], ['president', 'medal', '3.0'], ['stock', 'CD', '1.31'], ['travel', 'activity', '5.0'], ['psychology', 'psychiatry', '8.08'], ['coast', 'forest', '3.15'], ['midday', 'noon', '9.29'], ['precedent', 'cognition', '2.81'], ['aluminum', 'metal', '7.83'], ['money', 'operation', '3.31'], ['tiger', 'carnivore', '7.08'], ['board', 'recommendation', '4.47'], ['rooster', 'voyage', '0.62'], ['jaguar', 'cat', '7.42'], ['boy', 'lad', '8.83'], ['cup', 'food', '5.0'], ['jaguar', 'car', '7.27'], ['cup', 'tableware', '6.85'], ['space', 'chemistry', '4.88'], ['cup', 'artifact', '2.92'], ['attempt', 'peace', '4.25'], ['football', 'basketball', '6.81'], ['delay', 'news', '3.31'], ['month', 'hotel', '1.81'], ['situation', 'isolation', '3.88'], ['line', 'insurance', '2.69'], ['cup', 'object', '3.69'], ['focus', 'life', '4.06'], ['doctor', 'personnel', '5.0'], ['lobster', 'food', '7.81'], ['precedent', 'collection', '2.5'], ['Harvard', 'Yale', '8.13'], ['food', 'rooster', '4.42'], ['Mexico', 'Brazil', '7.44'], ['tiger', 'cat', '7.35'], ['man', 'governor', '5.25'], ['glass', 'metal', '5.56'], ['media', 'trading', '3.88'], ['consumer', 'energy', '4.75'], ['planet', 'star', '8.45'], ['professor', 'doctor', '6.62'], ['plane', 'car', '5.77'], ['image', 'surface', '4.56'], ['five', 'month', '3.38'], ['delay', 'racism', '1.19'], ['governor', 'interview', '3.25'], ['population', 'development', '3.75'], ['skin', 'eye', '6.22'], ['lad', 'brother', '4.46'], ['journal', 'association', '4.97'], ['museum', 'theater', '7.19'], ['monk', 'slave', '0.92'], ['prejudice', 'recognition', '3.0'], ['media', 'radio', '7.42'], ['sugar', 'approach', '0.88'], ['century', 'nation', '3.16'], ['car', 'flight', '4.94'], ['food', 'fruit', '7.52'], ['monk', 'oracle', '5.0'], ['fuck', 'sex', '9.44'], ['benchmark', 'index', '4.25'], ['man', 'woman', '8.3'], ['tiger', 'organism', '4.77'], ['coast', 'shore', '9.1'], ['tiger', 'mammal', '6.85'], ['championship', 'tournament', '8.36'], ['announcement', 'news', '7.56'], ['street', 'place', '6.44'], ['football', 'soccer', '9.03'], ['production', 'hike', '1.75'], ['lobster', 'wine', '5.7'], ['minority', 'peace', '3.69'], ['deployment', 'departure', '4.25'], ['street', 'avenue', '8.88'], ['peace', 'plan', '4.75'], ['bishop', 'rabbi', '6.69'], ['shore', 'woodland', '3.08'], ['vodka', 'gin', '8.46'], ['type', 'kind', '8.97'], ['vodka', 'brandy', '8.13'], ['glass', 'magician', '2.08'], ['energy', 'secretary', '1.81'], ['tiger', 'fauna', '5.62'], ['stock', 'jaguar', '0.92'], ['television', 'radio', '6.77'], ['money', 'dollar', '8.42'], ['word', 'similarity', '4.75'], ['seafood', 'lobster', '8.7'], ['cemetery', 'woodland', '2.08'], ['wood', 'forest', '7.73'], ['king', 'rook', '5.92']]\n",
            "{('direction', 'combination'): 2.25, ('start', 'match'): 4.47, ('hospital', 'infrastructure'): 4.63, ('century', 'year'): 7.59, ('gem', 'jewel'): 8.96, ('life', 'term'): 4.5, ('development', 'issue'): 3.97, ('opera', 'performance'): 6.88, ('student', 'professor'): 6.81, ('stock', 'life'): 0.92, ('cup', 'article'): 2.4, ('investigation', 'effort'): 4.59, ('Arafat', 'Jackson'): 2.5, ('Mars', 'water'): 2.94, ('computer', 'news'): 4.47, ('street', 'block'): 6.88, ('murder', 'manslaughter'): 8.53, ('cup', 'entity'): 2.15, ('peace', 'atmosphere'): 3.69, ('phone', 'equipment'): 7.13, ('planet', 'sun'): 8.02, ('stock', 'egg'): 1.81, ('money', 'currency'): 9.04, ('dollar', 'yen'): 7.78, ('announcement', 'effort'): 2.75, ('calculation', 'computation'): 8.44, ('sign', 'recess'): 2.38, ('ministry', 'culture'): 4.69, ('media', 'gain'): 2.88, ('opera', 'industry'): 2.63, ('listing', 'proximity'): 2.56, ('psychology', 'science'): 6.71, ('cup', 'substance'): 1.92, ('tiger', 'animal'): 7.0, ('tiger', 'feline'): 8.0, ('bird', 'cock'): 7.1, ('king', 'queen'): 8.58, ('profit', 'loss'): 7.63, ('school', 'center'): 3.44, ('journey', 'voyage'): 9.29, ('shower', 'thunderstorm'): 6.31, ('cell', 'phone'): 7.81, ('dividend', 'payment'): 7.63, ('physics', 'chemistry'): 7.35, ('street', 'children'): 4.94, ('train', 'car'): 6.31, ('announcement', 'production'): 3.38, ('volunteer', 'motto'): 2.56, ('drink', 'mother'): 2.65, ('morality', 'marriage'): 3.69, ('reason', 'hypertension'): 2.31, ('problem', 'airport'): 2.38, ('king', 'cabbage'): 0.23, ('smart', 'stupid'): 5.81, ('viewer', 'serial'): 2.97, ('consumer', 'confidence'): 4.13, ('magician', 'wizard'): 9.02, ('mile', 'kilometer'): 8.66, ('bird', 'crane'): 7.38, ('precedent', 'information'): 3.85, ('president', 'medal'): 3.0, ('stock', 'CD'): 1.31, ('travel', 'activity'): 5.0, ('psychology', 'psychiatry'): 8.08, ('coast', 'forest'): 3.15, ('midday', 'noon'): 9.29, ('precedent', 'cognition'): 2.81, ('aluminum', 'metal'): 7.83, ('money', 'operation'): 3.31, ('tiger', 'carnivore'): 7.08, ('board', 'recommendation'): 4.47, ('rooster', 'voyage'): 0.62, ('jaguar', 'cat'): 7.42, ('boy', 'lad'): 8.83, ('cup', 'food'): 5.0, ('jaguar', 'car'): 7.27, ('cup', 'tableware'): 6.85, ('space', 'chemistry'): 4.88, ('cup', 'artifact'): 2.92, ('attempt', 'peace'): 4.25, ('football', 'basketball'): 6.81, ('delay', 'news'): 3.31, ('month', 'hotel'): 1.81, ('situation', 'isolation'): 3.88, ('line', 'insurance'): 2.69, ('cup', 'object'): 3.69, ('focus', 'life'): 4.06, ('doctor', 'personnel'): 5.0, ('lobster', 'food'): 7.81, ('precedent', 'collection'): 2.5, ('Harvard', 'Yale'): 8.13, ('food', 'rooster'): 4.42, ('Mexico', 'Brazil'): 7.44, ('tiger', 'cat'): 7.35, ('man', 'governor'): 5.25, ('glass', 'metal'): 5.56, ('media', 'trading'): 3.88, ('consumer', 'energy'): 4.75, ('planet', 'star'): 8.45, ('professor', 'doctor'): 6.62, ('plane', 'car'): 5.77, ('image', 'surface'): 4.56, ('five', 'month'): 3.38, ('delay', 'racism'): 1.19, ('governor', 'interview'): 3.25, ('population', 'development'): 3.75, ('skin', 'eye'): 6.22, ('lad', 'brother'): 4.46, ('journal', 'association'): 4.97, ('museum', 'theater'): 7.19, ('monk', 'slave'): 0.92, ('prejudice', 'recognition'): 3.0, ('media', 'radio'): 7.42, ('sugar', 'approach'): 0.88, ('century', 'nation'): 3.16, ('car', 'flight'): 4.94, ('food', 'fruit'): 7.52, ('monk', 'oracle'): 5.0, ('fuck', 'sex'): 9.44, ('benchmark', 'index'): 4.25, ('man', 'woman'): 8.3, ('tiger', 'organism'): 4.77, ('coast', 'shore'): 9.1, ('tiger', 'mammal'): 6.85, ('championship', 'tournament'): 8.36, ('announcement', 'news'): 7.56, ('street', 'place'): 6.44, ('football', 'soccer'): 9.03, ('production', 'hike'): 1.75, ('lobster', 'wine'): 5.7, ('minority', 'peace'): 3.69, ('deployment', 'departure'): 4.25, ('street', 'avenue'): 8.88, ('peace', 'plan'): 4.75, ('bishop', 'rabbi'): 6.69, ('shore', 'woodland'): 3.08, ('vodka', 'gin'): 8.46, ('type', 'kind'): 8.97, ('vodka', 'brandy'): 8.13, ('glass', 'magician'): 2.08, ('energy', 'secretary'): 1.81, ('tiger', 'fauna'): 5.62, ('stock', 'jaguar'): 0.92, ('television', 'radio'): 6.77, ('money', 'dollar'): 8.42, ('word', 'similarity'): 4.75, ('seafood', 'lobster'): 8.7, ('cemetery', 'woodland'): 2.08, ('wood', 'forest'): 7.73, ('king', 'rook'): 5.92}\n"
          ],
          "name": "stdout"
        }
      ]
    },
    {
      "cell_type": "markdown",
      "metadata": {
        "id": "7JUR1IDaRfPm"
      },
      "source": [
        "Отметим, что из исходного набора данных мы взяли только экспертные оценки сходства (similarity) и только для существительных. Исходный набор данных доступен по [ссылке](http://alfonseca.org/pubs/ws353simrel.tar.gz)"
      ]
    },
    {
      "cell_type": "markdown",
      "metadata": {
        "id": "96B0OtKrvtaG"
      },
      "source": [
        "Посмотрим на примеры оценок. \n",
        "\n",
        "У слов может быть по несколько значений, которые различаются в WordNet. Здесь -- ради примера -- мы будем \"жадно\" выбирать первое попавшееся, но далее будем работать с ними иначе.\n",
        "\n",
        "\n"
      ]
    },
    {
      "cell_type": "code",
      "metadata": {
        "colab": {
          "base_uri": "https://localhost:8080/"
        },
        "id": "7iXamIiZgf-O",
        "outputId": "6d077992-6257-429c-ef6a-702c4bf4ddd4"
      },
      "source": [
        "for w1, w2 in list(score_map)[:2]:\n",
        "  \n",
        "  print(\"\\nWords: %s-%s\\nGround truth score: %.2f\" % (w1, w2, score_map[(w1, w2)]))\n",
        "  \n",
        "  ss1 = wn.synset(w1 + \".n.01\")\n",
        "  ss2 = wn.synset(w2 + \".n.01\")\n",
        "\n",
        "  print(\"\\nPath: %.3f\" % ss1.path_similarity(ss2), end=\" \")\n",
        "  print(\"\\nwup: %.3f\" % ss1.wup_similarity(ss2), end=\" \")\n",
        "  print(\"\\nshortest_path: %.3f\" % ss1.shortest_path_distance(ss2))"
      ],
      "execution_count": 20,
      "outputs": [
        {
          "output_type": "stream",
          "text": [
            "\n",
            "Words: direction-combination\n",
            "Ground truth score: 2.25\n",
            "\n",
            "Path: 0.091 \n",
            "wup: 0.167 \n",
            "shortest_path: 10.000\n",
            "\n",
            "Words: start-match\n",
            "Ground truth score: 4.47\n",
            "\n",
            "Path: 0.067 \n",
            "wup: 0.125 \n",
            "shortest_path: 14.000\n"
          ],
          "name": "stdout"
        }
      ]
    },
    {
      "cell_type": "markdown",
      "metadata": {
        "id": "ZHM7tCb0vqNp"
      },
      "source": [
        "Вычисляем для всех пар несколько оценок"
      ]
    },
    {
      "cell_type": "code",
      "metadata": {
        "id": "fe7Nuglqgnd3"
      },
      "source": [
        "from itertools import product\n",
        "\n",
        "list_pairs = list(score_map)\n",
        "wup_list, true_list, path_list, ich_list = [], [], [], []\n",
        "\n",
        "# для всех пар\n",
        "for w1, w2 in list_pairs:\n",
        "\n",
        "  try:\n",
        "    all_w1 = wn.synsets(w1, pos=\"n\")\n",
        "    all_w2 = wn.synsets(w2, pos=\"n\")\n",
        "\n",
        "    # добавляем интересующие нас метрики и экспертные оценки\n",
        "    wup = max([item1.wup_similarity(item2) \\\n",
        "                for item1, item2 in product(all_w1, all_w2)])\n",
        "    wup_list.append(wup)\n",
        "\n",
        "    ich = max([item1.lch_similarity(item2) for item1, item2 in product(all_w1, all_w2)])\n",
        "    ich_list.append(ich)\n",
        "\n",
        "    path = max([item1.path_similarity(item2) \\\n",
        "                for item1, item2 in product(all_w1, all_w2)])\n",
        "    path_list.append(path)\n",
        "    \n",
        "    true_list.append(score_map[(w1, w2)])\n",
        "\n",
        "  except Exception as e:\n",
        "    print(w1, w2, \"error:\", e)"
      ],
      "execution_count": 27,
      "outputs": []
    },
    {
      "cell_type": "markdown",
      "metadata": {
        "id": "oAjuTLB0fD-I"
      },
      "source": [
        "## Вычисляем ранговую корреляцию Спирмена"
      ]
    },
    {
      "cell_type": "code",
      "metadata": {
        "colab": {
          "base_uri": "https://localhost:8080/"
        },
        "id": "fXnCdw8wxcVd",
        "outputId": "74a6cecf-e5f1-4d52-e454-67c420a08dd0"
      },
      "source": [
        "from scipy.stats import spearmanr\n",
        "\n",
        "coef, p = spearmanr(wup_list, true_list)\n",
        "print(\"wup  Spearman R: %.4f\" % coef)\n",
        "\n",
        "coef, p = spearmanr(path_list, true_list)\n",
        "print(\"path Spearman R: %.4f\" % coef)\n",
        "\n",
        "coef, p = spearmanr(ich_list, true_list)\n",
        "print(\"ich Spearman R: %.4f\" % coef)\n"
      ],
      "execution_count": 25,
      "outputs": [
        {
          "output_type": "stream",
          "text": [
            "wup  Spearman R: 0.6384\n",
            "path Spearman R: 0.6142\n",
            "ich Spearman R: 0.6142\n"
          ],
          "name": "stdout"
        }
      ]
    },
    {
      "cell_type": "code",
      "metadata": {
        "colab": {
          "base_uri": "https://localhost:8080/"
        },
        "id": "lYV7fiq0bl2x",
        "outputId": "29b18bf7-034c-4599-992d-775eae1fcc97"
      },
      "source": [
        "journey = wn.synset('journey.n.01')\n",
        "print(len(journey.hyponyms()))\n",
        "print(journey.hyponyms()[0])"
      ],
      "execution_count": 29,
      "outputs": [
        {
          "output_type": "stream",
          "text": [
            "16\n",
            "Synset('commute.n.01')\n"
          ],
          "name": "stdout"
        }
      ]
    }
  ]
}