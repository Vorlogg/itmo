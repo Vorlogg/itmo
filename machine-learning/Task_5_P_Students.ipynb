{
  "nbformat": 4,
  "nbformat_minor": 0,
  "metadata": {
    "colab": {
      "name": "Task_5_P_Students.ipynb",
      "provenance": [],
      "collapsed_sections": [],
      "toc_visible": true
    },
    "kernelspec": {
      "display_name": "Python 3",
      "language": "python",
      "name": "python3"
    },
    "language_info": {
      "codemirror_mode": {
        "name": "ipython",
        "version": 3
      },
      "file_extension": ".py",
      "mimetype": "text/x-python",
      "name": "python",
      "nbconvert_exporter": "python",
      "pygments_lexer": "ipython3",
      "version": "3.7.6"
    }
  },
  "cells": [
    {
      "cell_type": "markdown",
      "metadata": {
        "id": "885nCnaEi6Zq"
      },
      "source": [
        "В этом задании мы рассмотрим работу UDpipe с двумя моделями:\n",
        "\n",
        "* предварительно обученной на SynTagRus [link](https://universaldependencies.org/treebanks/ru_syntagrus/index.html)\n",
        "* обученной на Taiga [link](https://universaldependencies.org/treebanks/ru_taiga/index.html)"
      ]
    },
    {
      "cell_type": "markdown",
      "metadata": {
        "id": "Xi3sqi2ni6Zw"
      },
      "source": [
        "## Подключение необходимых модулей"
      ]
    },
    {
      "cell_type": "code",
      "metadata": {
        "colab": {
          "base_uri": "https://localhost:8080/"
        },
        "id": "pFELL0b6i6Zz",
        "outputId": "bc99fa75-27ae-4d83-8e28-5c0896a8b6d0"
      },
      "source": [
        "! pip install -q conllu\n",
        "! pip install -q graphviz\n",
        "! pip install -q ufal.udpipe"
      ],
      "execution_count": 1,
      "outputs": [
        {
          "output_type": "stream",
          "text": [
            "\u001b[?25l\r\u001b[K     |█                               | 10kB 19.7MB/s eta 0:00:01\r\u001b[K     |██▏                             | 20kB 6.9MB/s eta 0:00:01\r\u001b[K     |███▎                            | 30kB 4.3MB/s eta 0:00:01\r\u001b[K     |████▎                           | 40kB 4.1MB/s eta 0:00:01\r\u001b[K     |█████▍                          | 51kB 2.1MB/s eta 0:00:01\r\u001b[K     |██████▌                         | 61kB 2.4MB/s eta 0:00:01\r\u001b[K     |███████▌                        | 71kB 2.6MB/s eta 0:00:01\r\u001b[K     |████████▋                       | 81kB 2.7MB/s eta 0:00:01\r\u001b[K     |█████████▊                      | 92kB 2.9MB/s eta 0:00:01\r\u001b[K     |██████████▊                     | 102kB 2.9MB/s eta 0:00:01\r\u001b[K     |███████████▉                    | 112kB 2.9MB/s eta 0:00:01\r\u001b[K     |█████████████                   | 122kB 2.9MB/s eta 0:00:01\r\u001b[K     |██████████████                  | 133kB 2.9MB/s eta 0:00:01\r\u001b[K     |███████████████                 | 143kB 2.9MB/s eta 0:00:01\r\u001b[K     |████████████████▏               | 153kB 2.9MB/s eta 0:00:01\r\u001b[K     |█████████████████▎              | 163kB 2.9MB/s eta 0:00:01\r\u001b[K     |██████████████████▎             | 174kB 2.9MB/s eta 0:00:01\r\u001b[K     |███████████████████▍            | 184kB 2.9MB/s eta 0:00:01\r\u001b[K     |████████████████████▌           | 194kB 2.9MB/s eta 0:00:01\r\u001b[K     |█████████████████████▌          | 204kB 2.9MB/s eta 0:00:01\r\u001b[K     |██████████████████████▋         | 215kB 2.9MB/s eta 0:00:01\r\u001b[K     |███████████████████████▊        | 225kB 2.9MB/s eta 0:00:01\r\u001b[K     |████████████████████████▉       | 235kB 2.9MB/s eta 0:00:01\r\u001b[K     |█████████████████████████▉      | 245kB 2.9MB/s eta 0:00:01\r\u001b[K     |███████████████████████████     | 256kB 2.9MB/s eta 0:00:01\r\u001b[K     |████████████████████████████    | 266kB 2.9MB/s eta 0:00:01\r\u001b[K     |█████████████████████████████   | 276kB 2.9MB/s eta 0:00:01\r\u001b[K     |██████████████████████████████▏ | 286kB 2.9MB/s eta 0:00:01\r\u001b[K     |███████████████████████████████▎| 296kB 2.9MB/s eta 0:00:01\r\u001b[K     |████████████████████████████████| 307kB 2.9MB/s \n",
            "\u001b[?25h  Building wheel for ufal.udpipe (setup.py) ... \u001b[?25l\u001b[?25hdone\n"
          ],
          "name": "stdout"
        }
      ]
    },
    {
      "cell_type": "markdown",
      "metadata": {
        "id": "-w82dt3Ki6aJ"
      },
      "source": [
        "## Загрузка моделей"
      ]
    },
    {
      "cell_type": "code",
      "metadata": {
        "id": "kDboaNgQi6aK"
      },
      "source": [
        "!wget -q 'https://lindat.mff.cuni.cz/repository/xmlui/bitstream/handle/11234/1-3131/russian-syntagrus-ud-2.5-191206.udpipe'\n",
        "!wget -q 'https://lindat.mff.cuni.cz/repository/xmlui/bitstream/handle/11234/1-3131/russian-taiga-ud-2.5-191206.udpipe'"
      ],
      "execution_count": 2,
      "outputs": []
    },
    {
      "cell_type": "markdown",
      "metadata": {
        "id": "05htpbLZi6as"
      },
      "source": [
        "На этом подготовка материалов завершена, переходим к написанию кода для синтаксического анализа"
      ]
    },
    {
      "cell_type": "markdown",
      "metadata": {
        "id": "4RfK9-zii6aw"
      },
      "source": [
        "## Подключение библиотек"
      ]
    },
    {
      "cell_type": "code",
      "metadata": {
        "id": "dmf7LI_0i6ax"
      },
      "source": [
        "import sys\n",
        "\n",
        "from conllu import parse\n",
        "from graphviz import Digraph\n",
        "from ufal.udpipe import Model, Pipeline, ProcessingError"
      ],
      "execution_count": 3,
      "outputs": []
    },
    {
      "cell_type": "markdown",
      "metadata": {
        "id": "ufl9Rvugi6a3"
      },
      "source": [
        "## Настройка работы с моделями"
      ]
    },
    {
      "cell_type": "code",
      "metadata": {
        "colab": {
          "base_uri": "https://localhost:8080/"
        },
        "id": "Rj7bbVu4i6a4",
        "outputId": "065e76be-6217-4de8-d51b-091a7e4f337e"
      },
      "source": [
        "INPUT_FORMAT = \"tokenize\"\n",
        "OUTPUT_FORMAT = \"conllu\"\n",
        "SYNTAGRUS_MODEL_FILE = \"russian-syntagrus-ud-2.5-191206.udpipe\"\n",
        "TAIGA_MODEL_FILE = \"russian-taiga-ud-2.5-191206.udpipe\"\n",
        "\n",
        "print(\"Loading model:\" + SYNTAGRUS_MODEL_FILE)\n",
        "syntagrus_model = Model.load(SYNTAGRUS_MODEL_FILE)\n",
        "print(\"Loading done\")\n",
        "\n",
        "print(\"Loading model:\" + TAIGA_MODEL_FILE)\n",
        "taiga_model = Model.load(TAIGA_MODEL_FILE)\n",
        "print(\"Loading done\")"
      ],
      "execution_count": 4,
      "outputs": [
        {
          "output_type": "stream",
          "text": [
            "Loading model:russian-syntagrus-ud-2.5-191206.udpipe\n",
            "Loading done\n",
            "Loading model:russian-taiga-ud-2.5-191206.udpipe\n",
            "Loading done\n"
          ],
          "name": "stdout"
        }
      ]
    },
    {
      "cell_type": "markdown",
      "metadata": {
        "id": "eFV0w_Xmi6bA"
      },
      "source": [
        "## Построение цепочки обработки"
      ]
    },
    {
      "cell_type": "markdown",
      "metadata": {
        "id": "201ztaiki6bB"
      },
      "source": [
        "Строим цепочку обработки  -- от сырого текста до синтаксического дерева"
      ]
    },
    {
      "cell_type": "code",
      "metadata": {
        "id": "NQxfMF_3i6bC"
      },
      "source": [
        "syntagrus_pipeline = Pipeline(syntagrus_model, INPUT_FORMAT, \n",
        "                              Pipeline.DEFAULT, Pipeline.DEFAULT, OUTPUT_FORMAT)\n",
        "taiga_pipeline = Pipeline(taiga_model, INPUT_FORMAT, \n",
        "                          Pipeline.DEFAULT, Pipeline.DEFAULT, OUTPUT_FORMAT)\n",
        "\n",
        "error = ProcessingError()"
      ],
      "execution_count": 5,
      "outputs": []
    },
    {
      "cell_type": "markdown",
      "metadata": {
        "id": "4rmXlR1ei6bI"
      },
      "source": [
        "Применение собственно цепочки обработки к сырому тексту; вывод в формате CoNLL-U."
      ]
    },
    {
      "cell_type": "code",
      "metadata": {
        "id": "MJedzauNi6bJ"
      },
      "source": [
        "def parse_syntax(raw_text, pipeline):\n",
        "    \"\"\" Applying UDPipe \"\"\"\n",
        "    text = raw_text.strip()\n",
        "\n",
        "    # Process data\n",
        "    processed = pipeline.process(text, error)\n",
        "\n",
        "    if error.occurred():\n",
        "        sys.stderr.write(\"An error occurred when running run_udpipe: \")\n",
        "        sys.stderr.write(error.message)\n",
        "        sys.stderr.write(\"\\n\")\n",
        "\n",
        "    return processed"
      ],
      "execution_count": 6,
      "outputs": []
    },
    {
      "cell_type": "markdown",
      "metadata": {
        "id": "CHD7DOp3i6bP"
      },
      "source": [
        "Создадим два разбора, которые и будем сравнивать."
      ]
    },
    {
      "cell_type": "code",
      "metadata": {
        "id": "svFDIXCli6bS"
      },
      "source": [
        "syntag = parse_syntax(\"До появления на островах человека из млекопитающих на суше обитали летучие мыши, а в прибрежных водах — дельфины.\", syntagrus_pipeline)\n",
        "taiga = parse_syntax(\"До появления на островах человека из млекопитающих на суше обитали летучие мыши, а в прибрежных водах — дельфины.\", taiga_pipeline)"
      ],
      "execution_count": 28,
      "outputs": []
    },
    {
      "cell_type": "markdown",
      "metadata": {
        "id": "9JqN3OWvqbuV"
      },
      "source": [
        "Разбор предложения в текстовом виде будет выглядеть следующим образом:"
      ]
    },
    {
      "cell_type": "code",
      "metadata": {
        "colab": {
          "base_uri": "https://localhost:8080/"
        },
        "id": "IciMoyh0qbuW",
        "outputId": "b7dcb6a7-29da-4073-968f-e4eb84d045be"
      },
      "source": [
        "print(taiga)"
      ],
      "execution_count": 29,
      "outputs": [
        {
          "output_type": "stream",
          "text": [
            "# newdoc\n",
            "# newpar\n",
            "# sent_id = 1\n",
            "# text = До появления на островах человека из млекопитающих на суше обитали летучие мыши, а в прибрежных водах — дельфины.\n",
            "1\tДо\tдо\tADP\t_\t_\t2\tcase\t_\t_\n",
            "2\tпоявления\tпоявление\tNOUN\t_\tAnimacy=Inan|Case=Gen|Gender=Neut|Number=Sing\t10\tobl\t_\t_\n",
            "3\tна\tна\tADP\t_\t_\t4\tcase\t_\t_\n",
            "4\tостровах\tостров\tNOUN\t_\tAnimacy=Inan|Case=Loc|Gender=Masc|Number=Plur\t2\tnmod\t_\t_\n",
            "5\tчеловека\tчеловек\tNOUN\t_\tAnimacy=Anim|Case=Gen|Gender=Masc|Number=Sing\t4\tnmod\t_\t_\n",
            "6\tиз\tиз\tADP\t_\t_\t9\tcase\t_\t_\n",
            "7\tмлекопитающих\tмлекопитающий\tADJ\tVERB\tAspect=Imp|Case=Gen|Number=Plur|Tense=Pres|VerbForm=Part|Voice=Act\t9\tamod\t_\t_\n",
            "8\tна\tна\tADP\tADP\t_\t9\tcase\t_\t_\n",
            "9\tсуше\tсуша\tNOUN\tNOUN\tAnimacy=Inan|Case=Loc|Gender=Fem|Number=Sing\t10\tobl\t_\t_\n",
            "10\tобитали\tобитать\tVERB\t_\tAspect=Perf|Mood=Ind|Number=Plur|Tense=Past|VerbForm=Fin|Voice=Act\t0\troot\t_\t_\n",
            "11\tлетучие\tлетучий\tADJ\t_\tCase=Nom|Degree=Pos|Number=Plur\t12\tamod\t_\t_\n",
            "12\tмыши\tмышь\tNOUN\t_\tAnimacy=Inan|Case=Nom|Gender=Fem|Number=Plur\t10\tnsubj\t_\tSpaceAfter=No\n",
            "13\t,\t,\tPUNCT\t_\t_\t17\tpunct\t_\t_\n",
            "14\tа\tа\tCCONJ\t_\t_\t17\tcc\t_\t_\n",
            "15\tв\tв\tADP\t_\t_\t17\tcase\t_\t_\n",
            "16\tприбрежных\tприбрежный\tADJ\t_\tCase=Loc|Degree=Pos|Number=Plur\t17\tamod\t_\t_\n",
            "17\tводах\tвода\tNOUN\t_\tAnimacy=Inan|Case=Loc|Gender=Masc|Number=Plur\t10\tconj\t_\t_\n",
            "18\t—\t—\tPUNCT\t_\t_\t19\tpunct\t_\t_\n",
            "19\tдельфины\tдельфина\tNOUN\t_\tAnimacy=Anim|Case=Nom|Gender=Masc|Number=Plur\t17\tnsubj\t_\tSpaceAfter=No\n",
            "20\t.\t.\tPUNCT\t_\t_\t10\tpunct\t_\tSpacesAfter=\\n\n",
            "\n",
            "\n"
          ],
          "name": "stdout"
        }
      ]
    },
    {
      "cell_type": "markdown",
      "metadata": {
        "id": "jYKnnwqVqbuZ"
      },
      "source": [
        "Понятно, что в таком виде производить расчеты не очень удобно. Для вычисления LAS и UAS сначала представим деревья разбора в виде графов."
      ]
    },
    {
      "cell_type": "markdown",
      "metadata": {
        "id": "LGkqQEi1qbua"
      },
      "source": [
        "## Графововое представление дерева разбора\n",
        "\n",
        "Методами библиотеки `conllu` превращаем выданный нам udpipe разбор в формате CoNLL-U в дерево, с которым удобно работать.\n",
        "\n",
        "С помощью стандартного обхода в ширину наполняем рёбрами объект Digraph для последующей визуализации дерева с помощью `graphviz`."
      ]
    },
    {
      "cell_type": "code",
      "metadata": {
        "id": "jQ6zzoRni6bo"
      },
      "source": [
        "from conllu import parse\n",
        "from graphviz import Digraph\n",
        "\n",
        "def parse_output(conll):\n",
        "    \"\"\"\n",
        "        Preparing the dependency tree for further processing\n",
        "    \"\"\"\n",
        "    sentences = parse(conll)\n",
        "    return [s.to_tree() for s  in sentences]\n",
        "\n",
        "\n",
        "class Root(object):\n",
        "  def __init__(self, child):\n",
        "    self.token = {\"form\": \"\", \"id\": 0, \"deprel\": \"root\"}\n",
        "    self.children = [child]\n",
        "\n",
        "def draw_tree(tree):\n",
        "    \"\"\" Drawing a dependency tree for debugging stuff \"\"\"\n",
        "\n",
        "    g = Digraph(format='png')\n",
        "\n",
        "    # a queue for tree traversal\n",
        "    queue = [Root(tree)]\n",
        "\n",
        "    while len(queue) > 0:\n",
        "      \n",
        "        head = queue.pop()\n",
        "        head_label = head.token[\"form\"] + \" (%d)\" % head.token[\"id\"]\n",
        "        queue.extend(head.children)\n",
        "\n",
        "        for c in head.children:\n",
        "            c_label = c.token[\"form\"] + \" (%d)\" %  c.token[\"id\"]\n",
        "            g.edge(head_label, c_label, label=c.token[\"deprel\"])\n",
        "\n",
        "    return g"
      ],
      "execution_count": 30,
      "outputs": []
    },
    {
      "cell_type": "markdown",
      "metadata": {
        "id": "PGp5oQbUi6cQ"
      },
      "source": [
        "Построим оба дерева"
      ]
    },
    {
      "cell_type": "code",
      "metadata": {
        "id": "woGZyXqCqbuf"
      },
      "source": [
        "str_tree = parse_output(syntag.strip())[0]\n",
        "taiga_tree = parse_output(taiga.strip())[0]"
      ],
      "execution_count": 31,
      "outputs": []
    },
    {
      "cell_type": "code",
      "metadata": {
        "colab": {
          "base_uri": "https://localhost:8080/",
          "height": 564
        },
        "id": "ICivSE4eqbuh",
        "outputId": "7752fd99-2663-40ec-8406-ade321a30600"
      },
      "source": [
        "draw_tree(str_tree)"
      ],
      "execution_count": 32,
      "outputs": [
        {
          "output_type": "execute_result",
          "data": {
            "text/plain": [
              "<graphviz.dot.Digraph at 0x7fee1b8a8890>"
            ],
            "image/svg+xml": "<?xml version=\"1.0\" encoding=\"UTF-8\" standalone=\"no\"?>\n<!DOCTYPE svg PUBLIC \"-//W3C//DTD SVG 1.1//EN\"\n \"http://www.w3.org/Graphics/SVG/1.1/DTD/svg11.dtd\">\n<!-- Generated by graphviz version 2.40.1 (20161225.0304)\n -->\n<!-- Title: %3 Pages: 1 -->\n<svg width=\"1223pt\" height=\"392pt\"\n viewBox=\"0.00 0.00 1223.24 392.00\" xmlns=\"http://www.w3.org/2000/svg\" xmlns:xlink=\"http://www.w3.org/1999/xlink\">\n<g id=\"graph0\" class=\"graph\" transform=\"scale(1 1) rotate(0) translate(4 388)\">\n<title>%3</title>\n<polygon fill=\"#ffffff\" stroke=\"transparent\" points=\"-4,4 -4,-388 1219.2382,-388 1219.2382,4 -4,4\"/>\n<!--  (0) -->\n<g id=\"node1\" class=\"node\">\n<title> (0)</title>\n<ellipse fill=\"none\" stroke=\"#000000\" cx=\"464.9942\" cy=\"-366\" rx=\"27\" ry=\"18\"/>\n<text text-anchor=\"middle\" x=\"464.9942\" y=\"-362.3\" font-family=\"Times,serif\" font-size=\"14.00\" fill=\"#000000\"> (0)</text>\n</g>\n<!-- обитали (10) -->\n<g id=\"node2\" class=\"node\">\n<title>обитали (10)</title>\n<ellipse fill=\"none\" stroke=\"#000000\" cx=\"464.9942\" cy=\"-279\" rx=\"60.3893\" ry=\"18\"/>\n<text text-anchor=\"middle\" x=\"464.9942\" y=\"-275.3\" font-family=\"Times,serif\" font-size=\"14.00\" fill=\"#000000\">обитали (10)</text>\n</g>\n<!--  (0)&#45;&gt;обитали (10) -->\n<g id=\"edge1\" class=\"edge\">\n<title> (0)&#45;&gt;обитали (10)</title>\n<path fill=\"none\" stroke=\"#000000\" d=\"M464.9942,-347.9735C464.9942,-336.1918 464.9942,-320.5607 464.9942,-307.1581\"/>\n<polygon fill=\"#000000\" stroke=\"#000000\" points=\"468.4943,-307.0033 464.9942,-297.0034 461.4943,-307.0034 468.4943,-307.0033\"/>\n<text text-anchor=\"middle\" x=\"476.9942\" y=\"-318.8\" font-family=\"Times,serif\" font-size=\"14.00\" fill=\"#000000\">root</text>\n</g>\n<!-- появления (2) -->\n<g id=\"node3\" class=\"node\">\n<title>появления (2)</title>\n<ellipse fill=\"none\" stroke=\"#000000\" cx=\"64.9942\" cy=\"-192\" rx=\"64.9885\" ry=\"18\"/>\n<text text-anchor=\"middle\" x=\"64.9942\" y=\"-188.3\" font-family=\"Times,serif\" font-size=\"14.00\" fill=\"#000000\">появления (2)</text>\n</g>\n<!-- обитали (10)&#45;&gt;появления (2) -->\n<g id=\"edge2\" class=\"edge\">\n<title>обитали (10)&#45;&gt;появления (2)</title>\n<path fill=\"none\" stroke=\"#000000\" d=\"M414.9077,-268.8855C350.8226,-255.8324 236.4442,-232.1597 138.9942,-210 133.9661,-208.8566 128.7525,-207.6439 123.5267,-206.4094\"/>\n<polygon fill=\"#000000\" stroke=\"#000000\" points=\"124.0467,-202.9353 113.5076,-204.0212 122.4235,-209.7446 124.0467,-202.9353\"/>\n<text text-anchor=\"middle\" x=\"291.4942\" y=\"-231.8\" font-family=\"Times,serif\" font-size=\"14.00\" fill=\"#000000\">obl</text>\n</g>\n<!-- островах (4) -->\n<g id=\"node4\" class=\"node\">\n<title>островах (4)</title>\n<ellipse fill=\"none\" stroke=\"#000000\" cx=\"207.9942\" cy=\"-192\" rx=\"59.5901\" ry=\"18\"/>\n<text text-anchor=\"middle\" x=\"207.9942\" y=\"-188.3\" font-family=\"Times,serif\" font-size=\"14.00\" fill=\"#000000\">островах (4)</text>\n</g>\n<!-- обитали (10)&#45;&gt;островах (4) -->\n<g id=\"edge3\" class=\"edge\">\n<title>обитали (10)&#45;&gt;островах (4)</title>\n<path fill=\"none\" stroke=\"#000000\" d=\"M424.838,-265.4063C379.6683,-250.1153 306.2713,-225.2689 257.566,-208.7811\"/>\n<polygon fill=\"#000000\" stroke=\"#000000\" points=\"258.4628,-205.3896 247.8685,-205.4983 256.2182,-212.02 258.4628,-205.3896\"/>\n<text text-anchor=\"middle\" x=\"361.4942\" y=\"-231.8\" font-family=\"Times,serif\" font-size=\"14.00\" fill=\"#000000\">obl</text>\n</g>\n<!-- человека (5) -->\n<g id=\"node5\" class=\"node\">\n<title>человека (5)</title>\n<ellipse fill=\"none\" stroke=\"#000000\" cx=\"343.9942\" cy=\"-192\" rx=\"58.4896\" ry=\"18\"/>\n<text text-anchor=\"middle\" x=\"343.9942\" y=\"-188.3\" font-family=\"Times,serif\" font-size=\"14.00\" fill=\"#000000\">человека (5)</text>\n</g>\n<!-- обитали (10)&#45;&gt;человека (5) -->\n<g id=\"edge4\" class=\"edge\">\n<title>обитали (10)&#45;&gt;человека (5)</title>\n<path fill=\"none\" stroke=\"#000000\" d=\"M441.6642,-262.2255C422.8325,-248.6853 396.1561,-229.5048 375.4398,-214.6096\"/>\n<polygon fill=\"#000000\" stroke=\"#000000\" points=\"377.415,-211.7191 367.2526,-208.723 373.3286,-217.4025 377.415,-211.7191\"/>\n<text text-anchor=\"middle\" x=\"421.4942\" y=\"-231.8\" font-family=\"Times,serif\" font-size=\"14.00\" fill=\"#000000\">obj</text>\n</g>\n<!-- суше (9) -->\n<g id=\"node6\" class=\"node\">\n<title>суше (9)</title>\n<ellipse fill=\"none\" stroke=\"#000000\" cx=\"464.9942\" cy=\"-192\" rx=\"44.393\" ry=\"18\"/>\n<text text-anchor=\"middle\" x=\"464.9942\" y=\"-188.3\" font-family=\"Times,serif\" font-size=\"14.00\" fill=\"#000000\">суше (9)</text>\n</g>\n<!-- обитали (10)&#45;&gt;суше (9) -->\n<g id=\"edge5\" class=\"edge\">\n<title>обитали (10)&#45;&gt;суше (9)</title>\n<path fill=\"none\" stroke=\"#000000\" d=\"M464.9942,-260.9735C464.9942,-249.1918 464.9942,-233.5607 464.9942,-220.1581\"/>\n<polygon fill=\"#000000\" stroke=\"#000000\" points=\"468.4943,-220.0033 464.9942,-210.0034 461.4943,-220.0034 468.4943,-220.0033\"/>\n<text text-anchor=\"middle\" x=\"474.4942\" y=\"-231.8\" font-family=\"Times,serif\" font-size=\"14.00\" fill=\"#000000\">obl</text>\n</g>\n<!-- мыши (12) -->\n<g id=\"node7\" class=\"node\">\n<title>мыши (12)</title>\n<ellipse fill=\"none\" stroke=\"#000000\" cx=\"579.9942\" cy=\"-192\" rx=\"53.0913\" ry=\"18\"/>\n<text text-anchor=\"middle\" x=\"579.9942\" y=\"-188.3\" font-family=\"Times,serif\" font-size=\"14.00\" fill=\"#000000\">мыши (12)</text>\n</g>\n<!-- обитали (10)&#45;&gt;мыши (12) -->\n<g id=\"edge6\" class=\"edge\">\n<title>обитали (10)&#45;&gt;мыши (12)</title>\n<path fill=\"none\" stroke=\"#000000\" d=\"M487.1674,-262.2255C504.9858,-248.7455 530.1937,-229.6752 549.8451,-214.8085\"/>\n<polygon fill=\"#000000\" stroke=\"#000000\" points=\"552.0258,-217.5475 557.8891,-208.723 547.8025,-211.965 552.0258,-217.5475\"/>\n<text text-anchor=\"middle\" x=\"545.9942\" y=\"-231.8\" font-family=\"Times,serif\" font-size=\"14.00\" fill=\"#000000\">nsubj</text>\n</g>\n<!-- водах (17) -->\n<g id=\"node8\" class=\"node\">\n<title>водах (17)</title>\n<ellipse fill=\"none\" stroke=\"#000000\" cx=\"766.9942\" cy=\"-192\" rx=\"51.1914\" ry=\"18\"/>\n<text text-anchor=\"middle\" x=\"766.9942\" y=\"-188.3\" font-family=\"Times,serif\" font-size=\"14.00\" fill=\"#000000\">водах (17)</text>\n</g>\n<!-- обитали (10)&#45;&gt;водах (17) -->\n<g id=\"edge7\" class=\"edge\">\n<title>обитали (10)&#45;&gt;водах (17)</title>\n<path fill=\"none\" stroke=\"#000000\" d=\"M508.5851,-266.4424C564.0193,-250.4729 659.4962,-222.968 717.5787,-206.2356\"/>\n<polygon fill=\"#000000\" stroke=\"#000000\" points=\"718.6283,-209.5756 727.2686,-203.4441 716.6905,-202.8492 718.6283,-209.5756\"/>\n<text text-anchor=\"middle\" x=\"647.4942\" y=\"-231.8\" font-family=\"Times,serif\" font-size=\"14.00\" fill=\"#000000\">conj</text>\n</g>\n<!-- . (20) -->\n<g id=\"node9\" class=\"node\">\n<title>. (20)</title>\n<ellipse fill=\"none\" stroke=\"#000000\" cx=\"867.9942\" cy=\"-192\" rx=\"31.3957\" ry=\"18\"/>\n<text text-anchor=\"middle\" x=\"867.9942\" y=\"-188.3\" font-family=\"Times,serif\" font-size=\"14.00\" fill=\"#000000\">. (20)</text>\n</g>\n<!-- обитали (10)&#45;&gt;. (20) -->\n<g id=\"edge8\" class=\"edge\">\n<title>обитали (10)&#45;&gt;. (20)</title>\n<path fill=\"none\" stroke=\"#000000\" d=\"M521.5148,-272.4423C593.6251,-263.124 721.6293,-243.3708 826.9942,-210 829.5464,-209.1917 832.1539,-208.2751 834.7556,-207.294\"/>\n<polygon fill=\"#000000\" stroke=\"#000000\" points=\"836.0853,-210.5317 844.0429,-203.5369 833.4602,-204.0426 836.0853,-210.5317\"/>\n<text text-anchor=\"middle\" x=\"776.4942\" y=\"-231.8\" font-family=\"Times,serif\" font-size=\"14.00\" fill=\"#000000\">punct</text>\n</g>\n<!-- До (1) -->\n<g id=\"node21\" class=\"node\">\n<title>До (1)</title>\n<ellipse fill=\"none\" stroke=\"#000000\" cx=\"64.9942\" cy=\"-105\" rx=\"35.194\" ry=\"18\"/>\n<text text-anchor=\"middle\" x=\"64.9942\" y=\"-101.3\" font-family=\"Times,serif\" font-size=\"14.00\" fill=\"#000000\">До (1)</text>\n</g>\n<!-- появления (2)&#45;&gt;До (1) -->\n<g id=\"edge20\" class=\"edge\">\n<title>появления (2)&#45;&gt;До (1)</title>\n<path fill=\"none\" stroke=\"#000000\" d=\"M64.9942,-173.9735C64.9942,-162.1918 64.9942,-146.5607 64.9942,-133.1581\"/>\n<polygon fill=\"#000000\" stroke=\"#000000\" points=\"68.4943,-133.0033 64.9942,-123.0034 61.4943,-133.0034 68.4943,-133.0033\"/>\n<text text-anchor=\"middle\" x=\"76.9942\" y=\"-144.8\" font-family=\"Times,serif\" font-size=\"14.00\" fill=\"#000000\">case</text>\n</g>\n<!-- на (3) -->\n<g id=\"node20\" class=\"node\">\n<title>на (3)</title>\n<ellipse fill=\"none\" stroke=\"#000000\" cx=\"188.9942\" cy=\"-105\" rx=\"32.4942\" ry=\"18\"/>\n<text text-anchor=\"middle\" x=\"188.9942\" y=\"-101.3\" font-family=\"Times,serif\" font-size=\"14.00\" fill=\"#000000\">на (3)</text>\n</g>\n<!-- островах (4)&#45;&gt;на (3) -->\n<g id=\"edge19\" class=\"edge\">\n<title>островах (4)&#45;&gt;на (3)</title>\n<path fill=\"none\" stroke=\"#000000\" d=\"M204.0574,-173.9735C201.4844,-162.1918 198.0707,-146.5607 195.1437,-133.1581\"/>\n<polygon fill=\"#000000\" stroke=\"#000000\" points=\"198.4791,-132.0263 192.926,-123.0034 191.6403,-133.5199 198.4791,-132.0263\"/>\n<text text-anchor=\"middle\" x=\"211.9942\" y=\"-144.8\" font-family=\"Times,serif\" font-size=\"14.00\" fill=\"#000000\">case</text>\n</g>\n<!-- млекопитающих (7) -->\n<g id=\"node18\" class=\"node\">\n<title>млекопитающих (7)</title>\n<ellipse fill=\"none\" stroke=\"#000000\" cx=\"327.9942\" cy=\"-105\" rx=\"88.2844\" ry=\"18\"/>\n<text text-anchor=\"middle\" x=\"327.9942\" y=\"-101.3\" font-family=\"Times,serif\" font-size=\"14.00\" fill=\"#000000\">млекопитающих (7)</text>\n</g>\n<!-- человека (5)&#45;&gt;млекопитающих (7) -->\n<g id=\"edge17\" class=\"edge\">\n<title>человека (5)&#45;&gt;млекопитающих (7)</title>\n<path fill=\"none\" stroke=\"#000000\" d=\"M340.679,-173.9735C338.5123,-162.1918 335.6376,-146.5607 333.1727,-133.1581\"/>\n<polygon fill=\"#000000\" stroke=\"#000000\" points=\"336.5563,-132.2053 331.3052,-123.0034 329.6718,-133.4715 336.5563,-132.2053\"/>\n<text text-anchor=\"middle\" x=\"353.9942\" y=\"-144.8\" font-family=\"Times,serif\" font-size=\"14.00\" fill=\"#000000\">nmod</text>\n</g>\n<!-- на (8) -->\n<g id=\"node17\" class=\"node\">\n<title>на (8)</title>\n<ellipse fill=\"none\" stroke=\"#000000\" cx=\"466.9942\" cy=\"-105\" rx=\"32.4942\" ry=\"18\"/>\n<text text-anchor=\"middle\" x=\"466.9942\" y=\"-101.3\" font-family=\"Times,serif\" font-size=\"14.00\" fill=\"#000000\">на (8)</text>\n</g>\n<!-- суше (9)&#45;&gt;на (8) -->\n<g id=\"edge16\" class=\"edge\">\n<title>суше (9)&#45;&gt;на (8)</title>\n<path fill=\"none\" stroke=\"#000000\" d=\"M465.4086,-173.9735C465.6795,-162.1918 466.0388,-146.5607 466.3469,-133.1581\"/>\n<polygon fill=\"#000000\" stroke=\"#000000\" points=\"469.8495,-133.0812 466.5804,-123.0034 462.8514,-132.9202 469.8495,-133.0812\"/>\n<text text-anchor=\"middle\" x=\"478.9942\" y=\"-144.8\" font-family=\"Times,serif\" font-size=\"14.00\" fill=\"#000000\">case</text>\n</g>\n<!-- летучие (11) -->\n<g id=\"node16\" class=\"node\">\n<title>летучие (11)</title>\n<ellipse fill=\"none\" stroke=\"#000000\" cx=\"576.9942\" cy=\"-105\" rx=\"59.2899\" ry=\"18\"/>\n<text text-anchor=\"middle\" x=\"576.9942\" y=\"-101.3\" font-family=\"Times,serif\" font-size=\"14.00\" fill=\"#000000\">летучие (11)</text>\n</g>\n<!-- мыши (12)&#45;&gt;летучие (11) -->\n<g id=\"edge15\" class=\"edge\">\n<title>мыши (12)&#45;&gt;летучие (11)</title>\n<path fill=\"none\" stroke=\"#000000\" d=\"M579.3726,-173.9735C578.9664,-162.1918 578.4274,-146.5607 577.9652,-133.1581\"/>\n<polygon fill=\"#000000\" stroke=\"#000000\" points=\"581.4577,-132.8768 577.615,-123.0034 574.4618,-133.1181 581.4577,-132.8768\"/>\n<text text-anchor=\"middle\" x=\"595.4942\" y=\"-144.8\" font-family=\"Times,serif\" font-size=\"14.00\" fill=\"#000000\">amod</text>\n</g>\n<!-- , (13) -->\n<g id=\"node10\" class=\"node\">\n<title>, (13)</title>\n<ellipse fill=\"none\" stroke=\"#000000\" cx=\"684.9942\" cy=\"-105\" rx=\"31.3957\" ry=\"18\"/>\n<text text-anchor=\"middle\" x=\"684.9942\" y=\"-101.3\" font-family=\"Times,serif\" font-size=\"14.00\" fill=\"#000000\">, (13)</text>\n</g>\n<!-- водах (17)&#45;&gt;, (13) -->\n<g id=\"edge9\" class=\"edge\">\n<title>водах (17)&#45;&gt;, (13)</title>\n<path fill=\"none\" stroke=\"#000000\" d=\"M749.0317,-175.0558C742.8937,-169.1264 736.0518,-162.3601 729.9942,-156 721.764,-147.3587 713.0188,-137.5919 705.4479,-128.935\"/>\n<polygon fill=\"#000000\" stroke=\"#000000\" points=\"708.0719,-126.6185 698.8736,-121.3609 702.7855,-131.2071 708.0719,-126.6185\"/>\n<text text-anchor=\"middle\" x=\"746.4942\" y=\"-144.8\" font-family=\"Times,serif\" font-size=\"14.00\" fill=\"#000000\">punct</text>\n</g>\n<!-- а (14) -->\n<g id=\"node11\" class=\"node\">\n<title>а (14)</title>\n<ellipse fill=\"none\" stroke=\"#000000\" cx=\"766.9942\" cy=\"-105\" rx=\"32.4942\" ry=\"18\"/>\n<text text-anchor=\"middle\" x=\"766.9942\" y=\"-101.3\" font-family=\"Times,serif\" font-size=\"14.00\" fill=\"#000000\">а (14)</text>\n</g>\n<!-- водах (17)&#45;&gt;а (14) -->\n<g id=\"edge10\" class=\"edge\">\n<title>водах (17)&#45;&gt;а (14)</title>\n<path fill=\"none\" stroke=\"#000000\" d=\"M766.9942,-173.9735C766.9942,-162.1918 766.9942,-146.5607 766.9942,-133.1581\"/>\n<polygon fill=\"#000000\" stroke=\"#000000\" points=\"770.4943,-133.0033 766.9942,-123.0034 763.4943,-133.0034 770.4943,-133.0033\"/>\n<text text-anchor=\"middle\" x=\"773.4942\" y=\"-144.8\" font-family=\"Times,serif\" font-size=\"14.00\" fill=\"#000000\">cc</text>\n</g>\n<!-- в (15) -->\n<g id=\"node12\" class=\"node\">\n<title>в (15)</title>\n<ellipse fill=\"none\" stroke=\"#000000\" cx=\"850.9942\" cy=\"-105\" rx=\"33.2948\" ry=\"18\"/>\n<text text-anchor=\"middle\" x=\"850.9942\" y=\"-101.3\" font-family=\"Times,serif\" font-size=\"14.00\" fill=\"#000000\">в (15)</text>\n</g>\n<!-- водах (17)&#45;&gt;в (15) -->\n<g id=\"edge11\" class=\"edge\">\n<title>водах (17)&#45;&gt;в (15)</title>\n<path fill=\"none\" stroke=\"#000000\" d=\"M783.5899,-174.8116C796.4561,-161.486 814.4169,-142.8836 828.5632,-128.2321\"/>\n<polygon fill=\"#000000\" stroke=\"#000000\" points=\"831.1379,-130.6044 835.5659,-120.9793 826.1021,-125.7423 831.1379,-130.6044\"/>\n<text text-anchor=\"middle\" x=\"826.9942\" y=\"-144.8\" font-family=\"Times,serif\" font-size=\"14.00\" fill=\"#000000\">case</text>\n</g>\n<!-- прибрежных (16) -->\n<g id=\"node13\" class=\"node\">\n<title>прибрежных (16)</title>\n<ellipse fill=\"none\" stroke=\"#000000\" cx=\"980.9942\" cy=\"-105\" rx=\"79.0865\" ry=\"18\"/>\n<text text-anchor=\"middle\" x=\"980.9942\" y=\"-101.3\" font-family=\"Times,serif\" font-size=\"14.00\" fill=\"#000000\">прибрежных (16)</text>\n</g>\n<!-- водах (17)&#45;&gt;прибрежных (16) -->\n<g id=\"edge12\" class=\"edge\">\n<title>водах (17)&#45;&gt;прибрежных (16)</title>\n<path fill=\"none\" stroke=\"#000000\" d=\"M800.9032,-178.2146C836.4726,-163.7541 892.6839,-140.9019 932.8426,-124.5757\"/>\n<polygon fill=\"#000000\" stroke=\"#000000\" points=\"934.227,-127.7911 942.1726,-120.7826 931.5907,-121.3065 934.227,-127.7911\"/>\n<text text-anchor=\"middle\" x=\"902.4942\" y=\"-144.8\" font-family=\"Times,serif\" font-size=\"14.00\" fill=\"#000000\">amod</text>\n</g>\n<!-- дельфины (19) -->\n<g id=\"node14\" class=\"node\">\n<title>дельфины (19)</title>\n<ellipse fill=\"none\" stroke=\"#000000\" cx=\"1146.9942\" cy=\"-105\" rx=\"68.4888\" ry=\"18\"/>\n<text text-anchor=\"middle\" x=\"1146.9942\" y=\"-101.3\" font-family=\"Times,serif\" font-size=\"14.00\" fill=\"#000000\">дельфины (19)</text>\n</g>\n<!-- водах (17)&#45;&gt;дельфины (19) -->\n<g id=\"edge13\" class=\"edge\">\n<title>водах (17)&#45;&gt;дельфины (19)</title>\n<path fill=\"none\" stroke=\"#000000\" d=\"M805.5608,-179.9887C812.9709,-177.8603 820.6959,-175.7636 827.9942,-174 869.7654,-163.9063 880.9186,-164.7384 922.9942,-156 988.1301,-142.4723 1004.1386,-137.8128 1068.9942,-123 1074.329,-121.7815 1079.868,-120.5121 1085.4221,-119.2361\"/>\n<polygon fill=\"#000000\" stroke=\"#000000\" points=\"1086.4343,-122.5948 1095.3951,-116.942 1084.865,-115.773 1086.4343,-122.5948\"/>\n<text text-anchor=\"middle\" x=\"1007.9942\" y=\"-144.8\" font-family=\"Times,serif\" font-size=\"14.00\" fill=\"#000000\">appos</text>\n</g>\n<!-- — (18) -->\n<g id=\"node15\" class=\"node\">\n<title>— (18)</title>\n<ellipse fill=\"none\" stroke=\"#000000\" cx=\"1146.9942\" cy=\"-18\" rx=\"38.1938\" ry=\"18\"/>\n<text text-anchor=\"middle\" x=\"1146.9942\" y=\"-14.3\" font-family=\"Times,serif\" font-size=\"14.00\" fill=\"#000000\">— (18)</text>\n</g>\n<!-- дельфины (19)&#45;&gt;— (18) -->\n<g id=\"edge14\" class=\"edge\">\n<title>дельфины (19)&#45;&gt;— (18)</title>\n<path fill=\"none\" stroke=\"#000000\" d=\"M1146.9942,-86.9735C1146.9942,-75.1918 1146.9942,-59.5607 1146.9942,-46.1581\"/>\n<polygon fill=\"#000000\" stroke=\"#000000\" points=\"1150.4943,-46.0033 1146.9942,-36.0034 1143.4943,-46.0034 1150.4943,-46.0033\"/>\n<text text-anchor=\"middle\" x=\"1163.4942\" y=\"-57.8\" font-family=\"Times,serif\" font-size=\"14.00\" fill=\"#000000\">punct</text>\n</g>\n<!-- из (6) -->\n<g id=\"node19\" class=\"node\">\n<title>из (6)</title>\n<ellipse fill=\"none\" stroke=\"#000000\" cx=\"327.9942\" cy=\"-18\" rx=\"32.4942\" ry=\"18\"/>\n<text text-anchor=\"middle\" x=\"327.9942\" y=\"-14.3\" font-family=\"Times,serif\" font-size=\"14.00\" fill=\"#000000\">из (6)</text>\n</g>\n<!-- млекопитающих (7)&#45;&gt;из (6) -->\n<g id=\"edge18\" class=\"edge\">\n<title>млекопитающих (7)&#45;&gt;из (6)</title>\n<path fill=\"none\" stroke=\"#000000\" d=\"M327.9942,-86.9735C327.9942,-75.1918 327.9942,-59.5607 327.9942,-46.1581\"/>\n<polygon fill=\"#000000\" stroke=\"#000000\" points=\"331.4943,-46.0033 327.9942,-36.0034 324.4943,-46.0034 331.4943,-46.0033\"/>\n<text text-anchor=\"middle\" x=\"339.9942\" y=\"-57.8\" font-family=\"Times,serif\" font-size=\"14.00\" fill=\"#000000\">case</text>\n</g>\n</g>\n</svg>\n"
          },
          "metadata": {
            "tags": []
          },
          "execution_count": 32
        }
      ]
    },
    {
      "cell_type": "code",
      "metadata": {
        "colab": {
          "base_uri": "https://localhost:8080/",
          "height": 564
        },
        "id": "a_8Oxw6Bqbuj",
        "outputId": "f3da5de7-0b5e-4775-9e28-5cf1c071a778"
      },
      "source": [
        "draw_tree(taiga_tree)"
      ],
      "execution_count": 33,
      "outputs": [
        {
          "output_type": "execute_result",
          "data": {
            "text/plain": [
              "<graphviz.dot.Digraph at 0x7fee1b8aa790>"
            ],
            "image/svg+xml": "<?xml version=\"1.0\" encoding=\"UTF-8\" standalone=\"no\"?>\n<!DOCTYPE svg PUBLIC \"-//W3C//DTD SVG 1.1//EN\"\n \"http://www.w3.org/Graphics/SVG/1.1/DTD/svg11.dtd\">\n<!-- Generated by graphviz version 2.40.1 (20161225.0304)\n -->\n<!-- Title: %3 Pages: 1 -->\n<svg width=\"1292pt\" height=\"392pt\"\n viewBox=\"0.00 0.00 1292.34 392.00\" xmlns=\"http://www.w3.org/2000/svg\" xmlns:xlink=\"http://www.w3.org/1999/xlink\">\n<g id=\"graph0\" class=\"graph\" transform=\"scale(1 1) rotate(0) translate(4 388)\">\n<title>%3</title>\n<polygon fill=\"#ffffff\" stroke=\"transparent\" points=\"-4,4 -4,-388 1288.3408,-388 1288.3408,4 -4,4\"/>\n<!--  (0) -->\n<g id=\"node1\" class=\"node\">\n<title> (0)</title>\n<ellipse fill=\"none\" stroke=\"#000000\" cx=\"646.0969\" cy=\"-366\" rx=\"27\" ry=\"18\"/>\n<text text-anchor=\"middle\" x=\"646.0969\" y=\"-362.3\" font-family=\"Times,serif\" font-size=\"14.00\" fill=\"#000000\"> (0)</text>\n</g>\n<!-- обитали (10) -->\n<g id=\"node2\" class=\"node\">\n<title>обитали (10)</title>\n<ellipse fill=\"none\" stroke=\"#000000\" cx=\"646.0969\" cy=\"-279\" rx=\"60.3893\" ry=\"18\"/>\n<text text-anchor=\"middle\" x=\"646.0969\" y=\"-275.3\" font-family=\"Times,serif\" font-size=\"14.00\" fill=\"#000000\">обитали (10)</text>\n</g>\n<!--  (0)&#45;&gt;обитали (10) -->\n<g id=\"edge1\" class=\"edge\">\n<title> (0)&#45;&gt;обитали (10)</title>\n<path fill=\"none\" stroke=\"#000000\" d=\"M646.0969,-347.9735C646.0969,-336.1918 646.0969,-320.5607 646.0969,-307.1581\"/>\n<polygon fill=\"#000000\" stroke=\"#000000\" points=\"649.597,-307.0033 646.0969,-297.0034 642.597,-307.0034 649.597,-307.0033\"/>\n<text text-anchor=\"middle\" x=\"658.0969\" y=\"-318.8\" font-family=\"Times,serif\" font-size=\"14.00\" fill=\"#000000\">root</text>\n</g>\n<!-- появления (2) -->\n<g id=\"node3\" class=\"node\">\n<title>появления (2)</title>\n<ellipse fill=\"none\" stroke=\"#000000\" cx=\"148.0969\" cy=\"-192\" rx=\"64.9885\" ry=\"18\"/>\n<text text-anchor=\"middle\" x=\"148.0969\" y=\"-188.3\" font-family=\"Times,serif\" font-size=\"14.00\" fill=\"#000000\">появления (2)</text>\n</g>\n<!-- обитали (10)&#45;&gt;появления (2) -->\n<g id=\"edge2\" class=\"edge\">\n<title>обитали (10)&#45;&gt;появления (2)</title>\n<path fill=\"none\" stroke=\"#000000\" d=\"M593.7434,-269.8539C502.1192,-253.8473 312.9642,-220.8021 213.1101,-203.3577\"/>\n<polygon fill=\"#000000\" stroke=\"#000000\" points=\"213.5988,-199.8902 203.1457,-201.617 212.3941,-206.7857 213.5988,-199.8902\"/>\n<text text-anchor=\"middle\" x=\"436.5969\" y=\"-231.8\" font-family=\"Times,serif\" font-size=\"14.00\" fill=\"#000000\">obl</text>\n</g>\n<!-- суше (9) -->\n<g id=\"node4\" class=\"node\">\n<title>суше (9)</title>\n<ellipse fill=\"none\" stroke=\"#000000\" cx=\"464.0969\" cy=\"-192\" rx=\"44.393\" ry=\"18\"/>\n<text text-anchor=\"middle\" x=\"464.0969\" y=\"-188.3\" font-family=\"Times,serif\" font-size=\"14.00\" fill=\"#000000\">суше (9)</text>\n</g>\n<!-- обитали (10)&#45;&gt;суше (9) -->\n<g id=\"edge3\" class=\"edge\">\n<title>обитали (10)&#45;&gt;суше (9)</title>\n<path fill=\"none\" stroke=\"#000000\" d=\"M613.9779,-263.6464C582.7703,-248.7285 535.3718,-226.071 502.2573,-210.2415\"/>\n<polygon fill=\"#000000\" stroke=\"#000000\" points=\"503.4293,-206.9225 492.8977,-205.7674 500.4103,-213.238 503.4293,-206.9225\"/>\n<text text-anchor=\"middle\" x=\"575.5969\" y=\"-231.8\" font-family=\"Times,serif\" font-size=\"14.00\" fill=\"#000000\">obl</text>\n</g>\n<!-- мыши (12) -->\n<g id=\"node5\" class=\"node\">\n<title>мыши (12)</title>\n<ellipse fill=\"none\" stroke=\"#000000\" cx=\"646.0969\" cy=\"-192\" rx=\"53.0913\" ry=\"18\"/>\n<text text-anchor=\"middle\" x=\"646.0969\" y=\"-188.3\" font-family=\"Times,serif\" font-size=\"14.00\" fill=\"#000000\">мыши (12)</text>\n</g>\n<!-- обитали (10)&#45;&gt;мыши (12) -->\n<g id=\"edge4\" class=\"edge\">\n<title>обитали (10)&#45;&gt;мыши (12)</title>\n<path fill=\"none\" stroke=\"#000000\" d=\"M646.0969,-260.9735C646.0969,-249.1918 646.0969,-233.5607 646.0969,-220.1581\"/>\n<polygon fill=\"#000000\" stroke=\"#000000\" points=\"649.597,-220.0033 646.0969,-210.0034 642.597,-220.0034 649.597,-220.0033\"/>\n<text text-anchor=\"middle\" x=\"662.0969\" y=\"-231.8\" font-family=\"Times,serif\" font-size=\"14.00\" fill=\"#000000\">nsubj</text>\n</g>\n<!-- водах (17) -->\n<g id=\"node6\" class=\"node\">\n<title>водах (17)</title>\n<ellipse fill=\"none\" stroke=\"#000000\" cx=\"836.0969\" cy=\"-192\" rx=\"51.1914\" ry=\"18\"/>\n<text text-anchor=\"middle\" x=\"836.0969\" y=\"-188.3\" font-family=\"Times,serif\" font-size=\"14.00\" fill=\"#000000\">водах (17)</text>\n</g>\n<!-- обитали (10)&#45;&gt;водах (17) -->\n<g id=\"edge5\" class=\"edge\">\n<title>обитали (10)&#45;&gt;водах (17)</title>\n<path fill=\"none\" stroke=\"#000000\" d=\"M679.1924,-263.8458C711.4574,-249.0718 760.5965,-226.5712 795.2717,-210.6936\"/>\n<polygon fill=\"#000000\" stroke=\"#000000\" points=\"797.0073,-213.7484 804.6423,-206.4029 794.093,-207.3839 797.0073,-213.7484\"/>\n<text text-anchor=\"middle\" x=\"765.5969\" y=\"-231.8\" font-family=\"Times,serif\" font-size=\"14.00\" fill=\"#000000\">conj</text>\n</g>\n<!-- . (20) -->\n<g id=\"node7\" class=\"node\">\n<title>. (20)</title>\n<ellipse fill=\"none\" stroke=\"#000000\" cx=\"937.0969\" cy=\"-192\" rx=\"31.3957\" ry=\"18\"/>\n<text text-anchor=\"middle\" x=\"937.0969\" y=\"-188.3\" font-family=\"Times,serif\" font-size=\"14.00\" fill=\"#000000\">. (20)</text>\n</g>\n<!-- обитали (10)&#45;&gt;. (20) -->\n<g id=\"edge6\" class=\"edge\">\n<title>обитали (10)&#45;&gt;. (20)</title>\n<path fill=\"none\" stroke=\"#000000\" d=\"M694.2556,-268.0882C745.118,-256.0145 827.3095,-234.9326 896.0969,-210 898.463,-209.1424 900.8864,-208.2138 903.3148,-207.2459\"/>\n<polygon fill=\"#000000\" stroke=\"#000000\" points=\"904.7062,-210.4579 912.5945,-203.385 902.0172,-203.995 904.7062,-210.4579\"/>\n<text text-anchor=\"middle\" x=\"859.5969\" y=\"-231.8\" font-family=\"Times,serif\" font-size=\"14.00\" fill=\"#000000\">punct</text>\n</g>\n<!-- До (1) -->\n<g id=\"node18\" class=\"node\">\n<title>До (1)</title>\n<ellipse fill=\"none\" stroke=\"#000000\" cx=\"35.0969\" cy=\"-105\" rx=\"35.194\" ry=\"18\"/>\n<text text-anchor=\"middle\" x=\"35.0969\" y=\"-101.3\" font-family=\"Times,serif\" font-size=\"14.00\" fill=\"#000000\">До (1)</text>\n</g>\n<!-- появления (2)&#45;&gt;До (1) -->\n<g id=\"edge17\" class=\"edge\">\n<title>появления (2)&#45;&gt;До (1)</title>\n<path fill=\"none\" stroke=\"#000000\" d=\"M126.0411,-175.019C108.0255,-161.1486 82.4545,-141.4611 63.0133,-126.4931\"/>\n<polygon fill=\"#000000\" stroke=\"#000000\" points=\"64.8883,-123.5196 54.8294,-120.1923 60.6179,-129.0661 64.8883,-123.5196\"/>\n<text text-anchor=\"middle\" x=\"111.0969\" y=\"-144.8\" font-family=\"Times,serif\" font-size=\"14.00\" fill=\"#000000\">case</text>\n</g>\n<!-- островах (4) -->\n<g id=\"node19\" class=\"node\">\n<title>островах (4)</title>\n<ellipse fill=\"none\" stroke=\"#000000\" cx=\"148.0969\" cy=\"-105\" rx=\"59.5901\" ry=\"18\"/>\n<text text-anchor=\"middle\" x=\"148.0969\" y=\"-101.3\" font-family=\"Times,serif\" font-size=\"14.00\" fill=\"#000000\">островах (4)</text>\n</g>\n<!-- появления (2)&#45;&gt;островах (4) -->\n<g id=\"edge18\" class=\"edge\">\n<title>появления (2)&#45;&gt;островах (4)</title>\n<path fill=\"none\" stroke=\"#000000\" d=\"M148.0969,-173.9735C148.0969,-162.1918 148.0969,-146.5607 148.0969,-133.1581\"/>\n<polygon fill=\"#000000\" stroke=\"#000000\" points=\"151.597,-133.0033 148.0969,-123.0034 144.597,-133.0034 151.597,-133.0033\"/>\n<text text-anchor=\"middle\" x=\"165.0969\" y=\"-144.8\" font-family=\"Times,serif\" font-size=\"14.00\" fill=\"#000000\">nmod</text>\n</g>\n<!-- из (6) -->\n<g id=\"node15\" class=\"node\">\n<title>из (6)</title>\n<ellipse fill=\"none\" stroke=\"#000000\" cx=\"258.0969\" cy=\"-105\" rx=\"32.4942\" ry=\"18\"/>\n<text text-anchor=\"middle\" x=\"258.0969\" y=\"-101.3\" font-family=\"Times,serif\" font-size=\"14.00\" fill=\"#000000\">из (6)</text>\n</g>\n<!-- суше (9)&#45;&gt;из (6) -->\n<g id=\"edge14\" class=\"edge\">\n<title>суше (9)&#45;&gt;из (6)</title>\n<path fill=\"none\" stroke=\"#000000\" d=\"M433.2402,-179.0895C400.2565,-165.2721 346.4415,-142.6801 300.0969,-123 297.8789,-122.0581 295.596,-121.0864 293.2947,-120.1051\"/>\n<polygon fill=\"#000000\" stroke=\"#000000\" points=\"294.4218,-116.7806 283.8509,-116.0694 291.6711,-123.2175 294.4218,-116.7806\"/>\n<text text-anchor=\"middle\" x=\"389.0969\" y=\"-144.8\" font-family=\"Times,serif\" font-size=\"14.00\" fill=\"#000000\">case</text>\n</g>\n<!-- млекопитающих (7) -->\n<g id=\"node16\" class=\"node\">\n<title>млекопитающих (7)</title>\n<ellipse fill=\"none\" stroke=\"#000000\" cx=\"397.0969\" cy=\"-105\" rx=\"88.2844\" ry=\"18\"/>\n<text text-anchor=\"middle\" x=\"397.0969\" y=\"-101.3\" font-family=\"Times,serif\" font-size=\"14.00\" fill=\"#000000\">млекопитающих (7)</text>\n</g>\n<!-- суше (9)&#45;&gt;млекопитающих (7) -->\n<g id=\"edge15\" class=\"edge\">\n<title>суше (9)&#45;&gt;млекопитающих (7)</title>\n<path fill=\"none\" stroke=\"#000000\" d=\"M450.8598,-174.8116C441.2322,-162.31 428.0279,-145.1642 417.1148,-130.9934\"/>\n<polygon fill=\"#000000\" stroke=\"#000000\" points=\"419.8729,-128.8385 410.9984,-123.0512 414.3269,-133.1096 419.8729,-128.8385\"/>\n<text text-anchor=\"middle\" x=\"451.5969\" y=\"-144.8\" font-family=\"Times,serif\" font-size=\"14.00\" fill=\"#000000\">amod</text>\n</g>\n<!-- на (8) -->\n<g id=\"node17\" class=\"node\">\n<title>на (8)</title>\n<ellipse fill=\"none\" stroke=\"#000000\" cx=\"536.0969\" cy=\"-105\" rx=\"32.4942\" ry=\"18\"/>\n<text text-anchor=\"middle\" x=\"536.0969\" y=\"-101.3\" font-family=\"Times,serif\" font-size=\"14.00\" fill=\"#000000\">на (8)</text>\n</g>\n<!-- суше (9)&#45;&gt;на (8) -->\n<g id=\"edge16\" class=\"edge\">\n<title>суше (9)&#45;&gt;на (8)</title>\n<path fill=\"none\" stroke=\"#000000\" d=\"M478.3218,-174.8116C489.0105,-161.8961 503.8015,-144.0236 515.7418,-129.5957\"/>\n<polygon fill=\"#000000\" stroke=\"#000000\" points=\"518.7107,-131.4979 522.3901,-121.5624 513.318,-127.0349 518.7107,-131.4979\"/>\n<text text-anchor=\"middle\" x=\"517.0969\" y=\"-144.8\" font-family=\"Times,serif\" font-size=\"14.00\" fill=\"#000000\">case</text>\n</g>\n<!-- летучие (11) -->\n<g id=\"node14\" class=\"node\">\n<title>летучие (11)</title>\n<ellipse fill=\"none\" stroke=\"#000000\" cx=\"646.0969\" cy=\"-105\" rx=\"59.2899\" ry=\"18\"/>\n<text text-anchor=\"middle\" x=\"646.0969\" y=\"-101.3\" font-family=\"Times,serif\" font-size=\"14.00\" fill=\"#000000\">летучие (11)</text>\n</g>\n<!-- мыши (12)&#45;&gt;летучие (11) -->\n<g id=\"edge13\" class=\"edge\">\n<title>мыши (12)&#45;&gt;летучие (11)</title>\n<path fill=\"none\" stroke=\"#000000\" d=\"M646.0969,-173.9735C646.0969,-162.1918 646.0969,-146.5607 646.0969,-133.1581\"/>\n<polygon fill=\"#000000\" stroke=\"#000000\" points=\"649.597,-133.0033 646.0969,-123.0034 642.597,-133.0034 649.597,-133.0033\"/>\n<text text-anchor=\"middle\" x=\"662.5969\" y=\"-144.8\" font-family=\"Times,serif\" font-size=\"14.00\" fill=\"#000000\">amod</text>\n</g>\n<!-- , (13) -->\n<g id=\"node8\" class=\"node\">\n<title>, (13)</title>\n<ellipse fill=\"none\" stroke=\"#000000\" cx=\"754.0969\" cy=\"-105\" rx=\"31.3957\" ry=\"18\"/>\n<text text-anchor=\"middle\" x=\"754.0969\" y=\"-101.3\" font-family=\"Times,serif\" font-size=\"14.00\" fill=\"#000000\">, (13)</text>\n</g>\n<!-- водах (17)&#45;&gt;, (13) -->\n<g id=\"edge7\" class=\"edge\">\n<title>водах (17)&#45;&gt;, (13)</title>\n<path fill=\"none\" stroke=\"#000000\" d=\"M818.1344,-175.0558C811.9963,-169.1264 805.1544,-162.3601 799.0969,-156 790.8666,-147.3587 782.1214,-137.5919 774.5505,-128.935\"/>\n<polygon fill=\"#000000\" stroke=\"#000000\" points=\"777.1745,-126.6185 767.9763,-121.3609 771.8882,-131.2071 777.1745,-126.6185\"/>\n<text text-anchor=\"middle\" x=\"815.5969\" y=\"-144.8\" font-family=\"Times,serif\" font-size=\"14.00\" fill=\"#000000\">punct</text>\n</g>\n<!-- а (14) -->\n<g id=\"node9\" class=\"node\">\n<title>а (14)</title>\n<ellipse fill=\"none\" stroke=\"#000000\" cx=\"836.0969\" cy=\"-105\" rx=\"32.4942\" ry=\"18\"/>\n<text text-anchor=\"middle\" x=\"836.0969\" y=\"-101.3\" font-family=\"Times,serif\" font-size=\"14.00\" fill=\"#000000\">а (14)</text>\n</g>\n<!-- водах (17)&#45;&gt;а (14) -->\n<g id=\"edge8\" class=\"edge\">\n<title>водах (17)&#45;&gt;а (14)</title>\n<path fill=\"none\" stroke=\"#000000\" d=\"M836.0969,-173.9735C836.0969,-162.1918 836.0969,-146.5607 836.0969,-133.1581\"/>\n<polygon fill=\"#000000\" stroke=\"#000000\" points=\"839.597,-133.0033 836.0969,-123.0034 832.597,-133.0034 839.597,-133.0033\"/>\n<text text-anchor=\"middle\" x=\"842.5969\" y=\"-144.8\" font-family=\"Times,serif\" font-size=\"14.00\" fill=\"#000000\">cc</text>\n</g>\n<!-- в (15) -->\n<g id=\"node10\" class=\"node\">\n<title>в (15)</title>\n<ellipse fill=\"none\" stroke=\"#000000\" cx=\"920.0969\" cy=\"-105\" rx=\"33.2948\" ry=\"18\"/>\n<text text-anchor=\"middle\" x=\"920.0969\" y=\"-101.3\" font-family=\"Times,serif\" font-size=\"14.00\" fill=\"#000000\">в (15)</text>\n</g>\n<!-- водах (17)&#45;&gt;в (15) -->\n<g id=\"edge9\" class=\"edge\">\n<title>водах (17)&#45;&gt;в (15)</title>\n<path fill=\"none\" stroke=\"#000000\" d=\"M852.6926,-174.8116C865.5587,-161.486 883.5196,-142.8836 897.6659,-128.2321\"/>\n<polygon fill=\"#000000\" stroke=\"#000000\" points=\"900.2405,-130.6044 904.6686,-120.9793 895.2047,-125.7423 900.2405,-130.6044\"/>\n<text text-anchor=\"middle\" x=\"896.0969\" y=\"-144.8\" font-family=\"Times,serif\" font-size=\"14.00\" fill=\"#000000\">case</text>\n</g>\n<!-- прибрежных (16) -->\n<g id=\"node11\" class=\"node\">\n<title>прибрежных (16)</title>\n<ellipse fill=\"none\" stroke=\"#000000\" cx=\"1050.0969\" cy=\"-105\" rx=\"79.0865\" ry=\"18\"/>\n<text text-anchor=\"middle\" x=\"1050.0969\" y=\"-101.3\" font-family=\"Times,serif\" font-size=\"14.00\" fill=\"#000000\">прибрежных (16)</text>\n</g>\n<!-- водах (17)&#45;&gt;прибрежных (16) -->\n<g id=\"edge10\" class=\"edge\">\n<title>водах (17)&#45;&gt;прибрежных (16)</title>\n<path fill=\"none\" stroke=\"#000000\" d=\"M870.0058,-178.2146C905.5753,-163.7541 961.7865,-140.9019 1001.9453,-124.5757\"/>\n<polygon fill=\"#000000\" stroke=\"#000000\" points=\"1003.3297,-127.7911 1011.2753,-120.7826 1000.6934,-121.3065 1003.3297,-127.7911\"/>\n<text text-anchor=\"middle\" x=\"971.5969\" y=\"-144.8\" font-family=\"Times,serif\" font-size=\"14.00\" fill=\"#000000\">amod</text>\n</g>\n<!-- дельфины (19) -->\n<g id=\"node12\" class=\"node\">\n<title>дельфины (19)</title>\n<ellipse fill=\"none\" stroke=\"#000000\" cx=\"1216.0969\" cy=\"-105\" rx=\"68.4888\" ry=\"18\"/>\n<text text-anchor=\"middle\" x=\"1216.0969\" y=\"-101.3\" font-family=\"Times,serif\" font-size=\"14.00\" fill=\"#000000\">дельфины (19)</text>\n</g>\n<!-- водах (17)&#45;&gt;дельфины (19) -->\n<g id=\"edge11\" class=\"edge\">\n<title>водах (17)&#45;&gt;дельфины (19)</title>\n<path fill=\"none\" stroke=\"#000000\" d=\"M874.6634,-179.9887C882.0735,-177.8603 889.7986,-175.7636 897.0969,-174 938.8681,-163.9063 950.0213,-164.7384 992.0969,-156 1057.2328,-142.4723 1073.2412,-137.8128 1138.0969,-123 1143.4317,-121.7815 1148.9706,-120.5121 1154.5248,-119.2361\"/>\n<polygon fill=\"#000000\" stroke=\"#000000\" points=\"1155.5369,-122.5948 1164.4978,-116.942 1153.9676,-115.773 1155.5369,-122.5948\"/>\n<text text-anchor=\"middle\" x=\"1076.0969\" y=\"-144.8\" font-family=\"Times,serif\" font-size=\"14.00\" fill=\"#000000\">nsubj</text>\n</g>\n<!-- — (18) -->\n<g id=\"node13\" class=\"node\">\n<title>— (18)</title>\n<ellipse fill=\"none\" stroke=\"#000000\" cx=\"1216.0969\" cy=\"-18\" rx=\"38.1938\" ry=\"18\"/>\n<text text-anchor=\"middle\" x=\"1216.0969\" y=\"-14.3\" font-family=\"Times,serif\" font-size=\"14.00\" fill=\"#000000\">— (18)</text>\n</g>\n<!-- дельфины (19)&#45;&gt;— (18) -->\n<g id=\"edge12\" class=\"edge\">\n<title>дельфины (19)&#45;&gt;— (18)</title>\n<path fill=\"none\" stroke=\"#000000\" d=\"M1216.0969,-86.9735C1216.0969,-75.1918 1216.0969,-59.5607 1216.0969,-46.1581\"/>\n<polygon fill=\"#000000\" stroke=\"#000000\" points=\"1219.597,-46.0033 1216.0969,-36.0034 1212.597,-46.0034 1219.597,-46.0033\"/>\n<text text-anchor=\"middle\" x=\"1232.5969\" y=\"-57.8\" font-family=\"Times,serif\" font-size=\"14.00\" fill=\"#000000\">punct</text>\n</g>\n<!-- на (3) -->\n<g id=\"node20\" class=\"node\">\n<title>на (3)</title>\n<ellipse fill=\"none\" stroke=\"#000000\" cx=\"93.0969\" cy=\"-18\" rx=\"32.4942\" ry=\"18\"/>\n<text text-anchor=\"middle\" x=\"93.0969\" y=\"-14.3\" font-family=\"Times,serif\" font-size=\"14.00\" fill=\"#000000\">на (3)</text>\n</g>\n<!-- островах (4)&#45;&gt;на (3) -->\n<g id=\"edge19\" class=\"edge\">\n<title>островах (4)&#45;&gt;на (3)</title>\n<path fill=\"none\" stroke=\"#000000\" d=\"M136.7009,-86.9735C128.8028,-74.4802 118.1683,-57.6585 109.379,-43.7554\"/>\n<polygon fill=\"#000000\" stroke=\"#000000\" points=\"112.219,-41.6977 103.917,-35.1154 106.3022,-45.4383 112.219,-41.6977\"/>\n<text text-anchor=\"middle\" x=\"136.0969\" y=\"-57.8\" font-family=\"Times,serif\" font-size=\"14.00\" fill=\"#000000\">case</text>\n</g>\n<!-- человека (5) -->\n<g id=\"node21\" class=\"node\">\n<title>человека (5)</title>\n<ellipse fill=\"none\" stroke=\"#000000\" cx=\"202.0969\" cy=\"-18\" rx=\"58.4896\" ry=\"18\"/>\n<text text-anchor=\"middle\" x=\"202.0969\" y=\"-14.3\" font-family=\"Times,serif\" font-size=\"14.00\" fill=\"#000000\">человека (5)</text>\n</g>\n<!-- островах (4)&#45;&gt;человека (5) -->\n<g id=\"edge20\" class=\"edge\">\n<title>островах (4)&#45;&gt;человека (5)</title>\n<path fill=\"none\" stroke=\"#000000\" d=\"M159.2857,-86.9735C166.9388,-74.6435 177.2088,-58.0975 185.7714,-44.3021\"/>\n<polygon fill=\"#000000\" stroke=\"#000000\" points=\"188.8072,-46.0479 191.1071,-35.7057 182.8597,-42.3563 188.8072,-46.0479\"/>\n<text text-anchor=\"middle\" x=\"196.0969\" y=\"-57.8\" font-family=\"Times,serif\" font-size=\"14.00\" fill=\"#000000\">nmod</text>\n</g>\n</g>\n</svg>\n"
          },
          "metadata": {
            "tags": []
          },
          "execution_count": 33
        }
      ]
    },
    {
      "cell_type": "markdown",
      "metadata": {
        "id": "jU8n4urmqbul"
      },
      "source": [
        "Теперь можно переходить к расчету метрик"
      ]
    },
    {
      "cell_type": "markdown",
      "metadata": {
        "id": "VI1qm9bGqbuo"
      },
      "source": [
        "## Вычисление LAS и UAS\n",
        "\n",
        "Для этого набираем множества всех рёбер с метками и без и смотрим на размеры пересечений."
      ]
    },
    {
      "cell_type": "code",
      "metadata": {
        "id": "fEetAmXx6wAM"
      },
      "source": [
        "def edges_sets(tree):\n",
        "  \"\"\" Reading edges encoded as strings \"\"\"\n",
        "\n",
        "  edges_labeled = []\n",
        "  edges_unlabeled = []\n",
        "  queue = [Root(tree)]\n",
        "  \n",
        "  while len(queue) > 0:\n",
        "    head = queue.pop()\n",
        "    head_label = head.token[\"form\"] + \" (%d)\" % head.token[\"id\"]\n",
        "    queue.extend(head.children)\n",
        "    \n",
        "    for c in head.children:\n",
        "      c_label = c.token[\"form\"] + \" (%d)\" %  c.token[\"id\"]\n",
        "      edges_unlabeled.append((head_label, c_label))\n",
        "      edges_labeled.append((head_label, c_label, c.token[\"deprel\"]))\n",
        "  \n",
        "  return set(edges_labeled), set(edges_unlabeled)"
      ],
      "execution_count": 34,
      "outputs": []
    },
    {
      "cell_type": "code",
      "metadata": {
        "colab": {
          "base_uri": "https://localhost:8080/",
          "height": 35
        },
        "id": "SCT4HgK_i6cU",
        "outputId": "20bdead2-3912-439b-a6cd-f3dcbb1deb8c"
      },
      "source": [
        "def accuracy(gold, pred):\n",
        "  gold_labeled, gold_unlabeled = edges_sets(gold)\n",
        "  pred_labeled, pred_unlabeled = edges_sets(pred)\n",
        "\n",
        "  return len(gold_labeled.intersection(pred_labeled)) / len(gold_labeled), \\\n",
        "          len(gold_unlabeled.intersection(pred_unlabeled)) / len(gold_unlabeled)\n",
        "\n",
        "LAS, UAS = accuracy(str_tree, taiga_tree)\n",
        "\"LAS: %.4f UAS: %.4f\" % (LAS, UAS)"
      ],
      "execution_count": 35,
      "outputs": [
        {
          "output_type": "execute_result",
          "data": {
            "application/vnd.google.colaboratory.intrinsic+json": {
              "type": "string"
            },
            "text/plain": [
              "'LAS: 0.7500 UAS: 0.8000'"
            ]
          },
          "metadata": {
            "tags": []
          },
          "execution_count": 35
        }
      ]
    },
    {
      "cell_type": "markdown",
      "metadata": {
        "id": "XPsQ9gBtrKVL"
      },
      "source": [
        "Можно заметить, что в первом случае слово <code>башмачки</code> зависит от слова <code>порвались</code>, а во втором -- от слова <code>скалы</code>.\n",
        "Отдельно хотим напомнить, что таким образом корректно сравнивать парсеры только в том случае, когда токензация полностью совпадает."
      ]
    },
    {
      "cell_type": "markdown",
      "metadata": {
        "id": "n08jVsZwu_5R"
      },
      "source": [
        "## Вычисление глубины дерева"
      ]
    },
    {
      "cell_type": "markdown",
      "metadata": {
        "id": "B9LoRI_Hu_5R"
      },
      "source": [
        "Вычислим глубину дерева, например, для разбора модели taiga (ребро root не учитывается).\n",
        "\n",
        "Для этого также можно использовать, например, обход в ширину."
      ]
    },
    {
      "cell_type": "code",
      "metadata": {
        "colab": {
          "base_uri": "https://localhost:8080/"
        },
        "id": "_WKDvvPxi6cX",
        "outputId": "d916037f-9204-4296-ef39-b483f1a9c371"
      },
      "source": [
        "depth = 0\n",
        "queue = [(taiga_tree, depth)]\n",
        "\n",
        "while len(queue) > 0:\n",
        "    head, depth = queue.pop(0)\n",
        "    queue.extend([(c, depth + 1) for c in head.children])\n",
        "    #print(\"checking\", head.token[\"form\"])\n",
        "    \n",
        "print(\"Глубина дерева: \", depth)"
      ],
      "execution_count": 36,
      "outputs": [
        {
          "output_type": "stream",
          "text": [
            "Глубина дерева:  3\n"
          ],
          "name": "stdout"
        }
      ]
    },
    {
      "cell_type": "code",
      "metadata": {
        "id": "45zc-ojN5uph"
      },
      "source": [
        ""
      ],
      "execution_count": null,
      "outputs": []
    },
    {
      "cell_type": "code",
      "metadata": {
        "colab": {
          "base_uri": "https://localhost:8080/"
        },
        "id": "cT56qIx6o3yL",
        "outputId": "efebcf13-503c-411e-f0a7-42e74197b0f7"
      },
      "source": [
        "depth = 0\n",
        "queue = [(str_tree, depth)]\n",
        "\n",
        "while len(queue) > 0:\n",
        "    head, depth = queue.pop(0)\n",
        "    queue.extend([(c, depth + 1) for c in head.children])\n",
        "    #print(\"checking\", head.token[\"form\"])\n",
        "    \n",
        "print(\"Глубина дерева: \", depth)"
      ],
      "execution_count": 37,
      "outputs": [
        {
          "output_type": "stream",
          "text": [
            "Глубина дерева:  3\n"
          ],
          "name": "stdout"
        }
      ]
    }
  ]
}