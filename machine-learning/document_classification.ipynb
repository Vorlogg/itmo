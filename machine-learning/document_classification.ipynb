{
  "nbformat": 4,
  "nbformat_minor": 0,
  "metadata": {
    "kernelspec": {
      "display_name": "Python 3",
      "language": "python",
      "name": "python3"
    },
    "language_info": {
      "codemirror_mode": {
        "name": "ipython",
        "version": 3
      },
      "file_extension": ".py",
      "mimetype": "text/x-python",
      "name": "python",
      "nbconvert_exporter": "python",
      "pygments_lexer": "ipython3",
      "version": "3.7.6"
    },
    "colab": {
      "name": "3_Students_1.ipynb",
      "provenance": [],
      "collapsed_sections": [],
      "toc_visible": true
    }
  },
  "cells": [
    {
      "cell_type": "markdown",
      "metadata": {
        "id": "TAyzWDzFdnLa"
      },
      "source": [
        "## Классификация текстов: Spam or Ham"
      ]
    },
    {
      "cell_type": "markdown",
      "metadata": {
        "id": "sh91cKPmdnLb"
      },
      "source": [
        "В этом задании на примере классического датасета Spambase Dataset (https://archive.ics.uci.edu/ml/datasets/spambase) мы попробуем сделать свой спам-фильтр c помощью библиотеки scikit-learn. Датасет содержит корпус текстов 5,574 смс с метками \"spam\" и \"ham\". "
      ]
    },
    {
      "cell_type": "markdown",
      "metadata": {
        "id": "D4Bf-AmgdnLb"
      },
      "source": [
        "### Данные"
      ]
    },
    {
      "cell_type": "markdown",
      "metadata": {
        "id": "lWvXDXKrdnLb"
      },
      "source": [
        "Для удобства данные приложены в описании задания"
      ]
    },
    {
      "cell_type": "code",
      "metadata": {
        "id": "UnJwvQzbdnLb"
      },
      "source": [
        "import pandas as pd\n",
        "df = pd.read_csv('3_data.csv', encoding='latin-1')"
      ],
      "execution_count": 63,
      "outputs": []
    },
    {
      "cell_type": "markdown",
      "metadata": {
        "id": "GRqzedIIdnLc"
      },
      "source": [
        "Оставляем только интересующие нас колонки — тексты смс и метки:"
      ]
    },
    {
      "cell_type": "code",
      "metadata": {
        "id": "xO59-HEadnLc",
        "colab": {
          "base_uri": "https://localhost:8080/",
          "height": 204
        },
        "outputId": "ca712241-80b8-4ebd-b233-ae352b48f15c"
      },
      "source": [
        "df = df[['v1', 'v2']]\n",
        "df = df.rename(columns = {'v1': 'label', 'v2': 'text'})\n",
        "df.head()"
      ],
      "execution_count": 64,
      "outputs": [
        {
          "output_type": "execute_result",
          "data": {
            "text/html": [
              "<div>\n",
              "<style scoped>\n",
              "    .dataframe tbody tr th:only-of-type {\n",
              "        vertical-align: middle;\n",
              "    }\n",
              "\n",
              "    .dataframe tbody tr th {\n",
              "        vertical-align: top;\n",
              "    }\n",
              "\n",
              "    .dataframe thead th {\n",
              "        text-align: right;\n",
              "    }\n",
              "</style>\n",
              "<table border=\"1\" class=\"dataframe\">\n",
              "  <thead>\n",
              "    <tr style=\"text-align: right;\">\n",
              "      <th></th>\n",
              "      <th>label</th>\n",
              "      <th>text</th>\n",
              "    </tr>\n",
              "  </thead>\n",
              "  <tbody>\n",
              "    <tr>\n",
              "      <th>0</th>\n",
              "      <td>ham</td>\n",
              "      <td>Go until jurong point, crazy.. Available only ...</td>\n",
              "    </tr>\n",
              "    <tr>\n",
              "      <th>1</th>\n",
              "      <td>ham</td>\n",
              "      <td>Ok lar... Joking wif u oni...</td>\n",
              "    </tr>\n",
              "    <tr>\n",
              "      <th>2</th>\n",
              "      <td>spam</td>\n",
              "      <td>Free entry in 2 a wkly comp to win FA Cup fina...</td>\n",
              "    </tr>\n",
              "    <tr>\n",
              "      <th>3</th>\n",
              "      <td>ham</td>\n",
              "      <td>U dun say so early hor... U c already then say...</td>\n",
              "    </tr>\n",
              "    <tr>\n",
              "      <th>4</th>\n",
              "      <td>ham</td>\n",
              "      <td>Nah I don't think he goes to usf, he lives aro...</td>\n",
              "    </tr>\n",
              "  </tbody>\n",
              "</table>\n",
              "</div>"
            ],
            "text/plain": [
              "  label                                               text\n",
              "0   ham  Go until jurong point, crazy.. Available only ...\n",
              "1   ham                      Ok lar... Joking wif u oni...\n",
              "2  spam  Free entry in 2 a wkly comp to win FA Cup fina...\n",
              "3   ham  U dun say so early hor... U c already then say...\n",
              "4   ham  Nah I don't think he goes to usf, he lives aro..."
            ]
          },
          "metadata": {
            "tags": []
          },
          "execution_count": 64
        }
      ]
    },
    {
      "cell_type": "markdown",
      "metadata": {
        "id": "NU2xwmvIdnLd"
      },
      "source": [
        "Удаляем дублирующиеся тексты:"
      ]
    },
    {
      "cell_type": "code",
      "metadata": {
        "id": "iveCG_bXdnLd"
      },
      "source": [
        "df = df.drop_duplicates('text')"
      ],
      "execution_count": 65,
      "outputs": []
    },
    {
      "cell_type": "markdown",
      "metadata": {
        "id": "XuPip3mzdnLd"
      },
      "source": [
        "Заменяем метки на бинарные:"
      ]
    },
    {
      "cell_type": "code",
      "metadata": {
        "id": "JsKdfy6-dnLd"
      },
      "source": [
        "df['label'] = df['label'].map({'ham': 0, 'spam': 1})"
      ],
      "execution_count": 66,
      "outputs": []
    },
    {
      "cell_type": "markdown",
      "metadata": {
        "id": "8vQJK8LNdnLe"
      },
      "source": [
        "### Предобработка текста (Задание 1)"
      ]
    },
    {
      "cell_type": "markdown",
      "metadata": {
        "id": "D8tefVdTdnLe"
      },
      "source": [
        "Нужно дополнить функцию для предобработки сообщений, которая делает с текстом следующее:\n",
        "* приводит текст к нижнему регистру;\n",
        "* удаляет стоп-слова;\n",
        "* удаляет знаки препинания;\n",
        "* нормализует текст при помощи стеммера Snowball.\n",
        "\n",
        "Предлагаем воспользоваться библиотекой nltk, чтобы не составлять список стоп-слов и не реализовывать алгоритм стемминга самостоятельно. Примеры использования стеммеров можно найти по ссылке (https://www.nltk.org/howto/stem.html)."
      ]
    },
    {
      "cell_type": "code",
      "metadata": {
        "id": "yhU1BvAHdnLe",
        "colab": {
          "base_uri": "https://localhost:8080/"
        },
        "outputId": "13187847-bd8e-4b1d-8e72-29d18b54283c"
      },
      "source": [
        "from nltk import stem\n",
        "from nltk.corpus import stopwords\n",
        "import re\n",
        "import nltk\n",
        "nltk.download('stopwords')\n",
        "\n",
        "stemmer = stem.SnowballStemmer('english')\n",
        "stopwords = set(stopwords.words('english'))\n",
        "\n",
        "def preprocess(text):\n",
        "    text = re.sub(r'[^\\w\\s]', '', text)\n",
        "    text = text.lower()\n",
        "    text = [i for i in text.split() if not i in stopwords]\n",
        "    text = [stemmer.stem(i) for i in text]\n",
        "    text = \" \".join([i for i in text])\n",
        "    return text\n",
        "\n",
        "# print(preprocess(\"I'm gonna be home soon and i don't want to talk about this stuff anymore tonight, k? I've cried enough today.\"))"
      ],
      "execution_count": 67,
      "outputs": [
        {
          "output_type": "stream",
          "text": [
            "[nltk_data] Downloading package stopwords to /root/nltk_data...\n",
            "[nltk_data]   Package stopwords is already up-to-date!\n"
          ],
          "name": "stdout"
        }
      ]
    },
    {
      "cell_type": "markdown",
      "metadata": {
        "id": "QM-Lrt6ddnLe"
      },
      "source": [
        "Проверка, что функция работает верно"
      ]
    },
    {
      "cell_type": "code",
      "metadata": {
        "id": "RSuPqUb2dnLe"
      },
      "source": [
        "assert preprocess(\"I'm gonna be home soon and i don't want to talk about this stuff anymore tonight, k? I've cried enough today.\") == \"im gonna home soon dont want talk stuff anymor tonight k ive cri enough today\"\n",
        "assert preprocess(\"Go until jurong point, crazy.. Available only in bugis n great world la e buffet... Cine there got amore wat...\") == \"go jurong point crazi avail bugi n great world la e buffet cine got amor wat\""
      ],
      "execution_count": 68,
      "outputs": []
    },
    {
      "cell_type": "markdown",
      "metadata": {
        "id": "84H8mOmpdnLe"
      },
      "source": [
        "Применяем получившуюся функцию к текстам:"
      ]
    },
    {
      "cell_type": "code",
      "metadata": {
        "id": "NtM4626ednLe"
      },
      "source": [
        "df['text'] = df['text'].apply(preprocess)"
      ],
      "execution_count": 69,
      "outputs": []
    },
    {
      "cell_type": "markdown",
      "metadata": {
        "id": "gRyqtqUtdnLe"
      },
      "source": [
        "### Разделение данных на обучающую и тестовую выборки (Задание 2)"
      ]
    },
    {
      "cell_type": "code",
      "metadata": {
        "id": "nt7Z5NCMdnLe"
      },
      "source": [
        "y = df['label'].values"
      ],
      "execution_count": 70,
      "outputs": []
    },
    {
      "cell_type": "markdown",
      "metadata": {
        "id": "6r4PJBctdnLe"
      },
      "source": [
        "Теперь нужно разделить данные на тестовую (test) и обучающую (train) выборку. В библиотеке scikit-learn для этого есть готовые инструменты."
      ]
    },
    {
      "cell_type": "code",
      "metadata": {
        "id": "r1c9ARWIdnLe"
      },
      "source": [
        "from sklearn.model_selection import train_test_split\n",
        "X_train, X_test, y_train, y_test = train_test_split(df['text'], y, test_size=0.25, random_state=94)"
      ],
      "execution_count": 71,
      "outputs": []
    },
    {
      "cell_type": "markdown",
      "metadata": {
        "id": "KOV7Ub4ldnLe"
      },
      "source": [
        "### Обучение классификатора (Задание 3)"
      ]
    },
    {
      "cell_type": "markdown",
      "metadata": {
        "id": "enAzNefqdnLe"
      },
      "source": [
        "Переходим к обучению классификатора.\n",
        "\n",
        "Сначала извлекаем признаки из текстов. Рекомендуем попробовать разные способы и посмотреть, как это влияет на результат (подробнее о различных способах представления текстов можно прочитать по ссылке https://scikit-learn.org/stable/modules/feature_extraction.html#text-feature-extraction).\n",
        "\n",
        "Затем обучаем классификатор. Мы используем SVM, но можно поэкспериментировать с различными алгоритмами."
      ]
    },
    {
      "cell_type": "code",
      "metadata": {
        "id": "QtfcmJ7NdnLe"
      },
      "source": [
        "from sklearn.feature_extraction.text import TfidfVectorizer, CountVectorizer\n",
        "\n",
        "# извлекаем признаки из текстов\n",
        "vectorizer = TfidfVectorizer(decode_error='ignore')\n",
        "X_train = vectorizer.fit_transform(X_train)\n",
        "X_test = vectorizer.transform(X_test)"
      ],
      "execution_count": 72,
      "outputs": []
    },
    {
      "cell_type": "code",
      "metadata": {
        "id": "PIQQo8j3dnLe"
      },
      "source": [
        "from sklearn.svm import LinearSVC\n",
        "from sklearn.metrics import classification_report\n",
        "\n",
        "#обучаем подель SVM\n",
        "\n",
        "model = LinearSVC(random_state = 94, C = 1.3)\n",
        "model.fit(X_train, y_train)\n",
        "predictions = model.predict(X_test)"
      ],
      "execution_count": 73,
      "outputs": []
    },
    {
      "cell_type": "markdown",
      "metadata": {
        "id": "sn9kvQaZdnLe"
      },
      "source": [
        "Для самопроверки. Если вы верно дополнили функцию ```preprocess```, то должны получиться следующие результаты оценки модели."
      ]
    },
    {
      "cell_type": "code",
      "metadata": {
        "id": "zGxDEYnjdnLe",
        "colab": {
          "base_uri": "https://localhost:8080/"
        },
        "outputId": "1f6a8c8b-12e5-45d2-da53-f995606de0bf"
      },
      "source": [
        "print(classification_report(y_test, predictions, digits=3))"
      ],
      "execution_count": 74,
      "outputs": [
        {
          "output_type": "stream",
          "text": [
            "              precision    recall  f1-score   support\n",
            "\n",
            "           0      0.980     0.996     0.988      1133\n",
            "           1      0.965     0.856     0.907       160\n",
            "\n",
            "    accuracy                          0.978      1293\n",
            "   macro avg      0.972     0.926     0.948      1293\n",
            "weighted avg      0.978     0.978     0.978      1293\n",
            "\n"
          ],
          "name": "stdout"
        }
      ]
    },
    {
      "cell_type": "markdown",
      "metadata": {
        "id": "1nffLu6UdnLf"
      },
      "source": [
        "Выполним предсказание для конкретного текста"
      ]
    },
    {
      "cell_type": "code",
      "metadata": {
        "id": "prWswDzudnLf"
      },
      "source": [
        "txt = \"Take your prize, more than 100 computers, smartphones and TVs are supposed to be played in a free quiz. Call by phone 8 800 243 456\"\n",
        "txt = preprocess(txt)\n",
        "txt = vectorizer.transform([txt])"
      ],
      "execution_count": 81,
      "outputs": []
    },
    {
      "cell_type": "code",
      "metadata": {
        "id": "brfpnzR7dnLf",
        "colab": {
          "base_uri": "https://localhost:8080/"
        },
        "outputId": "205d566c-fd81-41c8-e5bc-dfc48fa6ce06"
      },
      "source": [
        "model.predict(txt)"
      ],
      "execution_count": 82,
      "outputs": [
        {
          "output_type": "execute_result",
          "data": {
            "text/plain": [
              "array([1])"
            ]
          },
          "metadata": {
            "tags": []
          },
          "execution_count": 82
        }
      ]
    },
    {
      "cell_type": "code",
      "metadata": {
        "id": "aVfQFiwGdnLf",
        "colab": {
          "base_uri": "https://localhost:8080/",
          "height": 129
        },
        "outputId": "28c48201-d85c-4ee0-d481-fc9eac3c45ac"
      },
      "source": [
        "Сообщение помечено как спам."
      ],
      "execution_count": 62,
      "outputs": [
        {
          "output_type": "error",
          "ename": "SyntaxError",
          "evalue": "ignored",
          "traceback": [
            "\u001b[0;36m  File \u001b[0;32m\"<ipython-input-62-85ef12f43bc8>\"\u001b[0;36m, line \u001b[0;32m1\u001b[0m\n\u001b[0;31m    Сообщение помечено как спам.\u001b[0m\n\u001b[0m                     ^\u001b[0m\n\u001b[0;31mSyntaxError\u001b[0m\u001b[0;31m:\u001b[0m invalid syntax\n"
          ]
        }
      ]
    }
  ]
}