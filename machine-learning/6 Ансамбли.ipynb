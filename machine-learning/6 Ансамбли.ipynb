{
  "nbformat": 4,
  "nbformat_minor": 0,
  "metadata": {
    "kernelspec": {
      "display_name": "Python 3",
      "language": "python",
      "name": "python3"
    },
    "language_info": {
      "codemirror_mode": {
        "name": "ipython",
        "version": 3
      },
      "file_extension": ".py",
      "mimetype": "text/x-python",
      "name": "python",
      "nbconvert_exporter": "python",
      "pygments_lexer": "ipython3",
      "version": "3.7.4"
    },
    "colab": {
      "name": "6 Ансамбли.ipynb",
      "provenance": [],
      "collapsed_sections": []
    }
  },
  "cells": [
    {
      "cell_type": "markdown",
      "metadata": {
        "id": "eFSGj2sf6bgu"
      },
      "source": [
        "Приведем подробные инструкции для решения поставленной задачи."
      ]
    },
    {
      "cell_type": "markdown",
      "metadata": {
        "id": "qWE2dWnz6bgy"
      },
      "source": [
        "Сначала обновим и установим необходимые модули."
      ]
    },
    {
      "cell_type": "code",
      "metadata": {
        "colab": {
          "base_uri": "https://localhost:8080/"
        },
        "id": "SyoUj3y36bgz",
        "outputId": "4298e2e1-54ee-470b-99d7-169977146b11"
      },
      "source": [
        "!pip install --upgrade pip\n",
        "!pip install imutils\n",
        "!pip install opencv-python\n",
        "!pip install --upgrade scikit-learn==0.23.0"
      ],
      "execution_count": 1,
      "outputs": [
        {
          "output_type": "stream",
          "text": [
            "Collecting pip\n",
            "\u001b[?25l  Downloading https://files.pythonhosted.org/packages/cd/82/04e9aaf603fdbaecb4323b9e723f13c92c245f6ab2902195c53987848c78/pip-21.1.2-py3-none-any.whl (1.5MB)\n",
            "\u001b[K     |████████████████████████████████| 1.6MB 3.0MB/s \n",
            "\u001b[?25hInstalling collected packages: pip\n",
            "  Found existing installation: pip 19.3.1\n",
            "    Uninstalling pip-19.3.1:\n",
            "      Successfully uninstalled pip-19.3.1\n",
            "Successfully installed pip-21.1.2\n",
            "Requirement already satisfied: imutils in /usr/local/lib/python3.7/dist-packages (0.5.4)\n",
            "\u001b[33mWARNING: Running pip as root will break packages and permissions. You should install packages reliably by using venv: https://pip.pypa.io/warnings/venv\u001b[0m\n",
            "Requirement already satisfied: opencv-python in /usr/local/lib/python3.7/dist-packages (4.1.2.30)\n",
            "Requirement already satisfied: numpy>=1.14.5 in /usr/local/lib/python3.7/dist-packages (from opencv-python) (1.19.5)\n",
            "\u001b[33mWARNING: Running pip as root will break packages and permissions. You should install packages reliably by using venv: https://pip.pypa.io/warnings/venv\u001b[0m\n",
            "Collecting scikit-learn==0.23.0\n",
            "  Downloading scikit_learn-0.23.0-cp37-cp37m-manylinux1_x86_64.whl (7.3 MB)\n",
            "\u001b[K     |████████████████████████████████| 7.3 MB 2.1 MB/s \n",
            "\u001b[?25hRequirement already satisfied: scipy>=0.19.1 in /usr/local/lib/python3.7/dist-packages (from scikit-learn==0.23.0) (1.4.1)\n",
            "Collecting threadpoolctl>=2.0.0\n",
            "  Downloading threadpoolctl-2.1.0-py3-none-any.whl (12 kB)\n",
            "Requirement already satisfied: numpy>=1.13.3 in /usr/local/lib/python3.7/dist-packages (from scikit-learn==0.23.0) (1.19.5)\n",
            "Requirement already satisfied: joblib>=0.11 in /usr/local/lib/python3.7/dist-packages (from scikit-learn==0.23.0) (1.0.1)\n",
            "Installing collected packages: threadpoolctl, scikit-learn\n",
            "  Attempting uninstall: scikit-learn\n",
            "    Found existing installation: scikit-learn 0.22.2.post1\n",
            "    Uninstalling scikit-learn-0.22.2.post1:\n",
            "      Successfully uninstalled scikit-learn-0.22.2.post1\n",
            "Successfully installed scikit-learn-0.23.0 threadpoolctl-2.1.0\n",
            "\u001b[33mWARNING: Running pip as root will break packages and permissions. You should install packages reliably by using venv: https://pip.pypa.io/warnings/venv\u001b[0m\n"
          ],
          "name": "stdout"
        }
      ]
    },
    {
      "cell_type": "markdown",
      "metadata": {
        "id": "x15W6PvJ6bg0"
      },
      "source": [
        "Подключение базовых библиотек для обработки изображений"
      ]
    },
    {
      "cell_type": "code",
      "metadata": {
        "id": "gnCg1UvV6bg1"
      },
      "source": [
        "from IPython.display import Image\n",
        "from imutils import paths\n",
        "import numpy as np\n",
        "import cv2\n",
        "import os"
      ],
      "execution_count": 2,
      "outputs": []
    },
    {
      "cell_type": "markdown",
      "metadata": {
        "id": "zPMwjr2I6bg1"
      },
      "source": [
        "Для работы с изображениями, найдем их гистограммы — характеристики распределения интенсивности изображения. Для этого можно воспользоваться следующим методом."
      ]
    },
    {
      "cell_type": "code",
      "metadata": {
        "id": "U68V8bo46bg2"
      },
      "source": [
        "def extract_histogram(image, bins=(8, 8, 8)):\n",
        "    hist = cv2.calcHist([image], [0, 1, 2], None, bins, [0, 256, 0, 256, 0, 256])\n",
        "    cv2.normalize(hist, hist)\n",
        "    return hist.flatten()"
      ],
      "execution_count": 3,
      "outputs": []
    },
    {
      "cell_type": "markdown",
      "metadata": {
        "id": "_TCRtkp76bg2"
      },
      "source": [
        "Считаем изображения из корневой папки train и вычислим гистограмму каждого изображения. Кроме того, отделим метку каждого изображения. Обработка большого числа изображений в облачных сервисах занимает длительное время (1-5 минут)."
      ]
    },
    {
      "cell_type": "code",
      "metadata": {
        "id": "oZLD1Sfh6bg3"
      },
      "source": [
        "imagePaths = sorted(list(paths.list_images('6 train')))\n",
        "trainData = []\n",
        "labels = []\n",
        "\n",
        "for (i, imagePath) in enumerate(imagePaths):\n",
        "    image = cv2.imread(imagePath, 1)\n",
        "    label = imagePath.split(os.path.sep)[-1].split(\".\")[0]\n",
        "    hist = extract_histogram(image)\n",
        "    trainData.append(hist)\n",
        "    labels.append(label)"
      ],
      "execution_count": 4,
      "outputs": []
    },
    {
      "cell_type": "markdown",
      "metadata": {
        "id": "nR9WhC9g6bg3"
      },
      "source": [
        "Преобразуем метки в удобный формат 0 и 1. Cat заменяем на 1, Dog на 0."
      ]
    },
    {
      "cell_type": "code",
      "metadata": {
        "id": "pvC7Hgun6bg4"
      },
      "source": [
        "Y = [1 if x == 'cat' else 0 for x in labels]"
      ],
      "execution_count": 5,
      "outputs": []
    },
    {
      "cell_type": "code",
      "metadata": {
        "colab": {
          "base_uri": "https://localhost:8080/",
          "height": 408
        },
        "id": "ytwHo9sY6bg4",
        "outputId": "a726398b-bf61-448e-fa10-470417e2e2d5"
      },
      "source": [
        "print(Y[0])\n",
        "Image(filename=imagePaths[0])"
      ],
      "execution_count": 6,
      "outputs": [
        {
          "output_type": "stream",
          "text": [
            "1\n"
          ],
          "name": "stdout"
        },
        {
          "output_type": "execute_result",
          "data": {
            "image/jpeg": "[encoded data removed]",
            "text/plain": [
              "<IPython.core.display.Image object>"
            ]
          },
          "metadata": {
            "tags": []
          },
          "execution_count": 6
        }
      ]
    },
    {
      "cell_type": "markdown",
      "metadata": {
        "id": "LpSpALFq6bg5"
      },
      "source": [
        "Видно, что классом 1 у нас занумерованы коты (кошки)."
      ]
    },
    {
      "cell_type": "markdown",
      "metadata": {
        "id": "pOW7e8tW6bg5"
      },
      "source": [
        "Обучаем первый базовый классификатор - бэггинг деревьев принятия решений"
      ]
    },
    {
      "cell_type": "code",
      "metadata": {
        "colab": {
          "base_uri": "https://localhost:8080/"
        },
        "id": "Pde4a7pI6bg6",
        "outputId": "af1ef35e-a606-4344-e568-a60a88038555"
      },
      "source": [
        "from sklearn.ensemble import BaggingClassifier\n",
        "from sklearn.tree import DecisionTreeClassifier\n",
        "\n",
        "tree = DecisionTreeClassifier(criterion='entropy', #критерий разделения\n",
        "                              min_samples_leaf=10, #минимальное число объектов в листе\n",
        "                              max_leaf_nodes=20, #максимальное число листьев\n",
        "                              random_state=462)\n",
        "bagging = BaggingClassifier(tree, #базовый алгоритм\n",
        "                            n_estimators=19, #количество деревьев\n",
        "                            random_state=462)\n",
        "bagging.fit(trainData, Y)"
      ],
      "execution_count": 7,
      "outputs": [
        {
          "output_type": "execute_result",
          "data": {
            "text/plain": [
              "BaggingClassifier(base_estimator=DecisionTreeClassifier(criterion='entropy',\n",
              "                                                        max_leaf_nodes=20,\n",
              "                                                        min_samples_leaf=10,\n",
              "                                                        random_state=462),\n",
              "                  n_estimators=19, random_state=462)"
            ]
          },
          "metadata": {
            "tags": []
          },
          "execution_count": 7
        }
      ]
    },
    {
      "cell_type": "markdown",
      "metadata": {
        "id": "rmor2jXv6bg6"
      },
      "source": [
        "Теперь обучим модель почти-разделяющий гиперплосоксти."
      ]
    },
    {
      "cell_type": "code",
      "metadata": {
        "colab": {
          "base_uri": "https://localhost:8080/"
        },
        "id": "22EeqtAE6bg7",
        "outputId": "d5a1c092-8a92-4e99-babf-0309655351c1"
      },
      "source": [
        "from sklearn.svm import LinearSVC\n",
        "\n",
        "svm = LinearSVC(random_state = 462, C = 1.09)\n",
        "svm.fit(trainData, Y)"
      ],
      "execution_count": 8,
      "outputs": [
        {
          "output_type": "execute_result",
          "data": {
            "text/plain": [
              "LinearSVC(C=1.09, random_state=462)"
            ]
          },
          "metadata": {
            "tags": []
          },
          "execution_count": 8
        }
      ]
    },
    {
      "cell_type": "markdown",
      "metadata": {
        "id": "st0ZSJtM6bg7"
      },
      "source": [
        "И наконец обучаем третий базовый алгоритм — случайный лес"
      ]
    },
    {
      "cell_type": "code",
      "metadata": {
        "colab": {
          "base_uri": "https://localhost:8080/"
        },
        "id": "dtNXe-q86bg7",
        "outputId": "fa257536-1dc6-4b8b-dea9-a7b49139cf29"
      },
      "source": [
        "from sklearn.ensemble import RandomForestClassifier\n",
        "\n",
        "forest = RandomForestClassifier(n_estimators=19, #количество деревьев\n",
        "                             criterion='entropy', #критерий разделения\n",
        "                              min_samples_leaf=10, #минимальное число объектов в листе\n",
        "                              max_leaf_nodes=20, #максимальное число листьев\n",
        "                              random_state=462)\n",
        "forest.fit(trainData, Y)"
      ],
      "execution_count": 9,
      "outputs": [
        {
          "output_type": "execute_result",
          "data": {
            "text/plain": [
              "RandomForestClassifier(criterion='entropy', max_leaf_nodes=20,\n",
              "                       min_samples_leaf=10, n_estimators=19, random_state=462)"
            ]
          },
          "metadata": {
            "tags": []
          },
          "execution_count": 9
        }
      ]
    },
    {
      "cell_type": "markdown",
      "metadata": {
        "id": "xFaMpG3Y6bg8"
      },
      "source": [
        "Задаем в качестве решающего метаалгоритма логистическую регрессию:"
      ]
    },
    {
      "cell_type": "code",
      "metadata": {
        "id": "5h4aVsUA6bg8"
      },
      "source": [
        "from sklearn.linear_model import LogisticRegression\n",
        "\n",
        "lr = LogisticRegression(solver='lbfgs', random_state=462)"
      ],
      "execution_count": 10,
      "outputs": []
    },
    {
      "cell_type": "markdown",
      "metadata": {
        "id": "CcERAO1z6bg8"
      },
      "source": [
        "Обучаем метаалгоритм"
      ]
    },
    {
      "cell_type": "code",
      "metadata": {
        "colab": {
          "base_uri": "https://localhost:8080/"
        },
        "id": "YOF2WnRk6bg9",
        "outputId": "8695d21d-ab72-4d40-9938-2a3f6cc1a2d6"
      },
      "source": [
        "from sklearn.ensemble import StackingClassifier\n",
        "\n",
        "base_estimators = [('SVM', svm), ('Bagging DT', bagging), ('DecisionForest', forest)]\n",
        "sclf = StackingClassifier(estimators=base_estimators, final_estimator=lr, cv=2)\n",
        "sclf.fit(trainData, Y)"
      ],
      "execution_count": 11,
      "outputs": [
        {
          "output_type": "execute_result",
          "data": {
            "text/plain": [
              "StackingClassifier(cv=2,\n",
              "                   estimators=[('SVM', LinearSVC(C=1.09, random_state=462)),\n",
              "                               ('Bagging DT',\n",
              "                                BaggingClassifier(base_estimator=DecisionTreeClassifier(criterion='entropy',\n",
              "                                                                                        max_leaf_nodes=20,\n",
              "                                                                                        min_samples_leaf=10,\n",
              "                                                                                        random_state=462),\n",
              "                                                  n_estimators=19,\n",
              "                                                  random_state=462)),\n",
              "                               ('DecisionForest',\n",
              "                                RandomForestClassifier(criterion='entropy',\n",
              "                                                       max_leaf_nodes=20,\n",
              "                                                       min_samples_leaf=10,\n",
              "                                                       n_estimators=19,\n",
              "                                                       random_state=462))],\n",
              "                   final_estimator=LogisticRegression(random_state=462))"
            ]
          },
          "metadata": {
            "tags": []
          },
          "execution_count": 11
        }
      ]
    },
    {
      "cell_type": "markdown",
      "metadata": {
        "id": "5FPcP8Rj6bg9"
      },
      "source": [
        "Оценка метамодели. Доля правильной классификации (Accuracy):"
      ]
    },
    {
      "cell_type": "code",
      "metadata": {
        "colab": {
          "base_uri": "https://localhost:8080/"
        },
        "id": "jrcQn03B6bg-",
        "outputId": "40228336-8da4-4d7b-9c09-acb1d0c84375"
      },
      "source": [
        "sclf.score(trainData, Y)"
      ],
      "execution_count": 12,
      "outputs": [
        {
          "output_type": "execute_result",
          "data": {
            "text/plain": [
              "0.839"
            ]
          },
          "metadata": {
            "tags": []
          },
          "execution_count": 12
        }
      ]
    },
    {
      "cell_type": "markdown",
      "metadata": {
        "id": "CWwHejz66bhA"
      },
      "source": [
        "Вычислим предсказания для объекта из папки test"
      ]
    },
    {
      "cell_type": "code",
      "metadata": {
        "id": "BfkOrcEI6bhA"
      },
      "source": [
        "path = '1023'\n",
        "singleImage = cv2.imread('6 test/dog.' + path + '.jpg')\n",
        "histt = extract_histogram(singleImage)\n",
        "histt2 = histt.reshape(1, -1)\n",
        "prediction = sclf.predict(histt2)"
      ],
      "execution_count": 37,
      "outputs": []
    },
    {
      "cell_type": "code",
      "metadata": {
        "colab": {
          "base_uri": "https://localhost:8080/",
          "height": 167
        },
        "id": "Nl3E-Btf6bhA",
        "outputId": "d805fdde-4c6f-4ef6-9d12-1934a95257c0"
      },
      "source": [
        "Image(filename='6 test/dog.' + path + '.jpg')"
      ],
      "execution_count": 38,
      "outputs": [
        {
          "output_type": "execute_result",
          "data": {
            "image/jpeg": "[encoded data removed]",
            "text/plain": [
              "<IPython.core.display.Image object>"
            ]
          },
          "metadata": {
            "tags": []
          },
          "execution_count": 38
        }
      ]
    },
    {
      "cell_type": "code",
      "metadata": {
        "colab": {
          "base_uri": "https://localhost:8080/"
        },
        "id": "XXdvN4Hj6bhB",
        "outputId": "c732a32c-01cd-4fc0-9985-f6f5c169d60a"
      },
      "source": [
        "prediction"
      ],
      "execution_count": 39,
      "outputs": [
        {
          "output_type": "execute_result",
          "data": {
            "text/plain": [
              "array([0])"
            ]
          },
          "metadata": {
            "tags": []
          },
          "execution_count": 39
        }
      ]
    },
    {
      "cell_type": "code",
      "metadata": {
        "colab": {
          "base_uri": "https://localhost:8080/"
        },
        "id": "MWNxZHde6bhB",
        "outputId": "b5d00941-b8cb-4895-cf1a-e810c973da0b"
      },
      "source": [
        "sclf.predict_proba(histt2)"
      ],
      "execution_count": 40,
      "outputs": [
        {
          "output_type": "execute_result",
          "data": {
            "text/plain": [
              "array([[0.64898581, 0.35101419]])"
            ]
          },
          "metadata": {
            "tags": []
          },
          "execution_count": 40
        }
      ]
    },
    {
      "cell_type": "markdown",
      "metadata": {
        "id": "mdrRf--A6bhB"
      },
      "source": [
        "Видно, что построенный классификатор успешно справился с заданием."
      ]
    },
    {
      "cell_type": "code",
      "metadata": {
        "id": "GZSSNums6bhC"
      },
      "source": [
        ""
      ],
      "execution_count": null,
      "outputs": []
    },
    {
      "cell_type": "code",
      "metadata": {
        "id": "IpYH8wBz6bhC"
      },
      "source": [
        ""
      ],
      "execution_count": null,
      "outputs": []
    }
  ]
}