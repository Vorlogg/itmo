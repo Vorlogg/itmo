{
  "nbformat": 4,
  "nbformat_minor": 0,
  "metadata": {
    "colab": {
      "name": "Task_4_Students.ipynb",
      "provenance": [],
      "collapsed_sections": [],
      "toc_visible": true
    },
    "kernelspec": {
      "display_name": "Python 3",
      "language": "python",
      "name": "python3"
    },
    "language_info": {
      "codemirror_mode": {
        "name": "ipython",
        "version": 3
      },
      "file_extension": ".py",
      "mimetype": "text/x-python",
      "name": "python",
      "nbconvert_exporter": "python",
      "pygments_lexer": "ipython3",
      "version": "3.7.6"
    }
  },
  "cells": [
    {
      "cell_type": "markdown",
      "metadata": {
        "id": "yLYpSPDlW9LC"
      },
      "source": [
        "## Скачиваем необходимое\n",
        "\n",
        "Сначала нужно средствами NLTK загрузить WordNet.\n",
        "\n"
      ]
    },
    {
      "cell_type": "code",
      "metadata": {
        "colab": {
          "base_uri": "https://localhost:8080/"
        },
        "id": "YhTQ6EFXZ5R9",
        "outputId": "12a88514-8fb8-4b2b-b91f-c93c0f15fa8a"
      },
      "source": [
        "import nltk\n",
        "from nltk.corpus import wordnet as wn\n",
        "nltk.download('wordnet')"
      ],
      "execution_count": 1,
      "outputs": [
        {
          "output_type": "stream",
          "text": [
            "[nltk_data] Downloading package wordnet to /root/nltk_data...\n",
            "[nltk_data]   Unzipping corpora/wordnet.zip.\n"
          ],
          "name": "stdout"
        },
        {
          "output_type": "execute_result",
          "data": {
            "text/plain": [
              "True"
            ]
          },
          "metadata": {
            "tags": []
          },
          "execution_count": 1
        }
      ]
    },
    {
      "cell_type": "markdown",
      "metadata": {
        "id": "EIQ4rEytvwLZ"
      },
      "source": [
        "## Готовим данные к работе\n",
        "\n",
        "Затем импортируем данные из подготовленного текстового файла. Файл содержит набор пар слов (только имён существительных), для которых известны экспертные оценки сходства.\n",
        "\n",
        "Строим ассоциативный массив \"пара слов -- оценка близости\"."
      ]
    },
    {
      "cell_type": "markdown",
      "metadata": {
        "id": "LL3NX9Pzg961"
      },
      "source": [
        "Предварительно преобразуем исходные данные из .csv в .tsv при помощи csv.writer(open('output.txt', 'w+'), delimiter='\\t').writerows(csv.reader(open(\"Task_4_sample_7.csv\"))).\n",
        "В notepad++ убираем пустые строки из файла и загружаем сюда."
      ]
    },
    {
      "cell_type": "code",
      "metadata": {
        "colab": {
          "base_uri": "https://localhost:8080/"
        },
        "id": "_sTFACx3dAk8",
        "outputId": "80246002-ddcc-4bdd-8a08-9088734b0ed9"
      },
      "source": [
        "with open(\"wordsim353_sample_2.txt\", encoding=\"utf-8\") as rf:\n",
        "  triples = [line.strip().split(\"\\t\") for line in rf.readlines()]\n",
        "  score_map = {tuple(triple[:2]): float(triple[2]) for triple in triples}\n",
        "  print(triples)\n",
        "  print(score_map)"
      ],
      "execution_count": 2,
      "outputs": [
        {
          "output_type": "stream",
          "text": [
            "[['bird', 'cock', '7.1'], ['start', 'year', '4.06'], ['vodka', 'brandy', '8.13'], ['bread', 'butter', '6.19'], ['cup', 'article', '2.4'], ['street', 'place', '6.44'], ['stock', 'phone', '1.62'], ['street', 'children', '4.94'], ['direction', 'combination', '2.25'], ['cemetery', 'woodland', '2.08'], ['dollar', 'yen', '7.78'], ['Harvard', 'Yale', '8.13'], ['month', 'hotel', '1.81'], ['delay', 'news', '3.31'], ['announcement', 'production', '3.38'], ['plane', 'car', '5.77'], ['mile', 'kilometer', '8.66'], ['championship', 'tournament', '8.36'], ['space', 'chemistry', '4.88'], ['minority', 'peace', '3.69'], ['food', 'fruit', '7.52'], ['coast', 'shore', '9.1'], ['precedent', 'collection', '2.5'], ['rooster', 'voyage', '0.62'], ['monk', 'oracle', '5.0'], ['cup', 'entity', '2.15'], ['midday', 'noon', '9.29'], ['school', 'center', '3.44'], ['street', 'block', '6.88'], ['asylum', 'madhouse', '8.87'], ['opera', 'performance', '6.88'], ['seafood', 'lobster', '8.7'], ['board', 'recommendation', '4.47'], ['precedent', 'example', '5.85'], ['skin', 'eye', '6.22'], ['lobster', 'wine', '5.7'], ['museum', 'theater', '7.19'], ['tiger', 'cat', '7.35'], ['atmosphere', 'landscape', '3.69'], ['reason', 'hypertension', '2.31'], ['crane', 'implement', '2.69'], ['deployment', 'departure', '4.25'], ['chord', 'smile', '0.54'], ['train', 'car', '6.31'], ['line', 'insurance', '2.69'], ['travel', 'activity', '5.0'], ['doctor', 'personnel', '5.0'], ['journal', 'association', '4.97'], ['practice', 'institution', '3.19'], ['stock', 'egg', '1.81'], ['life', 'term', '4.5'], ['glass', 'metal', '5.56'], ['Mexico', 'Brazil', '7.44'], ['governor', 'interview', '3.25'], ['money', 'currency', '9.04'], ['football', 'tennis', '6.63'], ['peace', 'atmosphere', '3.69'], ['smart', 'student', '4.62'], ['cup', 'substance', '1.92'], ['life', 'death', '7.88'], ['president', 'medal', '3.0'], ['coast', 'forest', '3.15'], ['prejudice', 'recognition', '3.0'], ['money', 'cash', '9.15'], ['viewer', 'serial', '2.97'], ['precedent', 'group', '1.77'], ['doctor', 'nurse', '7.0'], ['focus', 'life', '4.06'], ['precedent', 'antecedent', '6.04'], ['liquid', 'water', '7.89'], ['music', 'project', '3.63'], ['type', 'kind', '8.97'], ['professor', 'cucumber', '0.31'], ['word', 'similarity', '4.75'], ['sugar', 'approach', '0.88'], ['announcement', 'news', '7.56'], ['vodka', 'gin', '8.46'], ['marathon', 'sprint', '7.47'], ['architecture', 'century', '3.78'], ['five', 'month', '3.38'], ['production', 'hike', '1.75'], ['car', 'automobile', '8.94'], ['king', 'cabbage', '0.23'], ['energy', 'secretary', '1.81'], ['football', 'basketball', '6.81'], ['ministry', 'culture', '4.69'], ['theater', 'history', '3.91'], ['noon', 'string', '0.54'], ['seafood', 'food', '8.34'], ['start', 'match', '4.47'], ['monk', 'slave', '0.92'], ['image', 'surface', '4.56'], ['dividend', 'payment', '7.63'], ['drink', 'ear', '1.31'], ['peace', 'plan', '4.75'], ['computer', 'news', '4.47'], ['cup', 'object', '3.69'], ['listing', 'proximity', '2.56'], ['stock', 'CD', '1.31'], ['food', 'rooster', '4.42'], ['football', 'soccer', '9.03'], ['forest', 'graveyard', '1.85'], ['money', 'operation', '3.31'], ['dollar', 'buck', '9.22'], ['psychology', 'discipline', '5.58'], ['man', 'governor', '5.25'], ['wood', 'forest', '7.73'], ['benchmark', 'index', '4.25'], ['street', 'avenue', '8.88'], ['planet', 'sun', '8.02'], ['media', 'gain', '2.88'], ['consumer', 'energy', '4.75'], ['drink', 'mother', '2.65'], ['morality', 'importance', '3.31'], ['planet', 'moon', '8.08'], ['Japanese', 'American', '6.5'], ['morality', 'marriage', '3.69'], ['aluminum', 'metal', '7.83'], ['tiger', 'organism', '4.77'], ['king', 'queen', '8.58'], ['television', 'radio', '6.77'], ['opera', 'industry', '2.63'], ['problem', 'airport', '2.38'], ['profit', 'warning', '3.88'], ['rock', 'jazz', '7.59'], ['cucumber', 'potato', '5.92'], ['cup', 'food', '5.0'], ['calculation', 'computation', '8.44'], ['experience', 'music', '3.47'], ['furnace', 'stove', '8.79'], ['jaguar', 'cat', '7.42'], ['drink', 'car', '3.04'], ['king', 'rook', '5.92'], ['profit', 'loss', '7.63'], ['hospital', 'infrastructure', '4.63'], ['cell', 'phone', '7.81'], ['stock', 'jaguar', '0.92'], ['smart', 'stupid', '5.81'], ['lad', 'brother', '4.46'], ['shore', 'woodland', '3.08'], ['murder', 'manslaughter', '8.53'], ['tiger', 'tiger', '10.0'], ['phone', 'equipment', '7.13'], ['situation', 'isolation', '3.88'], ['media', 'trading', '3.88'], ['development', 'issue', '3.97'], ['tiger', 'mammal', '6.85'], ['century', 'year', '7.59'], ['situation', 'conclusion', '4.81'], ['Mars', 'water', '2.94']]\n",
            "{('bird', 'cock'): 7.1, ('start', 'year'): 4.06, ('vodka', 'brandy'): 8.13, ('bread', 'butter'): 6.19, ('cup', 'article'): 2.4, ('street', 'place'): 6.44, ('stock', 'phone'): 1.62, ('street', 'children'): 4.94, ('direction', 'combination'): 2.25, ('cemetery', 'woodland'): 2.08, ('dollar', 'yen'): 7.78, ('Harvard', 'Yale'): 8.13, ('month', 'hotel'): 1.81, ('delay', 'news'): 3.31, ('announcement', 'production'): 3.38, ('plane', 'car'): 5.77, ('mile', 'kilometer'): 8.66, ('championship', 'tournament'): 8.36, ('space', 'chemistry'): 4.88, ('minority', 'peace'): 3.69, ('food', 'fruit'): 7.52, ('coast', 'shore'): 9.1, ('precedent', 'collection'): 2.5, ('rooster', 'voyage'): 0.62, ('monk', 'oracle'): 5.0, ('cup', 'entity'): 2.15, ('midday', 'noon'): 9.29, ('school', 'center'): 3.44, ('street', 'block'): 6.88, ('asylum', 'madhouse'): 8.87, ('opera', 'performance'): 6.88, ('seafood', 'lobster'): 8.7, ('board', 'recommendation'): 4.47, ('precedent', 'example'): 5.85, ('skin', 'eye'): 6.22, ('lobster', 'wine'): 5.7, ('museum', 'theater'): 7.19, ('tiger', 'cat'): 7.35, ('atmosphere', 'landscape'): 3.69, ('reason', 'hypertension'): 2.31, ('crane', 'implement'): 2.69, ('deployment', 'departure'): 4.25, ('chord', 'smile'): 0.54, ('train', 'car'): 6.31, ('line', 'insurance'): 2.69, ('travel', 'activity'): 5.0, ('doctor', 'personnel'): 5.0, ('journal', 'association'): 4.97, ('practice', 'institution'): 3.19, ('stock', 'egg'): 1.81, ('life', 'term'): 4.5, ('glass', 'metal'): 5.56, ('Mexico', 'Brazil'): 7.44, ('governor', 'interview'): 3.25, ('money', 'currency'): 9.04, ('football', 'tennis'): 6.63, ('peace', 'atmosphere'): 3.69, ('smart', 'student'): 4.62, ('cup', 'substance'): 1.92, ('life', 'death'): 7.88, ('president', 'medal'): 3.0, ('coast', 'forest'): 3.15, ('prejudice', 'recognition'): 3.0, ('money', 'cash'): 9.15, ('viewer', 'serial'): 2.97, ('precedent', 'group'): 1.77, ('doctor', 'nurse'): 7.0, ('focus', 'life'): 4.06, ('precedent', 'antecedent'): 6.04, ('liquid', 'water'): 7.89, ('music', 'project'): 3.63, ('type', 'kind'): 8.97, ('professor', 'cucumber'): 0.31, ('word', 'similarity'): 4.75, ('sugar', 'approach'): 0.88, ('announcement', 'news'): 7.56, ('vodka', 'gin'): 8.46, ('marathon', 'sprint'): 7.47, ('architecture', 'century'): 3.78, ('five', 'month'): 3.38, ('production', 'hike'): 1.75, ('car', 'automobile'): 8.94, ('king', 'cabbage'): 0.23, ('energy', 'secretary'): 1.81, ('football', 'basketball'): 6.81, ('ministry', 'culture'): 4.69, ('theater', 'history'): 3.91, ('noon', 'string'): 0.54, ('seafood', 'food'): 8.34, ('start', 'match'): 4.47, ('monk', 'slave'): 0.92, ('image', 'surface'): 4.56, ('dividend', 'payment'): 7.63, ('drink', 'ear'): 1.31, ('peace', 'plan'): 4.75, ('computer', 'news'): 4.47, ('cup', 'object'): 3.69, ('listing', 'proximity'): 2.56, ('stock', 'CD'): 1.31, ('food', 'rooster'): 4.42, ('football', 'soccer'): 9.03, ('forest', 'graveyard'): 1.85, ('money', 'operation'): 3.31, ('dollar', 'buck'): 9.22, ('psychology', 'discipline'): 5.58, ('man', 'governor'): 5.25, ('wood', 'forest'): 7.73, ('benchmark', 'index'): 4.25, ('street', 'avenue'): 8.88, ('planet', 'sun'): 8.02, ('media', 'gain'): 2.88, ('consumer', 'energy'): 4.75, ('drink', 'mother'): 2.65, ('morality', 'importance'): 3.31, ('planet', 'moon'): 8.08, ('Japanese', 'American'): 6.5, ('morality', 'marriage'): 3.69, ('aluminum', 'metal'): 7.83, ('tiger', 'organism'): 4.77, ('king', 'queen'): 8.58, ('television', 'radio'): 6.77, ('opera', 'industry'): 2.63, ('problem', 'airport'): 2.38, ('profit', 'warning'): 3.88, ('rock', 'jazz'): 7.59, ('cucumber', 'potato'): 5.92, ('cup', 'food'): 5.0, ('calculation', 'computation'): 8.44, ('experience', 'music'): 3.47, ('furnace', 'stove'): 8.79, ('jaguar', 'cat'): 7.42, ('drink', 'car'): 3.04, ('king', 'rook'): 5.92, ('profit', 'loss'): 7.63, ('hospital', 'infrastructure'): 4.63, ('cell', 'phone'): 7.81, ('stock', 'jaguar'): 0.92, ('smart', 'stupid'): 5.81, ('lad', 'brother'): 4.46, ('shore', 'woodland'): 3.08, ('murder', 'manslaughter'): 8.53, ('tiger', 'tiger'): 10.0, ('phone', 'equipment'): 7.13, ('situation', 'isolation'): 3.88, ('media', 'trading'): 3.88, ('development', 'issue'): 3.97, ('tiger', 'mammal'): 6.85, ('century', 'year'): 7.59, ('situation', 'conclusion'): 4.81, ('Mars', 'water'): 2.94}\n"
          ],
          "name": "stdout"
        }
      ]
    },
    {
      "cell_type": "markdown",
      "metadata": {
        "id": "7JUR1IDaRfPm"
      },
      "source": [
        "Отметим, что из исходного набора данных мы взяли только экспертные оценки сходства (similarity) и только для существительных. Исходный набор данных доступен по [ссылке](http://alfonseca.org/pubs/ws353simrel.tar.gz)"
      ]
    },
    {
      "cell_type": "markdown",
      "metadata": {
        "id": "96B0OtKrvtaG"
      },
      "source": [
        "Посмотрим на примеры оценок. \n",
        "\n",
        "У слов может быть по несколько значений, которые различаются в WordNet. Здесь -- ради примера -- мы будем \"жадно\" выбирать первое попавшееся, но далее будем работать с ними иначе.\n",
        "\n",
        "\n"
      ]
    },
    {
      "cell_type": "code",
      "metadata": {
        "colab": {
          "base_uri": "https://localhost:8080/"
        },
        "id": "7iXamIiZgf-O",
        "outputId": "5d121016-13bc-48ea-bf7f-af0e6a0843ef"
      },
      "source": [
        "for w1, w2 in list(score_map)[:2]:\n",
        "  \n",
        "  print(\"\\nWords: %s-%s\\nGround truth score: %.2f\" % (w1, w2, score_map[(w1, w2)]))\n",
        "  \n",
        "  ss1 = wn.synset(w1 + \".n.01\")\n",
        "  ss2 = wn.synset(w2 + \".n.01\")\n",
        "\n",
        "  print(\"\\nPath: %.3f\" % ss1.path_similarity(ss2), end=\" \")\n",
        "  print(\"\\nwup: %.3f\" % ss1.wup_similarity(ss2), end=\" \")\n",
        "  print(\"\\nshortest_path: %.3f\" % ss1.shortest_path_distance(ss2))"
      ],
      "execution_count": 3,
      "outputs": [
        {
          "output_type": "stream",
          "text": [
            "\n",
            "Words: bird-cock\n",
            "Ground truth score: 7.10\n",
            "\n",
            "Path: 0.062 \n",
            "wup: 0.211 \n",
            "shortest_path: 15.000\n",
            "\n",
            "Words: start-year\n",
            "Ground truth score: 4.06\n",
            "\n",
            "Path: 0.100 \n",
            "wup: 0.308 \n",
            "shortest_path: 9.000\n"
          ],
          "name": "stdout"
        }
      ]
    },
    {
      "cell_type": "markdown",
      "metadata": {
        "id": "ZHM7tCb0vqNp"
      },
      "source": [
        "Вычисляем для всех пар несколько оценок"
      ]
    },
    {
      "cell_type": "code",
      "metadata": {
        "id": "fe7Nuglqgnd3"
      },
      "source": [
        "from itertools import product\n",
        "\n",
        "list_pairs = list(score_map)\n",
        "wup_list, true_list, path_list, ich_list = [], [], [], []\n",
        "\n",
        "# для всех пар\n",
        "for w1, w2 in list_pairs:\n",
        "\n",
        "  try:\n",
        "    all_w1 = wn.synsets(w1, pos=\"n\")\n",
        "    all_w2 = wn.synsets(w2, pos=\"n\")\n",
        "\n",
        "    # добавляем интересующие нас метрики и экспертные оценки\n",
        "    wup = max([item1.wup_similarity(item2) \\\n",
        "                for item1, item2 in product(all_w1, all_w2)])\n",
        "    wup_list.append(wup)\n",
        "\n",
        "    ich = max([item1.lch_similarity(item2) for item1, item2 in product(all_w1, all_w2)])\n",
        "    ich_list.append(ich)\n",
        "\n",
        "    path = max([item1.path_similarity(item2) \\\n",
        "                for item1, item2 in product(all_w1, all_w2)])\n",
        "    path_list.append(path)\n",
        "    \n",
        "    true_list.append(score_map[(w1, w2)])\n",
        "\n",
        "  except Exception as e:\n",
        "    print(w1, w2, \"error:\", e)"
      ],
      "execution_count": 4,
      "outputs": []
    },
    {
      "cell_type": "markdown",
      "metadata": {
        "id": "oAjuTLB0fD-I"
      },
      "source": [
        "## Вычисляем ранговую корреляцию Спирмена"
      ]
    },
    {
      "cell_type": "code",
      "metadata": {
        "colab": {
          "base_uri": "https://localhost:8080/"
        },
        "id": "fXnCdw8wxcVd",
        "outputId": "adfcf793-fcf3-44e6-f135-b5f303a850c8"
      },
      "source": [
        "from scipy.stats import spearmanr\n",
        "\n",
        "coef, p = spearmanr(wup_list, true_list)\n",
        "print(\"wup  Spearman R: %.4f\" % coef)\n",
        "\n",
        "coef, p = spearmanr(path_list, true_list)\n",
        "print(\"path Spearman R: %.4f\" % coef)\n",
        "\n",
        "coef, p = spearmanr(ich_list, true_list)\n",
        "print(\"ich Spearman R: %.4f\" % coef)\n"
      ],
      "execution_count": 5,
      "outputs": [
        {
          "output_type": "stream",
          "text": [
            "wup  Spearman R: 0.6343\n",
            "path Spearman R: 0.6254\n",
            "ich Spearman R: 0.6254\n"
          ],
          "name": "stdout"
        }
      ]
    },
    {
      "cell_type": "code",
      "metadata": {
        "colab": {
          "base_uri": "https://localhost:8080/"
        },
        "id": "lYV7fiq0bl2x",
        "outputId": "6f74ebbc-7e7b-4d83-d729-d1a4b2e11512"
      },
      "source": [
        "journey = wn.synset('dollar.n.01')\n",
        "print(len(journey.hyponyms()))\n",
        "print(journey.hyponyms()[0])"
      ],
      "execution_count": 6,
      "outputs": [
        {
          "output_type": "stream",
          "text": [
            "23\n",
            "Synset('australian_dollar.n.01')\n"
          ],
          "name": "stdout"
        }
      ]
    }
  ]
}