{
 "cells": [
  {
   "cell_type": "markdown",
   "metadata": {},
   "source": [
    "Приведем подробные инструкции для решения поставленной задачи."
   ]
  },
  {
   "cell_type": "markdown",
   "metadata": {},
   "source": [
    "Сначала обновим и установим необходимые модули."
   ]
  },
  {
   "cell_type": "code",
   "execution_count": 8,
   "metadata": {},
   "outputs": [
    {
     "name": "stdout",
     "output_type": "stream",
     "text": [
      "Defaulting to user installation because normal site-packages is not writeable\n",
      "Requirement already satisfied: pip in c:\\users\\r_krllv\\appdata\\roaming\\python\\python37\\site-packages (21.1.2)\n",
      "Defaulting to user installation because normal site-packages is not writeable\n",
      "Requirement already satisfied: imutils in c:\\users\\r_krllv\\appdata\\roaming\\python\\python37\\site-packages (0.5.4)\n",
      "Defaulting to user installation because normal site-packages is not writeable\n",
      "Requirement already satisfied: opencv-python in c:\\users\\r_krllv\\appdata\\roaming\\python\\python37\\site-packages (4.5.1.48)\n",
      "Requirement already satisfied: numpy>=1.14.5 in c:\\users\\r_krllv\\appdata\\roaming\\python\\python37\\site-packages (from opencv-python) (1.19.5)\n",
      "Defaulting to user installation because normal site-packages is not writeable\n",
      "Requirement already satisfied: scikit-learn==0.23.0 in c:\\users\\r_krllv\\appdata\\roaming\\python\\python37\\site-packages (0.23.0)\n",
      "Requirement already satisfied: threadpoolctl>=2.0.0 in c:\\users\\r_krllv\\appdata\\roaming\\python\\python37\\site-packages (from scikit-learn==0.23.0) (2.1.0)\n",
      "Requirement already satisfied: scipy>=0.19.1 in c:\\users\\r_krllv\\appdata\\roaming\\python\\python37\\site-packages (from scikit-learn==0.23.0) (1.6.1)\n",
      "Requirement already satisfied: joblib>=0.11 in c:\\users\\r_krllv\\appdata\\roaming\\python\\python37\\site-packages (from scikit-learn==0.23.0) (1.0.1)\n",
      "Requirement already satisfied: numpy>=1.13.3 in c:\\users\\r_krllv\\appdata\\roaming\\python\\python37\\site-packages (from scikit-learn==0.23.0) (1.19.5)\n"
     ]
    }
   ],
   "source": [
    "!pip install --upgrade pip\n",
    "!pip install imutils\n",
    "!pip install opencv-python\n",
    "!pip install --upgrade scikit-learn==0.23.0"
   ]
  },
  {
   "cell_type": "markdown",
   "metadata": {},
   "source": [
    "Подключение базовых библиотек для обработки изображений"
   ]
  },
  {
   "cell_type": "code",
   "execution_count": 9,
   "metadata": {},
   "outputs": [],
   "source": [
    "from IPython.display import Image\n",
    "from imutils import paths\n",
    "import numpy as np\n",
    "import cv2\n",
    "import os"
   ]
  },
  {
   "cell_type": "markdown",
   "metadata": {},
   "source": [
    "Для работы с изображениями, найдем их гистограммы — характеристики распределения интенсивности изображения. Для этого можно воспользоваться следующим методом."
   ]
  },
  {
   "cell_type": "code",
   "execution_count": 10,
   "metadata": {},
   "outputs": [],
   "source": [
    "def extract_histogram(image, bins=(8, 8, 8)):\n",
    "    hist = cv2.calcHist([image], [0, 1, 2], None, bins, [0, 256, 0, 256, 0, 256])\n",
    "    cv2.normalize(hist, hist)\n",
    "    return hist.flatten()"
   ]
  },
  {
   "cell_type": "markdown",
   "metadata": {},
   "source": [
    "Считаем изображения из корневой папки train и вычислим гистограмму каждого изображения. Кроме того, отделим метку каждого изображения. Обработка большого числа изображений в облачных сервисах занимает длительное время (1-5 минут)."
   ]
  },
  {
   "cell_type": "code",
   "execution_count": 14,
   "metadata": {},
   "outputs": [
    {
     "data": {
      "text/plain": [
       "[]"
      ]
     },
     "execution_count": 14,
     "metadata": {},
     "output_type": "execute_result"
    }
   ],
   "source": [
    "imagePaths = sorted(list(paths.list_images('train')))\n",
    "trainData = []\n",
    "labels = []\n",
    "\n",
    "for (i, imagePath) in enumerate(imagePaths):\n",
    "    image = cv2.imread(imagePath, 1)\n",
    "    label = imagePath.split(os.path.sep)[-1].split(\".\")[0]\n",
    "    hist = extract_histogram(image)\n",
    "    trainData.append(hist)\n",
    "    labels.append(label)\n",
    "\n",
    "labels"
   ]
  },
  {
   "cell_type": "markdown",
   "metadata": {},
   "source": [
    "Преобразуем метки в удобный формат 0 и 1. Cat заменяем на 1, Dog на 0."
   ]
  },
  {
   "cell_type": "code",
   "execution_count": 12,
   "metadata": {},
   "outputs": [],
   "source": [
    "Y = [1 if x == 'cat' else 0 for x in labels]"
   ]
  },
  {
   "cell_type": "code",
   "execution_count": 13,
   "metadata": {},
   "outputs": [
    {
     "ename": "IndexError",
     "evalue": "list index out of range",
     "output_type": "error",
     "traceback": [
      "\u001b[1;31m---------------------------------------------------------------------------\u001b[0m",
      "\u001b[1;31mIndexError\u001b[0m                                Traceback (most recent call last)",
      "\u001b[1;32m<ipython-input-13-93b342e6ae49>\u001b[0m in \u001b[0;36m<module>\u001b[1;34m\u001b[0m\n\u001b[1;32m----> 1\u001b[1;33m \u001b[0mprint\u001b[0m\u001b[1;33m(\u001b[0m\u001b[0mY\u001b[0m\u001b[1;33m[\u001b[0m\u001b[1;36m0\u001b[0m\u001b[1;33m]\u001b[0m\u001b[1;33m)\u001b[0m\u001b[1;33m\u001b[0m\u001b[1;33m\u001b[0m\u001b[0m\n\u001b[0m\u001b[0;32m      2\u001b[0m \u001b[0mImage\u001b[0m\u001b[1;33m(\u001b[0m\u001b[0mfilename\u001b[0m\u001b[1;33m=\u001b[0m\u001b[0mimagePaths\u001b[0m\u001b[1;33m[\u001b[0m\u001b[1;36m0\u001b[0m\u001b[1;33m]\u001b[0m\u001b[1;33m)\u001b[0m\u001b[1;33m\u001b[0m\u001b[1;33m\u001b[0m\u001b[0m\n",
      "\u001b[1;31mIndexError\u001b[0m: list index out of range"
     ]
    }
   ],
   "source": [
    "print(Y[0])\n",
    "Image(filename=imagePaths[0])"
   ]
  },
  {
   "cell_type": "markdown",
   "metadata": {},
   "source": [
    "Видно, что классом 1 у нас занумерованы коты (кошки)."
   ]
  },
  {
   "cell_type": "markdown",
   "metadata": {},
   "source": [
    "Обучаем первый базовый классификатор - бэггинг деревьев принятия решений"
   ]
  },
  {
   "cell_type": "code",
   "execution_count": 9,
   "metadata": {},
   "outputs": [
    {
     "data": {
      "text/plain": [
       "BaggingClassifier(base_estimator=DecisionTreeClassifier(criterion='entropy',\n",
       "                                                        max_leaf_nodes=30,\n",
       "                                                        min_samples_leaf=20,\n",
       "                                                        random_state=2020),\n",
       "                  random_state=2020)"
      ]
     },
     "execution_count": 9,
     "metadata": {},
     "output_type": "execute_result"
    }
   ],
   "source": [
    "from sklearn.ensemble import BaggingClassifier\n",
    "from sklearn.tree import DecisionTreeClassifier\n",
    "\n",
    "tree = DecisionTreeClassifier(criterion='entropy', #критерий разделения\n",
    "                              min_samples_leaf=20, #минимальное число объектов в листе\n",
    "                              max_leaf_nodes=30, #максимальное число листьев\n",
    "                              random_state=2020)\n",
    "bagging = BaggingClassifier(tree, #базовый алгоритм\n",
    "                            n_estimators=10, #количество деревьев\n",
    "                            random_state=2020)\n",
    "bagging.fit(trainData, Y)"
   ]
  },
  {
   "cell_type": "markdown",
   "metadata": {},
   "source": [
    "Теперь обучим модель почти-разделяющий гиперплосоксти."
   ]
  },
  {
   "cell_type": "code",
   "execution_count": 10,
   "metadata": {},
   "outputs": [
    {
     "data": {
      "text/plain": [
       "LinearSVC(C=1, random_state=51)"
      ]
     },
     "execution_count": 10,
     "metadata": {},
     "output_type": "execute_result"
    }
   ],
   "source": [
    "from sklearn.svm import LinearSVC\n",
    "\n",
    "svm = LinearSVC(random_state = 51, C = 1)\n",
    "svm.fit(trainData, Y)"
   ]
  },
  {
   "cell_type": "markdown",
   "metadata": {},
   "source": [
    "И наконец обучаем третий базовый алгоритм — случайный лес"
   ]
  },
  {
   "cell_type": "code",
   "execution_count": 11,
   "metadata": {},
   "outputs": [
    {
     "data": {
      "text/plain": [
       "RandomForestClassifier(criterion='entropy', max_leaf_nodes=30,\n",
       "                       min_samples_leaf=20, n_estimators=10, random_state=2020)"
      ]
     },
     "execution_count": 11,
     "metadata": {},
     "output_type": "execute_result"
    }
   ],
   "source": [
    "from sklearn.ensemble import RandomForestClassifier\n",
    "\n",
    "forest = RandomForestClassifier(n_estimators=10, #количество деревьев\n",
    "                             criterion='entropy', #критерий разделения\n",
    "                              min_samples_leaf=20, #минимальное число объектов в листе\n",
    "                              max_leaf_nodes=30, #максимальное число листьев\n",
    "                              random_state=2020)\n",
    "forest.fit(trainData, Y)"
   ]
  },
  {
   "cell_type": "markdown",
   "metadata": {},
   "source": [
    "Задаем в качестве решающего метаалгоритма логистическую регрессию:"
   ]
  },
  {
   "cell_type": "code",
   "execution_count": 12,
   "metadata": {},
   "outputs": [],
   "source": [
    "from sklearn.linear_model import LogisticRegression\n",
    "\n",
    "lr = LogisticRegression(solver='lbfgs', random_state=2020)"
   ]
  },
  {
   "cell_type": "markdown",
   "metadata": {},
   "source": [
    "Обучаем метаалгоритм"
   ]
  },
  {
   "cell_type": "code",
   "execution_count": 13,
   "metadata": {},
   "outputs": [
    {
     "data": {
      "text/plain": [
       "StackingClassifier(cv=2,\n",
       "                   estimators=[('SVM', LinearSVC(C=1, random_state=51)),\n",
       "                               ('Bagging DT',\n",
       "                                BaggingClassifier(base_estimator=DecisionTreeClassifier(criterion='entropy',\n",
       "                                                                                        max_leaf_nodes=30,\n",
       "                                                                                        min_samples_leaf=20,\n",
       "                                                                                        random_state=2020),\n",
       "                                                  random_state=2020)),\n",
       "                               ('DecisionForest',\n",
       "                                RandomForestClassifier(criterion='entropy',\n",
       "                                                       max_leaf_nodes=30,\n",
       "                                                       min_samples_leaf=20,\n",
       "                                                       n_estimators=10,\n",
       "                                                       random_state=2020))],\n",
       "                   final_estimator=LogisticRegression(random_state=2020))"
      ]
     },
     "execution_count": 13,
     "metadata": {},
     "output_type": "execute_result"
    }
   ],
   "source": [
    "from sklearn.ensemble import StackingClassifier\n",
    "\n",
    "base_estimators = [('SVM', svm), ('Bagging DT', bagging), ('DecisionForest', forest)]\n",
    "sclf = StackingClassifier(estimators=base_estimators, final_estimator=lr, cv=2)\n",
    "sclf.fit(trainData, Y)"
   ]
  },
  {
   "cell_type": "markdown",
   "metadata": {},
   "source": [
    "Оценка метамодели. Доля правильной классификации (Accuracy):"
   ]
  },
  {
   "cell_type": "code",
   "execution_count": 14,
   "metadata": {},
   "outputs": [
    {
     "data": {
      "text/plain": [
       "0.83"
      ]
     },
     "execution_count": 14,
     "metadata": {},
     "output_type": "execute_result"
    }
   ],
   "source": [
    "sclf.score(trainData, Y)"
   ]
  },
  {
   "cell_type": "markdown",
   "metadata": {},
   "source": [
    "Вычислим предсказания для объекта из папки test"
   ]
  },
  {
   "cell_type": "code",
   "execution_count": 15,
   "metadata": {},
   "outputs": [],
   "source": [
    "singleImage = cv2.imread('test/dog.1041.jpg')\n",
    "histt = extract_histogram(singleImage)\n",
    "histt2 = histt.reshape(1, -1)\n",
    "prediction = sclf.predict(histt2)"
   ]
  },
  {
   "cell_type": "code",
   "execution_count": 16,
   "metadata": {},
   "outputs": [
    {
     "data": {
      "image/jpeg": "[encoded data removed]",
      "text/plain": [
       "<IPython.core.display.Image object>"
      ]
     },
     "execution_count": 16,
     "metadata": {},
     "output_type": "execute_result"
    }
   ],
   "source": [
    "Image(filename='test/dog.1041.jpg')"
   ]
  },
  {
   "cell_type": "code",
   "execution_count": 17,
   "metadata": {},
   "outputs": [
    {
     "data": {
      "text/plain": [
       "array([0])"
      ]
     },
     "execution_count": 17,
     "metadata": {},
     "output_type": "execute_result"
    }
   ],
   "source": [
    "prediction"
   ]
  },
  {
   "cell_type": "code",
   "execution_count": 18,
   "metadata": {},
   "outputs": [
    {
     "data": {
      "text/plain": [
       "array([[0.61690765, 0.38309235]])"
      ]
     },
     "execution_count": 18,
     "metadata": {},
     "output_type": "execute_result"
    }
   ],
   "source": [
    "sclf.predict_proba(histt2)"
   ]
  },
  {
   "cell_type": "markdown",
   "metadata": {},
   "source": [
    "Видно, что построенный классификатор успешно справился с заданием."
   ]
  }
 ],
 "metadata": {
  "kernelspec": {
   "display_name": "Python 3",
   "language": "python",
   "name": "python3"
  },
  "language_info": {
   "codemirror_mode": {
    "name": "ipython",
    "version": 3
   },
   "file_extension": ".py",
   "mimetype": "text/x-python",
   "name": "python",
   "nbconvert_exporter": "python",
   "pygments_lexer": "ipython3",
   "version": "3.7.8"
  }
 },
 "nbformat": 4,
 "nbformat_minor": 4
}
